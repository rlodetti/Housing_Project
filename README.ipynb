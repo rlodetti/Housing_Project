{
 "cells": [
  {
   "cell_type": "markdown",
   "metadata": {},
   "source": [
    "# Housing Project\n",
    "***\n",
    "\n",
    "**Author:** Ron Lodetti Jr."
   ]
  },
  {
   "cell_type": "markdown",
   "metadata": {},
   "source": [
    "<img src=\"./images/housing.jpg\">"
   ]
  },
  {
   "cell_type": "markdown",
   "metadata": {},
   "source": [
    "## Overview\n",
    "***\n",
    "This project analyzes housing data from [King County Assessor Data](https://info.kingcounty.gov/assessor/DataDownload/default.aspx) to help a startup create an app to find and recommend housing deals. Statistical analysis of this data shows that **square footage** of living space, whether or not the property is on a **waterfront**, and its **zip code** are the best predictors of sale price. Further data collection and analysis should be done to develop a more reliable model."
   ]
  },
  {
   "cell_type": "markdown",
   "metadata": {},
   "source": [
    "## Business Understanding\n",
    "***\n",
    "A new startup is developing an app to help consumers find the best deals on home purchases. The company would like to beta test in King County, Washington before expanding into other markets. My task is to analyze the housing data to find what features of a property best determine the sale price. The company will use this information to recommend properties to customers which are priced below the model's price."
   ]
  },
  {
   "cell_type": "markdown",
   "metadata": {},
   "source": [
    "## Data Understanding\n",
    "*** \n",
    "For this project I used the dataset provided by the Flatiron School which comes from [King County Assessor Data](https://info.kingcounty.gov/assessor/DataDownload/default.aspx) \n",
    "\n",
    "\n",
    "I merged the original dataset with three other data sets from [King County Assessor Data](https://info.kingcounty.gov/assessor/DataDownload/default.aspx):\n",
    "\n",
    "- Residential Building\n",
    "- Parcel\n",
    "- Real Property Sales\n",
    "\n",
    "As well as a dataset from [OpenDataSoft](https://data.opendatasoft.com/) to gather information about King County zip codes.\n",
    "\n",
    "Once merged, it consisted of 47,579 property sales, each containing information on 19 unique variables. "
   ]
  },
  {
   "cell_type": "markdown",
   "metadata": {},
   "source": [
    "## Modeling\n",
    "***\n",
    "Since I only have a sample of the data, that is, the price of homes that have sold and not the price of all of the homes in King County, WA, I have decided to statistical analysis. This will allow me to make inferences based the sample data I have. "
   ]
  },
  {
   "cell_type": "markdown",
   "metadata": {},
   "source": [
    "### Initial Feature Selection\n",
    "To begin deciding what features to include in my model, I looked at how each variable correlated with `price` and chose `sqft_living`, `grade`, `bathrooms`, `bedrooms`, `view`, `sqft_basement`, `waterfront` and `greenbelt`. I also decided to include `zipcode`, to account for changes in price based on location of the property.\n",
    "\n",
    "\n",
    "I then created a heatmap to check for multicollinerity between the predictors and removed `grade` as it was highly correlated with `sqft_living` and had a slightly lower correlation with `price`. "
   ]
  },
  {
   "cell_type": "markdown",
   "metadata": {},
   "source": [
    "### Baseline Model\n",
    "Since `sqft_living` is the feature with the strongest correlation, I will use this for my baseline model.<br> \n",
    "**Target Variable:** price <br> \n",
    "**Predictor Variable:** sqft_living"
   ]
  },
  {
   "cell_type": "markdown",
   "metadata": {},
   "source": [
    "<img src=\"./images/sqft.jpg\" width=\"450\" \n",
    "     height=\"600\" >"
   ]
  },
  {
   "cell_type": "markdown",
   "metadata": {},
   "source": [
    "#### Baseline Interpretation Model\n",
    "The baseline model is statistically significant and explains about 42% of the variance in price. In a typical prediction, the model is off by about \\\\$305k.\n",
    "\n",
    "The intercept is at about \\\\$145,700. This means that a house with the zero square footage of living space in the home would sell for \\\\\\$145,700.\n",
    "The coefficient for `sqft_living` is about \\\\$423. This means for each increase of 1 square foot of living space in the home, we see an associated increase of about \\\\$423."
   ]
  },
  {
   "cell_type": "markdown",
   "metadata": {},
   "source": [
    "### Recursive Feature Elimination\n",
    "To begin my model iteration, I included all of the relevant features. Then I removed one feature at a time starting with any feature with a p-value larger than 0.01. Then I removed the feature with the smallest absolute coefficient as that means it has the least effect of `price`. I used the adjusted R-squared value, Mean Absolute Error, and Conditional Number to judge the model and help me decide when to stop removing features. I have also normalized each numeric feature to make it easier to compare their coefficients. \n",
    "\n",
    "Here is a table which includes the records the metrics for each iteration as well as what changed between each iteration. \n",
    "\n",
    "**Target Variable:** price <br> \n",
    "**Predictor Variables:**\n",
    "- sqft_living_norm \n",
    "- bathrooms_norm\n",
    "- bedrooms_norm \n",
    "- view_norm\n",
    "- sqft_basement_norm\n",
    "- greenbelt\n",
    "- waterfront\n",
    "- zipcode"
   ]
  },
  {
   "cell_type": "markdown",
   "metadata": {},
   "source": [
    "<img src=\"./images/iter_table.png\">"
   ]
  },
  {
   "cell_type": "markdown",
   "metadata": {},
   "source": [
    "### Final Model\n",
    "I decided to have my final model be the step where `greenbelt` was dropped (index = 8) because the the Adjusted R-Squared was high, the Mean Absolute Error was relatively low, and the Conditional Number didn't seem to improve much as the iteration continued. \n",
    "\n",
    "**Target Variable:** price <br>\n",
    "**Predictor Variables:** sqft_living_norm, waterfront, and 65 different zip codes."
   ]
  },
  {
   "cell_type": "markdown",
   "metadata": {},
   "source": [
    "<img src=\"./images/waterfront.jpg\" width=\"450\" \n",
    "     height=\"600\" > <img src=\"./images/zipcodes.jpg\" width=\"450\" \n",
    "     height=\"600\" >"
   ]
  },
  {
   "cell_type": "markdown",
   "metadata": {},
   "source": [
    "## Regression Results\n",
    "***\n",
    "The final model is statistically significant and explains about 72% of the variance in price, a large improvement over the original 42%. The Mean Absolute Error has also improved from \\\\$305k to \\\\$197k.\n",
    "\n",
    "The intercept is at about \\\\$865,700. This represents the predicted price of a property with the average square footage of living space, not on a waterfront, and in a King County zip code not included in our model. \n",
    "\n",
    "The coefficient for `sqft_living_norm` is about \\\\$292,100. This means for each increase of 1 standard deviation of square foot of living space in the home, we see an associated increase of about \\\\$292,100. Since the standard deviation of `sqft_living` is about 836, for every increase of 1 square foot of living space, we can expect and increase of about \\\\$349 in sale price. \n",
    "\n",
    "The coefficient for `waterfront` is about \\\\$480,200, which means we can expect a home on a waterfront to have an increase in sales price of \\\\$480,200. \n",
    "\n",
    "Since we have 65 `zipcode` features, it would be more helpful describe their overall shape than to go one by one. Each `zipcode` coefficient represents the predicted change in sale price for properties located within that zip code.\n",
    "\n",
    "All of the coefficients are statistically significant."
   ]
  },
  {
   "cell_type": "markdown",
   "metadata": {},
   "source": [
    "### Model Evaluation\n",
    "Next I checked our assumptions when using linear regression and found that:\n",
    "\n",
    "- There is likely not a linear relationship between the variables and\n",
    "- the residuals are not completely distributed normally.\n",
    "\n",
    "Since our model fails at two of the assumptions underlying linear regression, we cannot be  be confident in it's results, despite the high R-squared value. "
   ]
  },
  {
   "cell_type": "markdown",
   "metadata": {},
   "source": [
    "## Conclusion\n",
    "***\n",
    "Based on our final model, the three features which best determine sale price are:\n",
    "* **sqft_living** - Square footage of living space in the home\n",
    "* **waterfront** - Whether the house is on a waterfront\n",
    "* **zipcode** - The 5-digit zip code assigned by the U.S. Postal Service. Only includes zip codes in King County, WA.\n",
    "\n",
    "I would advise the startup to gather these three pieces of data for houses currently on the market in King County, WA and recommend houses where the sale price is below what our model would determine.  "
   ]
  },
  {
   "cell_type": "markdown",
   "metadata": {},
   "source": [
    "### Limitations\n",
    "There does not appear to be a linear relationship between our predictor and target variables. The residuals of our final model are also not normally distributed. Failing these two assumptions for linear regression should cast doubt as to the results of the model. This indicates that there are likely other factors that affect price which are not included in the model.\n",
    "\n",
    "Despite including more data than the original dataset, we are still limited by our dataset, which doesn't include other factors in determining price, such as the federal interest rate at the time of the sale, housing availability, and other qualities of the neighborhood where each property is located. "
   ]
  },
  {
   "cell_type": "markdown",
   "metadata": {},
   "source": [
    "### Next Steps\n",
    "Based on this project's limitations, I would recommend we:\n",
    "- gather more data to include other factors that determine sale price and\n",
    "- create new models with include interaction variables to account for the potential non-linear relationship between variables"
   ]
  },
  {
   "cell_type": "markdown",
   "metadata": {},
   "source": [
    "## For More Information\n",
    "\n",
    "See the full analysis in the [Jupyter Notebook](./housing_project.ipynb) or review this [presentation](./housing_project_presentation.pdf).\n",
    "\n",
    "For additional info, contact Ron Lodetti at [ron.lodetti@gmail.com](mailto:ron.lodetti@gmail.com)"
   ]
  },
  {
   "cell_type": "markdown",
   "metadata": {},
   "source": [
    "## Repository Structure\n",
    "\n",
    "```\n",
    "├── code\n",
    "│   ├── __init__.py\n",
    "│   ├── data_prep.py\n",
    "│   └── data_modeling.py\n",
    "├── data\n",
    "├── images\n",
    "├── README.md\n",
    "├── requirements.txt\n",
    "├── housing_project_presentation.pdf\n",
    "└── housing_project.ipynb\n",
    "\n",
    "\n",
    "```"
   ]
  }
 ],
 "metadata": {
  "kernelspec": {
   "display_name": "Python (learn-env3)",
   "language": "python",
   "name": "learn-env3"
  },
  "language_info": {
   "codemirror_mode": {
    "name": "ipython",
    "version": 3
   },
   "file_extension": ".py",
   "mimetype": "text/x-python",
   "name": "python",
   "nbconvert_exporter": "python",
   "pygments_lexer": "ipython3",
   "version": "3.8.5"
  }
 },
 "nbformat": 4,
 "nbformat_minor": 4
}
