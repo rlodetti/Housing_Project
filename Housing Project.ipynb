{
 "cells": [
  {
   "cell_type": "markdown",
   "metadata": {},
   "source": [
    "# Housing Project\n",
    "\n",
    "**Author:** Ron Lodetti Jr.\n",
    "***"
   ]
  },
  {
   "cell_type": "markdown",
   "metadata": {},
   "source": [
    "# Overview\n"
   ]
  },
  {
   "cell_type": "markdown",
   "metadata": {},
   "source": [
    "A one-paragraph overview of the project, including the business problem, data, methods, results and recommendations.\n",
    "***\n",
    "[Need To Do]"
   ]
  },
  {
   "cell_type": "markdown",
   "metadata": {},
   "source": [
    "# Business Problem"
   ]
  },
  {
   "cell_type": "markdown",
   "metadata": {},
   "source": [
    "Summary of the business problem you are trying to solve, and the data questions that you plan to answer to solve them.\n",
    "\n",
    "Questions to consider:\n",
    "\n",
    "What are the business's pain points related to this project?\n",
    "How did you pick the data analysis question(s) that you did?\n",
    "Why are these questions important from a business perspective?\n",
    "\n",
    "***\n",
    "A new startup is developing an app to help consumers find the best deals on home purchases. The company would like to beta test in King County, Washington before expanding into other markets. My task is to analyze the housing data to best determine what features of a property best predict the sale price. The company will use this information to recommendation properties to customers which are priced below the model's prediction."
   ]
  },
  {
   "cell_type": "markdown",
   "metadata": {},
   "source": [
    "# Data Understanding"
   ]
  },
  {
   "cell_type": "markdown",
   "metadata": {},
   "source": [
    "Describe the data being used for this project.\n",
    "***\n",
    "Questions to consider:\n",
    "* Where did the data come from, and how do they relate to the data analysis questions?\n",
    "* What do the data represent? Who is in the sample and what variables are included?\n",
    "* What is the target variable?\n",
    "* What are the properties of the variables you intend to use?\n",
    "***\n",
    "\n",
    "[On it's own page]"
   ]
  },
  {
   "cell_type": "code",
   "execution_count": 1,
   "metadata": {
    "ExecuteTime": {
     "end_time": "2023-06-21T10:54:12.608646Z",
     "start_time": "2023-06-21T10:54:11.481784Z"
    }
   },
   "outputs": [],
   "source": [
    "# Import standard packages\n",
    "import pandas as pd\n",
    "import numpy as np\n",
    "import matplotlib.pyplot as plt\n",
    "import seaborn as sns\n",
    "import statsmodels.api as sm"
   ]
  },
  {
   "cell_type": "code",
   "execution_count": 2,
   "metadata": {
    "ExecuteTime": {
     "end_time": "2023-06-21T10:54:15.134264Z",
     "start_time": "2023-06-21T10:54:12.614290Z"
    }
   },
   "outputs": [],
   "source": [
    "# Loading the datasets.\n",
    "orig_df = pd.read_csv('data/original.csv')\n",
    "res = pd.read_csv('data/residential.csv', low_memory=False)\n",
    "parcel = pd.read_csv('data/parcel.csv', low_memory=False)\n",
    "sales = pd.read_csv('data/sales.csv', low_memory=False)\n",
    "ods = pd.read_csv('data/open_datasoft.csv')\n",
    "pd.set_option(\"mode.chained_assignment\", None)"
   ]
  },
  {
   "cell_type": "markdown",
   "metadata": {},
   "source": [
    "### Original Dataset\n",
    "For this project I used the dataset provided by the Flatiron School which comes from [King County Assessor Data](https://info.kingcounty.gov/assessor/DataDownload/default.aspx) \n",
    "\n",
    "Here are the variables I used, including their descriptions:\n",
    "* **id** - Unique identifier for a house\n",
    "* **date** - Date house was sold\n",
    "* **price** - Sale price (prediction target)\n",
    "* **bedrooms** - Number of bedrooms\n",
    "* **bathrooms** - Number of bathrooms\n",
    "* **sqft_living** - Square footage of living space in the home\n",
    "* **sqft_lot** - Square footage of the lot\n",
    "* **floors** - Number of floors (levels) in house\n",
    "* **waterfront** - Whether the house is on a waterfront\n",
    "* **greenbelt** - Whether the house is adjacent to a green belt\n",
    "* **nuisance** - Whether the house has traffic noise or other recorded nuisances\n",
    "* **view** - Quality of view from house\n",
    "* **condition** - How good the overall condition of the house is. Related to maintenance of house.\n",
    "* **grade** - Overall grade of the house. Related to the construction and design of the house.\n",
    "* **sqft_basement** - Square footage of the basement\n",
    "* **yr_built** - Year when house was built\n",
    "* **yr_renovated** - Year when house was renovated\n",
    "* **address** - The street address"
   ]
  },
  {
   "cell_type": "code",
   "execution_count": 3,
   "metadata": {
    "ExecuteTime": {
     "end_time": "2023-06-21T10:54:15.161932Z",
     "start_time": "2023-06-21T10:54:15.137208Z"
    },
    "scrolled": true
   },
   "outputs": [
    {
     "name": "stdout",
     "output_type": "stream",
     "text": [
      "<class 'pandas.core.frame.DataFrame'>\n",
      "RangeIndex: 30155 entries, 0 to 30154\n",
      "Data columns (total 18 columns):\n",
      " #   Column         Non-Null Count  Dtype  \n",
      "---  ------         --------------  -----  \n",
      " 0   id             30155 non-null  int64  \n",
      " 1   date           30155 non-null  object \n",
      " 2   price          30155 non-null  float64\n",
      " 3   bedrooms       30155 non-null  int64  \n",
      " 4   bathrooms      30155 non-null  float64\n",
      " 5   sqft_living    30155 non-null  int64  \n",
      " 6   sqft_lot       30155 non-null  int64  \n",
      " 7   floors         30155 non-null  float64\n",
      " 8   waterfront     30155 non-null  object \n",
      " 9   greenbelt      30155 non-null  object \n",
      " 10  nuisance       30155 non-null  object \n",
      " 11  view           30155 non-null  object \n",
      " 12  condition      30155 non-null  object \n",
      " 13  grade          30155 non-null  object \n",
      " 14  sqft_basement  30155 non-null  int64  \n",
      " 15  yr_built       30155 non-null  int64  \n",
      " 16  yr_renovated   30155 non-null  int64  \n",
      " 17  address        30155 non-null  object \n",
      "dtypes: float64(3), int64(7), object(8)\n",
      "memory usage: 4.1+ MB\n"
     ]
    }
   ],
   "source": [
    "orig_df.info()"
   ]
  },
  {
   "cell_type": "code",
   "execution_count": 4,
   "metadata": {
    "ExecuteTime": {
     "end_time": "2023-06-21T10:54:15.202718Z",
     "start_time": "2023-06-21T10:54:15.164649Z"
    }
   },
   "outputs": [
    {
     "data": {
      "text/html": [
       "<div>\n",
       "<style scoped>\n",
       "    .dataframe tbody tr th:only-of-type {\n",
       "        vertical-align: middle;\n",
       "    }\n",
       "\n",
       "    .dataframe tbody tr th {\n",
       "        vertical-align: top;\n",
       "    }\n",
       "\n",
       "    .dataframe thead th {\n",
       "        text-align: right;\n",
       "    }\n",
       "</style>\n",
       "<table border=\"1\" class=\"dataframe\">\n",
       "  <thead>\n",
       "    <tr style=\"text-align: right;\">\n",
       "      <th></th>\n",
       "      <th>id</th>\n",
       "      <th>date</th>\n",
       "      <th>price</th>\n",
       "      <th>bedrooms</th>\n",
       "      <th>bathrooms</th>\n",
       "      <th>sqft_living</th>\n",
       "      <th>sqft_lot</th>\n",
       "      <th>floors</th>\n",
       "      <th>waterfront</th>\n",
       "      <th>greenbelt</th>\n",
       "      <th>nuisance</th>\n",
       "      <th>view</th>\n",
       "      <th>condition</th>\n",
       "      <th>grade</th>\n",
       "      <th>sqft_basement</th>\n",
       "      <th>yr_built</th>\n",
       "      <th>yr_renovated</th>\n",
       "      <th>address</th>\n",
       "    </tr>\n",
       "  </thead>\n",
       "  <tbody>\n",
       "    <tr>\n",
       "      <th>0</th>\n",
       "      <td>7399300360</td>\n",
       "      <td>5/24/2022</td>\n",
       "      <td>675000.0</td>\n",
       "      <td>4</td>\n",
       "      <td>1.0</td>\n",
       "      <td>1180</td>\n",
       "      <td>7140</td>\n",
       "      <td>1.0</td>\n",
       "      <td>NO</td>\n",
       "      <td>NO</td>\n",
       "      <td>NO</td>\n",
       "      <td>NONE</td>\n",
       "      <td>Good</td>\n",
       "      <td>7 Average</td>\n",
       "      <td>0</td>\n",
       "      <td>1969</td>\n",
       "      <td>0</td>\n",
       "      <td>2102 Southeast 21st Court, Renton, Washington ...</td>\n",
       "    </tr>\n",
       "    <tr>\n",
       "      <th>1</th>\n",
       "      <td>8910500230</td>\n",
       "      <td>12/13/2021</td>\n",
       "      <td>920000.0</td>\n",
       "      <td>5</td>\n",
       "      <td>2.5</td>\n",
       "      <td>2770</td>\n",
       "      <td>6703</td>\n",
       "      <td>1.0</td>\n",
       "      <td>NO</td>\n",
       "      <td>NO</td>\n",
       "      <td>YES</td>\n",
       "      <td>AVERAGE</td>\n",
       "      <td>Average</td>\n",
       "      <td>7 Average</td>\n",
       "      <td>1570</td>\n",
       "      <td>1950</td>\n",
       "      <td>0</td>\n",
       "      <td>11231 Greenwood Avenue North, Seattle, Washing...</td>\n",
       "    </tr>\n",
       "    <tr>\n",
       "      <th>2</th>\n",
       "      <td>1180000275</td>\n",
       "      <td>9/29/2021</td>\n",
       "      <td>311000.0</td>\n",
       "      <td>6</td>\n",
       "      <td>2.0</td>\n",
       "      <td>2880</td>\n",
       "      <td>6156</td>\n",
       "      <td>1.0</td>\n",
       "      <td>NO</td>\n",
       "      <td>NO</td>\n",
       "      <td>NO</td>\n",
       "      <td>AVERAGE</td>\n",
       "      <td>Average</td>\n",
       "      <td>7 Average</td>\n",
       "      <td>1580</td>\n",
       "      <td>1956</td>\n",
       "      <td>0</td>\n",
       "      <td>8504 South 113th Street, Seattle, Washington 9...</td>\n",
       "    </tr>\n",
       "  </tbody>\n",
       "</table>\n",
       "</div>"
      ],
      "text/plain": [
       "           id        date     price  bedrooms  bathrooms  sqft_living  \\\n",
       "0  7399300360   5/24/2022  675000.0         4        1.0         1180   \n",
       "1  8910500230  12/13/2021  920000.0         5        2.5         2770   \n",
       "2  1180000275   9/29/2021  311000.0         6        2.0         2880   \n",
       "\n",
       "   sqft_lot  floors waterfront greenbelt nuisance     view condition  \\\n",
       "0      7140     1.0         NO        NO       NO     NONE      Good   \n",
       "1      6703     1.0         NO        NO      YES  AVERAGE   Average   \n",
       "2      6156     1.0         NO        NO       NO  AVERAGE   Average   \n",
       "\n",
       "       grade  sqft_basement  yr_built  yr_renovated  \\\n",
       "0  7 Average              0      1969             0   \n",
       "1  7 Average           1570      1950             0   \n",
       "2  7 Average           1580      1956             0   \n",
       "\n",
       "                                             address  \n",
       "0  2102 Southeast 21st Court, Renton, Washington ...  \n",
       "1  11231 Greenwood Avenue North, Seattle, Washing...  \n",
       "2  8504 South 113th Street, Seattle, Washington 9...  "
      ]
     },
     "execution_count": 4,
     "metadata": {},
     "output_type": "execute_result"
    }
   ],
   "source": [
    "orig_df.head(3)"
   ]
  },
  {
   "cell_type": "markdown",
   "metadata": {},
   "source": [
    "### Additional Datasets\n",
    "I also incorporated additional datasets from [King County Assessor Data](https://info.kingcounty.gov/assessor/DataDownload/default.aspx): \n",
    "* Residential Building\n",
    "* Parcel\n",
    "* Real Property Sales\n",
    "\n",
    "Each of these datasets includes a `Major` and `Minor` column which have six and four characters respectively and may have leading zeros. When concatenated they create a unique `id` which will be used for merging."
   ]
  },
  {
   "cell_type": "code",
   "execution_count": 5,
   "metadata": {
    "ExecuteTime": {
     "end_time": "2023-06-21T10:54:15.266177Z",
     "start_time": "2023-06-21T10:54:15.205160Z"
    },
    "scrolled": false
   },
   "outputs": [
    {
     "name": "stdout",
     "output_type": "stream",
     "text": [
      "<class 'pandas.core.frame.DataFrame'>\n",
      "RangeIndex: 524552 entries, 0 to 524551\n",
      "Data columns (total 13 columns):\n",
      " #   Column           Non-Null Count   Dtype  \n",
      "---  ------           --------------   -----  \n",
      " 0   Major            524552 non-null  int64  \n",
      " 1   Minor            524552 non-null  int64  \n",
      " 2   ZipCode          472502 non-null  object \n",
      " 3   Stories          524552 non-null  float64\n",
      " 4   BldgGrade        524552 non-null  int64  \n",
      " 5   SqFtTotLiving    524552 non-null  int64  \n",
      " 6   SqFtTotBasement  524552 non-null  int64  \n",
      " 7   SqFtFinBasement  524552 non-null  int64  \n",
      " 8   Bedrooms         524552 non-null  int64  \n",
      " 9   BathFullCount    524552 non-null  int64  \n",
      " 10  YrBuilt          524552 non-null  int64  \n",
      " 11  YrRenovated      524552 non-null  int64  \n",
      " 12  Condition        524552 non-null  int64  \n",
      "dtypes: float64(1), int64(11), object(1)\n",
      "memory usage: 52.0+ MB\n"
     ]
    }
   ],
   "source": [
    "res.info()"
   ]
  },
  {
   "cell_type": "code",
   "execution_count": 6,
   "metadata": {
    "ExecuteTime": {
     "end_time": "2023-06-21T10:54:15.280461Z",
     "start_time": "2023-06-21T10:54:15.269810Z"
    }
   },
   "outputs": [
    {
     "data": {
      "text/html": [
       "<div>\n",
       "<style scoped>\n",
       "    .dataframe tbody tr th:only-of-type {\n",
       "        vertical-align: middle;\n",
       "    }\n",
       "\n",
       "    .dataframe tbody tr th {\n",
       "        vertical-align: top;\n",
       "    }\n",
       "\n",
       "    .dataframe thead th {\n",
       "        text-align: right;\n",
       "    }\n",
       "</style>\n",
       "<table border=\"1\" class=\"dataframe\">\n",
       "  <thead>\n",
       "    <tr style=\"text-align: right;\">\n",
       "      <th></th>\n",
       "      <th>Major</th>\n",
       "      <th>Minor</th>\n",
       "      <th>ZipCode</th>\n",
       "      <th>Stories</th>\n",
       "      <th>BldgGrade</th>\n",
       "      <th>SqFtTotLiving</th>\n",
       "      <th>SqFtTotBasement</th>\n",
       "      <th>SqFtFinBasement</th>\n",
       "      <th>Bedrooms</th>\n",
       "      <th>BathFullCount</th>\n",
       "      <th>YrBuilt</th>\n",
       "      <th>YrRenovated</th>\n",
       "      <th>Condition</th>\n",
       "    </tr>\n",
       "  </thead>\n",
       "  <tbody>\n",
       "    <tr>\n",
       "      <th>0</th>\n",
       "      <td>12603</td>\n",
       "      <td>9624</td>\n",
       "      <td>98133</td>\n",
       "      <td>1.0</td>\n",
       "      <td>8</td>\n",
       "      <td>1810</td>\n",
       "      <td>720</td>\n",
       "      <td>420</td>\n",
       "      <td>3</td>\n",
       "      <td>2</td>\n",
       "      <td>1982</td>\n",
       "      <td>0</td>\n",
       "      <td>3</td>\n",
       "    </tr>\n",
       "    <tr>\n",
       "      <th>1</th>\n",
       "      <td>12603</td>\n",
       "      <td>9625</td>\n",
       "      <td>98177</td>\n",
       "      <td>1.5</td>\n",
       "      <td>7</td>\n",
       "      <td>4340</td>\n",
       "      <td>2320</td>\n",
       "      <td>1740</td>\n",
       "      <td>3</td>\n",
       "      <td>2</td>\n",
       "      <td>1994</td>\n",
       "      <td>0</td>\n",
       "      <td>3</td>\n",
       "    </tr>\n",
       "    <tr>\n",
       "      <th>2</th>\n",
       "      <td>12603</td>\n",
       "      <td>9628</td>\n",
       "      <td>98133</td>\n",
       "      <td>1.0</td>\n",
       "      <td>7</td>\n",
       "      <td>1800</td>\n",
       "      <td>660</td>\n",
       "      <td>660</td>\n",
       "      <td>4</td>\n",
       "      <td>1</td>\n",
       "      <td>1982</td>\n",
       "      <td>0</td>\n",
       "      <td>3</td>\n",
       "    </tr>\n",
       "  </tbody>\n",
       "</table>\n",
       "</div>"
      ],
      "text/plain": [
       "   Major  Minor ZipCode  Stories  BldgGrade  SqFtTotLiving  SqFtTotBasement  \\\n",
       "0  12603   9624   98133      1.0          8           1810              720   \n",
       "1  12603   9625   98177      1.5          7           4340             2320   \n",
       "2  12603   9628   98133      1.0          7           1800              660   \n",
       "\n",
       "   SqFtFinBasement  Bedrooms  BathFullCount  YrBuilt  YrRenovated  Condition  \n",
       "0              420         3              2     1982            0          3  \n",
       "1             1740         3              2     1994            0          3  \n",
       "2              660         4              1     1982            0          3  "
      ]
     },
     "execution_count": 6,
     "metadata": {},
     "output_type": "execute_result"
    }
   ],
   "source": [
    "res.head(3)"
   ]
  },
  {
   "cell_type": "code",
   "execution_count": 7,
   "metadata": {
    "ExecuteTime": {
     "end_time": "2023-06-21T10:54:15.391252Z",
     "start_time": "2023-06-21T10:54:15.284170Z"
    }
   },
   "outputs": [
    {
     "name": "stdout",
     "output_type": "stream",
     "text": [
      "<class 'pandas.core.frame.DataFrame'>\n",
      "RangeIndex: 622667 entries, 0 to 622666\n",
      "Data columns (total 20 columns):\n",
      " #   Column               Non-Null Count   Dtype \n",
      "---  ------               --------------   ----- \n",
      " 0   Major                622667 non-null  int64 \n",
      " 1   Minor                622667 non-null  int64 \n",
      " 2   PropType             622667 non-null  object\n",
      " 3   SqFtLot              622667 non-null  int64 \n",
      " 4   MtRainier            622667 non-null  int64 \n",
      " 5   Olympics             622667 non-null  int64 \n",
      " 6   Cascades             622667 non-null  int64 \n",
      " 7   Territorial          622667 non-null  int64 \n",
      " 8   SeattleSkyline       622667 non-null  int64 \n",
      " 9   PugetSound           622667 non-null  int64 \n",
      " 10  LakeWashington       622667 non-null  int64 \n",
      " 11  LakeSammamish        622667 non-null  int64 \n",
      " 12  SmallLakeRiverCreek  622667 non-null  int64 \n",
      " 13  OtherView            622667 non-null  int64 \n",
      " 14  WfntLocation         622667 non-null  int64 \n",
      " 15  TrafficNoise         622667 non-null  int64 \n",
      " 16  AirportNoise         622667 non-null  int64 \n",
      " 17  PowerLines           622667 non-null  object\n",
      " 18  OtherNuisances       622667 non-null  object\n",
      " 19  AdjacentGreenbelt    622667 non-null  object\n",
      "dtypes: int64(16), object(4)\n",
      "memory usage: 95.0+ MB\n"
     ]
    }
   ],
   "source": [
    "parcel.info()"
   ]
  },
  {
   "cell_type": "code",
   "execution_count": 8,
   "metadata": {
    "ExecuteTime": {
     "end_time": "2023-06-21T10:54:15.406216Z",
     "start_time": "2023-06-21T10:54:15.393074Z"
    }
   },
   "outputs": [
    {
     "data": {
      "text/html": [
       "<div>\n",
       "<style scoped>\n",
       "    .dataframe tbody tr th:only-of-type {\n",
       "        vertical-align: middle;\n",
       "    }\n",
       "\n",
       "    .dataframe tbody tr th {\n",
       "        vertical-align: top;\n",
       "    }\n",
       "\n",
       "    .dataframe thead th {\n",
       "        text-align: right;\n",
       "    }\n",
       "</style>\n",
       "<table border=\"1\" class=\"dataframe\">\n",
       "  <thead>\n",
       "    <tr style=\"text-align: right;\">\n",
       "      <th></th>\n",
       "      <th>Major</th>\n",
       "      <th>Minor</th>\n",
       "      <th>PropType</th>\n",
       "      <th>SqFtLot</th>\n",
       "      <th>MtRainier</th>\n",
       "      <th>Olympics</th>\n",
       "      <th>Cascades</th>\n",
       "      <th>Territorial</th>\n",
       "      <th>SeattleSkyline</th>\n",
       "      <th>PugetSound</th>\n",
       "      <th>LakeWashington</th>\n",
       "      <th>LakeSammamish</th>\n",
       "      <th>SmallLakeRiverCreek</th>\n",
       "      <th>OtherView</th>\n",
       "      <th>WfntLocation</th>\n",
       "      <th>TrafficNoise</th>\n",
       "      <th>AirportNoise</th>\n",
       "      <th>PowerLines</th>\n",
       "      <th>OtherNuisances</th>\n",
       "      <th>AdjacentGreenbelt</th>\n",
       "    </tr>\n",
       "  </thead>\n",
       "  <tbody>\n",
       "    <tr>\n",
       "      <th>0</th>\n",
       "      <td>714760</td>\n",
       "      <td>85</td>\n",
       "      <td>R</td>\n",
       "      <td>16693</td>\n",
       "      <td>0</td>\n",
       "      <td>0</td>\n",
       "      <td>0</td>\n",
       "      <td>0</td>\n",
       "      <td>0</td>\n",
       "      <td>0</td>\n",
       "      <td>0</td>\n",
       "      <td>0</td>\n",
       "      <td>0</td>\n",
       "      <td>0</td>\n",
       "      <td>0</td>\n",
       "      <td>0</td>\n",
       "      <td>0</td>\n",
       "      <td>N</td>\n",
       "      <td>N</td>\n",
       "      <td>N</td>\n",
       "    </tr>\n",
       "    <tr>\n",
       "      <th>1</th>\n",
       "      <td>739920</td>\n",
       "      <td>210</td>\n",
       "      <td>R</td>\n",
       "      <td>8686</td>\n",
       "      <td>0</td>\n",
       "      <td>0</td>\n",
       "      <td>0</td>\n",
       "      <td>0</td>\n",
       "      <td>0</td>\n",
       "      <td>0</td>\n",
       "      <td>0</td>\n",
       "      <td>0</td>\n",
       "      <td>0</td>\n",
       "      <td>0</td>\n",
       "      <td>0</td>\n",
       "      <td>0</td>\n",
       "      <td>0</td>\n",
       "      <td>N</td>\n",
       "      <td>N</td>\n",
       "      <td>N</td>\n",
       "    </tr>\n",
       "    <tr>\n",
       "      <th>2</th>\n",
       "      <td>510140</td>\n",
       "      <td>8598</td>\n",
       "      <td>R</td>\n",
       "      <td>6434</td>\n",
       "      <td>0</td>\n",
       "      <td>0</td>\n",
       "      <td>0</td>\n",
       "      <td>0</td>\n",
       "      <td>0</td>\n",
       "      <td>0</td>\n",
       "      <td>0</td>\n",
       "      <td>0</td>\n",
       "      <td>0</td>\n",
       "      <td>0</td>\n",
       "      <td>0</td>\n",
       "      <td>0</td>\n",
       "      <td>0</td>\n",
       "      <td>N</td>\n",
       "      <td>N</td>\n",
       "      <td>N</td>\n",
       "    </tr>\n",
       "  </tbody>\n",
       "</table>\n",
       "</div>"
      ],
      "text/plain": [
       "    Major  Minor PropType  SqFtLot  MtRainier  Olympics  Cascades  \\\n",
       "0  714760     85        R    16693          0         0         0   \n",
       "1  739920    210        R     8686          0         0         0   \n",
       "2  510140   8598        R     6434          0         0         0   \n",
       "\n",
       "   Territorial  SeattleSkyline  PugetSound  LakeWashington  LakeSammamish  \\\n",
       "0            0               0           0               0              0   \n",
       "1            0               0           0               0              0   \n",
       "2            0               0           0               0              0   \n",
       "\n",
       "   SmallLakeRiverCreek  OtherView  WfntLocation  TrafficNoise  AirportNoise  \\\n",
       "0                    0          0             0             0             0   \n",
       "1                    0          0             0             0             0   \n",
       "2                    0          0             0             0             0   \n",
       "\n",
       "  PowerLines OtherNuisances AdjacentGreenbelt  \n",
       "0          N              N                 N  \n",
       "1          N              N                 N  \n",
       "2          N              N                 N  "
      ]
     },
     "execution_count": 8,
     "metadata": {},
     "output_type": "execute_result"
    }
   ],
   "source": [
    "parcel.head(3)"
   ]
  },
  {
   "cell_type": "code",
   "execution_count": 9,
   "metadata": {
    "ExecuteTime": {
     "end_time": "2023-06-21T10:54:15.416957Z",
     "start_time": "2023-06-21T10:54:15.407757Z"
    },
    "scrolled": true
   },
   "outputs": [
    {
     "name": "stdout",
     "output_type": "stream",
     "text": [
      "<class 'pandas.core.frame.DataFrame'>\n",
      "RangeIndex: 2281280 entries, 0 to 2281279\n",
      "Data columns (total 5 columns):\n",
      " #   Column        Dtype \n",
      "---  ------        ----- \n",
      " 0   Major         object\n",
      " 1   Minor         object\n",
      " 2   DocumentDate  object\n",
      " 3   SalePrice     int64 \n",
      " 4   PrincipalUse  int64 \n",
      "dtypes: int64(2), object(3)\n",
      "memory usage: 87.0+ MB\n"
     ]
    }
   ],
   "source": [
    "sales.info()"
   ]
  },
  {
   "cell_type": "code",
   "execution_count": 10,
   "metadata": {
    "ExecuteTime": {
     "end_time": "2023-06-21T10:54:15.428705Z",
     "start_time": "2023-06-21T10:54:15.419374Z"
    }
   },
   "outputs": [
    {
     "data": {
      "text/html": [
       "<div>\n",
       "<style scoped>\n",
       "    .dataframe tbody tr th:only-of-type {\n",
       "        vertical-align: middle;\n",
       "    }\n",
       "\n",
       "    .dataframe tbody tr th {\n",
       "        vertical-align: top;\n",
       "    }\n",
       "\n",
       "    .dataframe thead th {\n",
       "        text-align: right;\n",
       "    }\n",
       "</style>\n",
       "<table border=\"1\" class=\"dataframe\">\n",
       "  <thead>\n",
       "    <tr style=\"text-align: right;\">\n",
       "      <th></th>\n",
       "      <th>Major</th>\n",
       "      <th>Minor</th>\n",
       "      <th>DocumentDate</th>\n",
       "      <th>SalePrice</th>\n",
       "      <th>PrincipalUse</th>\n",
       "    </tr>\n",
       "  </thead>\n",
       "  <tbody>\n",
       "    <tr>\n",
       "      <th>0</th>\n",
       "      <td>004000</td>\n",
       "      <td>0228</td>\n",
       "      <td>04/29/1997</td>\n",
       "      <td>103500</td>\n",
       "      <td>0</td>\n",
       "    </tr>\n",
       "    <tr>\n",
       "      <th>1</th>\n",
       "      <td>799671</td>\n",
       "      <td>0190</td>\n",
       "      <td>06/26/2019</td>\n",
       "      <td>0</td>\n",
       "      <td>6</td>\n",
       "    </tr>\n",
       "    <tr>\n",
       "      <th>2</th>\n",
       "      <td>327620</td>\n",
       "      <td>0100</td>\n",
       "      <td>09/01/2020</td>\n",
       "      <td>430000</td>\n",
       "      <td>6</td>\n",
       "    </tr>\n",
       "  </tbody>\n",
       "</table>\n",
       "</div>"
      ],
      "text/plain": [
       "    Major Minor DocumentDate  SalePrice  PrincipalUse\n",
       "0  004000  0228   04/29/1997     103500             0\n",
       "1  799671  0190   06/26/2019          0             6\n",
       "2  327620  0100   09/01/2020     430000             6"
      ]
     },
     "execution_count": 10,
     "metadata": {},
     "output_type": "execute_result"
    }
   ],
   "source": [
    "sales.head(3)"
   ]
  },
  {
   "cell_type": "markdown",
   "metadata": {},
   "source": [
    "Lastly, I used a dataset from [OpenDataSoft](https://data.opendatasoft.com/) to gather information about King County zip codes. This included:\n",
    "\n",
    "* **Zip Code** - The 5-digit zip code assigned by the U.S. Postal Service. Only includes zip codes in King County, WA.\n",
    "* **Population** - An estimate of the zip code's population.\n",
    "* **Density** - The estimated population per square kilometer.  "
   ]
  },
  {
   "cell_type": "code",
   "execution_count": 11,
   "metadata": {
    "ExecuteTime": {
     "end_time": "2023-06-21T10:54:15.441506Z",
     "start_time": "2023-06-21T10:54:15.431541Z"
    }
   },
   "outputs": [
    {
     "name": "stdout",
     "output_type": "stream",
     "text": [
      "<class 'pandas.core.frame.DataFrame'>\n",
      "RangeIndex: 87 entries, 0 to 86\n",
      "Data columns (total 3 columns):\n",
      " #   Column      Non-Null Count  Dtype  \n",
      "---  ------      --------------  -----  \n",
      " 0   Zip Code    87 non-null     int64  \n",
      " 1   Population  87 non-null     float64\n",
      " 2   Density     87 non-null     float64\n",
      "dtypes: float64(2), int64(1)\n",
      "memory usage: 2.2 KB\n"
     ]
    }
   ],
   "source": [
    "ods.info()"
   ]
  },
  {
   "cell_type": "code",
   "execution_count": 12,
   "metadata": {
    "ExecuteTime": {
     "end_time": "2023-06-21T10:54:15.454539Z",
     "start_time": "2023-06-21T10:54:15.443388Z"
    },
    "scrolled": true
   },
   "outputs": [
    {
     "data": {
      "text/html": [
       "<div>\n",
       "<style scoped>\n",
       "    .dataframe tbody tr th:only-of-type {\n",
       "        vertical-align: middle;\n",
       "    }\n",
       "\n",
       "    .dataframe tbody tr th {\n",
       "        vertical-align: top;\n",
       "    }\n",
       "\n",
       "    .dataframe thead th {\n",
       "        text-align: right;\n",
       "    }\n",
       "</style>\n",
       "<table border=\"1\" class=\"dataframe\">\n",
       "  <thead>\n",
       "    <tr style=\"text-align: right;\">\n",
       "      <th></th>\n",
       "      <th>Zip Code</th>\n",
       "      <th>Population</th>\n",
       "      <th>Density</th>\n",
       "    </tr>\n",
       "  </thead>\n",
       "  <tbody>\n",
       "    <tr>\n",
       "      <th>0</th>\n",
       "      <td>98029</td>\n",
       "      <td>29250.0</td>\n",
       "      <td>1261.5</td>\n",
       "    </tr>\n",
       "    <tr>\n",
       "      <th>1</th>\n",
       "      <td>98070</td>\n",
       "      <td>10291.0</td>\n",
       "      <td>107.6</td>\n",
       "    </tr>\n",
       "    <tr>\n",
       "      <th>2</th>\n",
       "      <td>98074</td>\n",
       "      <td>28775.0</td>\n",
       "      <td>1041.4</td>\n",
       "    </tr>\n",
       "  </tbody>\n",
       "</table>\n",
       "</div>"
      ],
      "text/plain": [
       "   Zip Code  Population  Density\n",
       "0     98029     29250.0   1261.5\n",
       "1     98070     10291.0    107.6\n",
       "2     98074     28775.0   1041.4"
      ]
     },
     "execution_count": 12,
     "metadata": {},
     "output_type": "execute_result"
    }
   ],
   "source": [
    "ods.head(3)"
   ]
  },
  {
   "cell_type": "markdown",
   "metadata": {},
   "source": [
    "# Data Preparation"
   ]
  },
  {
   "cell_type": "markdown",
   "metadata": {},
   "source": [
    "Describe and justify the process for preparing the data for analysis.\n",
    "\n",
    "***\n",
    "Questions to consider:\n",
    "* Were there variables you dropped or created?\n",
    "* How did you address missing values or outliers?\n",
    "* Why are these choices appropriate given the data and the business problem?\n",
    "***\n",
    "**Handling Missing Values**: Missing values may be present in the features you want to use, either encoded as NaN or as some other value such as \"?\". Before you can build a linear regression model, make sure you identify and address any missing values using techniques such as dropping or replacing data.\n",
    "\n",
    "**Handling Non-Numeric Data**: A linear regression model needs all of the features to be numeric, not categorical. For this project, be sure to pick at least one non-numeric feature and try including it in a model. You can identify that a feature is currently non-numeric if the type is object when you run .info() on your dataframe. Once you have identified the non-numeric features, address them using techniques such as ordinal or one-hot (dummy) encoding."
   ]
  },
  {
   "cell_type": "code",
   "execution_count": 13,
   "metadata": {
    "ExecuteTime": {
     "end_time": "2023-06-21T10:54:15.467364Z",
     "start_time": "2023-06-21T10:54:15.456960Z"
    }
   },
   "outputs": [],
   "source": [
    "# Importing code module which include functions to clean data.\n",
    "from code import data_prep as dp"
   ]
  },
  {
   "cell_type": "markdown",
   "metadata": {},
   "source": [
    "### Before Merging\n",
    "To prepare the datasets for merging, I:\n",
    "- Made an `id` column out of the `Major` and `Minor` columns to create a primary key for merging.\n",
    "- Extracted, cleaned, and filtered zip code information to be sure they are all in the same format and only include zip codes from King County.\n",
    "- Standardized elements in categorical variables by renaming them to discrete numeric predictors. For example, renaming a \"Yes/No\" to 1's and 0's.\n",
    "- Identifying duplicated `id` and in most cases dropping them as they represented only a small proportion of the data sets. In the `sales` dataset duplicates represented multiple transactions of the same property, so I only included the most recent transaction.\n",
    "- Filtered data to only include properties labeled as Condominium or Residential in the parcel dataset.\n",
    "- Filtered data to only include properties labeled condominiums, apartments, residential buildings, and mobile homes in the `sales` dataset.\n",
    "- Extracted the year_sold from the `sales` data and filtered it to include sales since 2021 to account for only recent data when making the model.\n",
    "- Standardized column names for merging."
   ]
  },
  {
   "cell_type": "code",
   "execution_count": 14,
   "metadata": {
    "ExecuteTime": {
     "end_time": "2023-06-21T10:54:15.596652Z",
     "start_time": "2023-06-21T10:54:15.470035Z"
    }
   },
   "outputs": [
    {
     "data": {
      "text/html": [
       "<div>\n",
       "<style scoped>\n",
       "    .dataframe tbody tr th:only-of-type {\n",
       "        vertical-align: middle;\n",
       "    }\n",
       "\n",
       "    .dataframe tbody tr th {\n",
       "        vertical-align: top;\n",
       "    }\n",
       "\n",
       "    .dataframe thead th {\n",
       "        text-align: right;\n",
       "    }\n",
       "</style>\n",
       "<table border=\"1\" class=\"dataframe\">\n",
       "  <thead>\n",
       "    <tr style=\"text-align: right;\">\n",
       "      <th></th>\n",
       "      <th>price</th>\n",
       "      <th>bedrooms</th>\n",
       "      <th>bathrooms</th>\n",
       "      <th>sqft_living</th>\n",
       "      <th>sqft_lot</th>\n",
       "      <th>floors</th>\n",
       "      <th>waterfront</th>\n",
       "      <th>greenbelt</th>\n",
       "      <th>nuisance</th>\n",
       "      <th>view</th>\n",
       "      <th>condition</th>\n",
       "      <th>grade</th>\n",
       "      <th>sqft_basement</th>\n",
       "      <th>yr_built</th>\n",
       "      <th>yr_renovated</th>\n",
       "      <th>zipcode</th>\n",
       "    </tr>\n",
       "    <tr>\n",
       "      <th>id</th>\n",
       "      <th></th>\n",
       "      <th></th>\n",
       "      <th></th>\n",
       "      <th></th>\n",
       "      <th></th>\n",
       "      <th></th>\n",
       "      <th></th>\n",
       "      <th></th>\n",
       "      <th></th>\n",
       "      <th></th>\n",
       "      <th></th>\n",
       "      <th></th>\n",
       "      <th></th>\n",
       "      <th></th>\n",
       "      <th></th>\n",
       "      <th></th>\n",
       "    </tr>\n",
       "  </thead>\n",
       "  <tbody>\n",
       "    <tr>\n",
       "      <th>7399300360</th>\n",
       "      <td>675000.0</td>\n",
       "      <td>4</td>\n",
       "      <td>1.0</td>\n",
       "      <td>1180</td>\n",
       "      <td>7140</td>\n",
       "      <td>1.0</td>\n",
       "      <td>0</td>\n",
       "      <td>0</td>\n",
       "      <td>0</td>\n",
       "      <td>0</td>\n",
       "      <td>4</td>\n",
       "      <td>7</td>\n",
       "      <td>0</td>\n",
       "      <td>1969</td>\n",
       "      <td>0</td>\n",
       "      <td>98055</td>\n",
       "    </tr>\n",
       "    <tr>\n",
       "      <th>8910500230</th>\n",
       "      <td>920000.0</td>\n",
       "      <td>5</td>\n",
       "      <td>2.5</td>\n",
       "      <td>2770</td>\n",
       "      <td>6703</td>\n",
       "      <td>1.0</td>\n",
       "      <td>0</td>\n",
       "      <td>0</td>\n",
       "      <td>1</td>\n",
       "      <td>3</td>\n",
       "      <td>3</td>\n",
       "      <td>7</td>\n",
       "      <td>1570</td>\n",
       "      <td>1950</td>\n",
       "      <td>0</td>\n",
       "      <td>98133</td>\n",
       "    </tr>\n",
       "    <tr>\n",
       "      <th>1180000275</th>\n",
       "      <td>311000.0</td>\n",
       "      <td>6</td>\n",
       "      <td>2.0</td>\n",
       "      <td>2880</td>\n",
       "      <td>6156</td>\n",
       "      <td>1.0</td>\n",
       "      <td>0</td>\n",
       "      <td>0</td>\n",
       "      <td>0</td>\n",
       "      <td>3</td>\n",
       "      <td>3</td>\n",
       "      <td>7</td>\n",
       "      <td>1580</td>\n",
       "      <td>1956</td>\n",
       "      <td>0</td>\n",
       "      <td>98178</td>\n",
       "    </tr>\n",
       "  </tbody>\n",
       "</table>\n",
       "</div>"
      ],
      "text/plain": [
       "               price  bedrooms  bathrooms  sqft_living  sqft_lot  floors  \\\n",
       "id                                                                         \n",
       "7399300360  675000.0         4        1.0         1180      7140     1.0   \n",
       "8910500230  920000.0         5        2.5         2770      6703     1.0   \n",
       "1180000275  311000.0         6        2.0         2880      6156     1.0   \n",
       "\n",
       "            waterfront  greenbelt  nuisance  view  condition  grade  \\\n",
       "id                                                                    \n",
       "7399300360           0          0         0     0          4      7   \n",
       "8910500230           0          0         1     3          3      7   \n",
       "1180000275           0          0         0     3          3      7   \n",
       "\n",
       "            sqft_basement  yr_built  yr_renovated  zipcode  \n",
       "id                                                          \n",
       "7399300360              0      1969             0    98055  \n",
       "8910500230           1570      1950             0    98133  \n",
       "1180000275           1580      1956             0    98178  "
      ]
     },
     "execution_count": 14,
     "metadata": {},
     "output_type": "execute_result"
    }
   ],
   "source": [
    "# Applying functions to clean and view the datasets.\n",
    "orig_clean = dp.original_prep(orig_df,ods)\n",
    "orig_clean.head(3)"
   ]
  },
  {
   "cell_type": "code",
   "execution_count": 15,
   "metadata": {
    "ExecuteTime": {
     "end_time": "2023-06-21T10:54:17.965762Z",
     "start_time": "2023-06-21T10:54:15.598875Z"
    }
   },
   "outputs": [
    {
     "data": {
      "text/html": [
       "<div>\n",
       "<style scoped>\n",
       "    .dataframe tbody tr th:only-of-type {\n",
       "        vertical-align: middle;\n",
       "    }\n",
       "\n",
       "    .dataframe tbody tr th {\n",
       "        vertical-align: top;\n",
       "    }\n",
       "\n",
       "    .dataframe thead th {\n",
       "        text-align: right;\n",
       "    }\n",
       "</style>\n",
       "<table border=\"1\" class=\"dataframe\">\n",
       "  <thead>\n",
       "    <tr style=\"text-align: right;\">\n",
       "      <th></th>\n",
       "      <th>bathrooms</th>\n",
       "      <th>bedrooms</th>\n",
       "      <th>condition</th>\n",
       "      <th>floors</th>\n",
       "      <th>grade</th>\n",
       "      <th>sqft_basement</th>\n",
       "      <th>sqft_living</th>\n",
       "      <th>yr_built</th>\n",
       "      <th>yr_renovated</th>\n",
       "      <th>zipcode</th>\n",
       "    </tr>\n",
       "    <tr>\n",
       "      <th>id</th>\n",
       "      <th></th>\n",
       "      <th></th>\n",
       "      <th></th>\n",
       "      <th></th>\n",
       "      <th></th>\n",
       "      <th></th>\n",
       "      <th></th>\n",
       "      <th></th>\n",
       "      <th></th>\n",
       "      <th></th>\n",
       "    </tr>\n",
       "  </thead>\n",
       "  <tbody>\n",
       "    <tr>\n",
       "      <th>0126039624</th>\n",
       "      <td>2</td>\n",
       "      <td>3</td>\n",
       "      <td>3</td>\n",
       "      <td>1.0</td>\n",
       "      <td>8</td>\n",
       "      <td>720</td>\n",
       "      <td>1810</td>\n",
       "      <td>1982</td>\n",
       "      <td>0</td>\n",
       "      <td>98133.0</td>\n",
       "    </tr>\n",
       "    <tr>\n",
       "      <th>0126039625</th>\n",
       "      <td>2</td>\n",
       "      <td>3</td>\n",
       "      <td>3</td>\n",
       "      <td>1.5</td>\n",
       "      <td>7</td>\n",
       "      <td>2320</td>\n",
       "      <td>4340</td>\n",
       "      <td>1994</td>\n",
       "      <td>0</td>\n",
       "      <td>98177.0</td>\n",
       "    </tr>\n",
       "    <tr>\n",
       "      <th>0126039628</th>\n",
       "      <td>1</td>\n",
       "      <td>4</td>\n",
       "      <td>3</td>\n",
       "      <td>1.0</td>\n",
       "      <td>7</td>\n",
       "      <td>660</td>\n",
       "      <td>1800</td>\n",
       "      <td>1982</td>\n",
       "      <td>0</td>\n",
       "      <td>98133.0</td>\n",
       "    </tr>\n",
       "  </tbody>\n",
       "</table>\n",
       "</div>"
      ],
      "text/plain": [
       "            bathrooms  bedrooms  condition  floors  grade  sqft_basement  \\\n",
       "id                                                                         \n",
       "0126039624          2         3          3     1.0      8            720   \n",
       "0126039625          2         3          3     1.5      7           2320   \n",
       "0126039628          1         4          3     1.0      7            660   \n",
       "\n",
       "            sqft_living  yr_built  yr_renovated  zipcode  \n",
       "id                                                        \n",
       "0126039624         1810      1982             0  98133.0  \n",
       "0126039625         4340      1994             0  98177.0  \n",
       "0126039628         1800      1982             0  98133.0  "
      ]
     },
     "execution_count": 15,
     "metadata": {},
     "output_type": "execute_result"
    }
   ],
   "source": [
    "res_clean = dp.res_prep(res,ods)\n",
    "res_clean.head(3)"
   ]
  },
  {
   "cell_type": "code",
   "execution_count": 16,
   "metadata": {
    "ExecuteTime": {
     "end_time": "2023-06-21T10:54:20.595528Z",
     "start_time": "2023-06-21T10:54:17.967862Z"
    }
   },
   "outputs": [
    {
     "data": {
      "text/html": [
       "<div>\n",
       "<style scoped>\n",
       "    .dataframe tbody tr th:only-of-type {\n",
       "        vertical-align: middle;\n",
       "    }\n",
       "\n",
       "    .dataframe tbody tr th {\n",
       "        vertical-align: top;\n",
       "    }\n",
       "\n",
       "    .dataframe thead th {\n",
       "        text-align: right;\n",
       "    }\n",
       "</style>\n",
       "<table border=\"1\" class=\"dataframe\">\n",
       "  <thead>\n",
       "    <tr style=\"text-align: right;\">\n",
       "      <th></th>\n",
       "      <th>greenbelt</th>\n",
       "      <th>nuisance</th>\n",
       "      <th>sqft_lot</th>\n",
       "      <th>view</th>\n",
       "      <th>waterfront</th>\n",
       "    </tr>\n",
       "    <tr>\n",
       "      <th>id</th>\n",
       "      <th></th>\n",
       "      <th></th>\n",
       "      <th></th>\n",
       "      <th></th>\n",
       "      <th></th>\n",
       "    </tr>\n",
       "  </thead>\n",
       "  <tbody>\n",
       "    <tr>\n",
       "      <th>7147600085</th>\n",
       "      <td>0</td>\n",
       "      <td>0</td>\n",
       "      <td>16693</td>\n",
       "      <td>0</td>\n",
       "      <td>0.0</td>\n",
       "    </tr>\n",
       "    <tr>\n",
       "      <th>7399200210</th>\n",
       "      <td>0</td>\n",
       "      <td>0</td>\n",
       "      <td>8686</td>\n",
       "      <td>0</td>\n",
       "      <td>0.0</td>\n",
       "    </tr>\n",
       "    <tr>\n",
       "      <th>5101408598</th>\n",
       "      <td>0</td>\n",
       "      <td>0</td>\n",
       "      <td>6434</td>\n",
       "      <td>0</td>\n",
       "      <td>0.0</td>\n",
       "    </tr>\n",
       "  </tbody>\n",
       "</table>\n",
       "</div>"
      ],
      "text/plain": [
       "            greenbelt  nuisance  sqft_lot  view  waterfront\n",
       "id                                                         \n",
       "7147600085          0         0     16693     0         0.0\n",
       "7399200210          0         0      8686     0         0.0\n",
       "5101408598          0         0      6434     0         0.0"
      ]
     },
     "execution_count": 16,
     "metadata": {},
     "output_type": "execute_result"
    }
   ],
   "source": [
    "parcel_clean = dp.parcel_prep(parcel)\n",
    "parcel_clean.head(3)"
   ]
  },
  {
   "cell_type": "code",
   "execution_count": 17,
   "metadata": {
    "ExecuteTime": {
     "end_time": "2023-06-21T10:54:32.967014Z",
     "start_time": "2023-06-21T10:54:20.597369Z"
    }
   },
   "outputs": [
    {
     "data": {
      "text/html": [
       "<div>\n",
       "<style scoped>\n",
       "    .dataframe tbody tr th:only-of-type {\n",
       "        vertical-align: middle;\n",
       "    }\n",
       "\n",
       "    .dataframe tbody tr th {\n",
       "        vertical-align: top;\n",
       "    }\n",
       "\n",
       "    .dataframe thead th {\n",
       "        text-align: right;\n",
       "    }\n",
       "</style>\n",
       "<table border=\"1\" class=\"dataframe\">\n",
       "  <thead>\n",
       "    <tr style=\"text-align: right;\">\n",
       "      <th></th>\n",
       "      <th>date</th>\n",
       "      <th>price</th>\n",
       "    </tr>\n",
       "    <tr>\n",
       "      <th>id</th>\n",
       "      <th></th>\n",
       "      <th></th>\n",
       "    </tr>\n",
       "  </thead>\n",
       "  <tbody>\n",
       "    <tr>\n",
       "      <th>0001000035</th>\n",
       "      <td>2021-08-18</td>\n",
       "      <td>0</td>\n",
       "    </tr>\n",
       "    <tr>\n",
       "      <th>0001000055</th>\n",
       "      <td>2021-10-20</td>\n",
       "      <td>248448</td>\n",
       "    </tr>\n",
       "    <tr>\n",
       "      <th>0001000061</th>\n",
       "      <td>2021-03-24</td>\n",
       "      <td>475000</td>\n",
       "    </tr>\n",
       "  </tbody>\n",
       "</table>\n",
       "</div>"
      ],
      "text/plain": [
       "                 date   price\n",
       "id                           \n",
       "0001000035 2021-08-18       0\n",
       "0001000055 2021-10-20  248448\n",
       "0001000061 2021-03-24  475000"
      ]
     },
     "execution_count": 17,
     "metadata": {},
     "output_type": "execute_result"
    }
   ],
   "source": [
    "sales_clean = dp.sales_prep(sales)\n",
    "sales_clean.head(3)"
   ]
  },
  {
   "cell_type": "code",
   "execution_count": 18,
   "metadata": {
    "ExecuteTime": {
     "end_time": "2023-06-21T10:54:32.982211Z",
     "start_time": "2023-06-21T10:54:32.968931Z"
    }
   },
   "outputs": [
    {
     "data": {
      "text/html": [
       "<div>\n",
       "<style scoped>\n",
       "    .dataframe tbody tr th:only-of-type {\n",
       "        vertical-align: middle;\n",
       "    }\n",
       "\n",
       "    .dataframe tbody tr th {\n",
       "        vertical-align: top;\n",
       "    }\n",
       "\n",
       "    .dataframe thead th {\n",
       "        text-align: right;\n",
       "    }\n",
       "</style>\n",
       "<table border=\"1\" class=\"dataframe\">\n",
       "  <thead>\n",
       "    <tr style=\"text-align: right;\">\n",
       "      <th></th>\n",
       "      <th>zipcode</th>\n",
       "      <th>population</th>\n",
       "      <th>density</th>\n",
       "    </tr>\n",
       "  </thead>\n",
       "  <tbody>\n",
       "    <tr>\n",
       "      <th>0</th>\n",
       "      <td>98029</td>\n",
       "      <td>29250.0</td>\n",
       "      <td>1261.5</td>\n",
       "    </tr>\n",
       "    <tr>\n",
       "      <th>1</th>\n",
       "      <td>98070</td>\n",
       "      <td>10291.0</td>\n",
       "      <td>107.6</td>\n",
       "    </tr>\n",
       "    <tr>\n",
       "      <th>2</th>\n",
       "      <td>98074</td>\n",
       "      <td>28775.0</td>\n",
       "      <td>1041.4</td>\n",
       "    </tr>\n",
       "  </tbody>\n",
       "</table>\n",
       "</div>"
      ],
      "text/plain": [
       "   zipcode  population  density\n",
       "0    98029     29250.0   1261.5\n",
       "1    98070     10291.0    107.6\n",
       "2    98074     28775.0   1041.4"
      ]
     },
     "execution_count": 18,
     "metadata": {},
     "output_type": "execute_result"
    }
   ],
   "source": [
    "ods_clean = dp.ods_prep(ods)\n",
    "ods_clean.head(3)"
   ]
  },
  {
   "cell_type": "markdown",
   "metadata": {},
   "source": [
    "### After Merging\n",
    "After combining the data into a single dataframe, I:\n",
    "- Cleaned columns to only include reasonable data. For example, including dropping any rows where `price` was equal to or less than 0. \n",
    "- Created a new column, `yr_last_construction`, which took the year from `yr_renovated` if renovated and `yr_built` if not. \n",
    "- Removed any rows with a `zipcode` count of less than or equal to 20 as they would be too small to count as a sample. \n",
    "- Removed any outliers. This made sense as extreme values could bias the statistics and are unlikely.\n",
    "- Created new columns with all numerical variables normalized to be used for modeling."
   ]
  },
  {
   "cell_type": "code",
   "execution_count": 28,
   "metadata": {
    "ExecuteTime": {
     "end_time": "2023-06-21T10:58:19.910678Z",
     "start_time": "2023-06-21T10:58:19.151804Z"
    },
    "scrolled": false
   },
   "outputs": [
    {
     "data": {
      "text/html": [
       "<div>\n",
       "<style scoped>\n",
       "    .dataframe tbody tr th:only-of-type {\n",
       "        vertical-align: middle;\n",
       "    }\n",
       "\n",
       "    .dataframe tbody tr th {\n",
       "        vertical-align: top;\n",
       "    }\n",
       "\n",
       "    .dataframe thead th {\n",
       "        text-align: right;\n",
       "    }\n",
       "</style>\n",
       "<table border=\"1\" class=\"dataframe\">\n",
       "  <thead>\n",
       "    <tr style=\"text-align: right;\">\n",
       "      <th></th>\n",
       "      <th>price</th>\n",
       "      <th>bedrooms</th>\n",
       "      <th>bathrooms</th>\n",
       "      <th>sqft_living</th>\n",
       "      <th>sqft_lot</th>\n",
       "      <th>sqft_basement</th>\n",
       "      <th>floors</th>\n",
       "      <th>grade</th>\n",
       "      <th>population</th>\n",
       "      <th>density</th>\n",
       "      <th>bedrooms_norm</th>\n",
       "      <th>bathrooms_norm</th>\n",
       "      <th>view</th>\n",
       "      <th>waterfront</th>\n",
       "      <th>greenbelt</th>\n",
       "    </tr>\n",
       "    <tr>\n",
       "      <th>id</th>\n",
       "      <th></th>\n",
       "      <th></th>\n",
       "      <th></th>\n",
       "      <th></th>\n",
       "      <th></th>\n",
       "      <th></th>\n",
       "      <th></th>\n",
       "      <th></th>\n",
       "      <th></th>\n",
       "      <th></th>\n",
       "      <th></th>\n",
       "      <th></th>\n",
       "      <th></th>\n",
       "      <th></th>\n",
       "      <th></th>\n",
       "    </tr>\n",
       "  </thead>\n",
       "  <tbody>\n",
       "    <tr>\n",
       "      <th>0001000055</th>\n",
       "      <td>248448</td>\n",
       "      <td>3</td>\n",
       "      <td>1</td>\n",
       "      <td>1790</td>\n",
       "      <td>39808</td>\n",
       "      <td>0</td>\n",
       "      <td>1</td>\n",
       "      <td>7</td>\n",
       "      <td>33468</td>\n",
       "      <td>1797</td>\n",
       "      <td>-0.453928</td>\n",
       "      <td>-0.833086</td>\n",
       "      <td>0</td>\n",
       "      <td>0</td>\n",
       "      <td>0</td>\n",
       "    </tr>\n",
       "    <tr>\n",
       "      <th>0001000061</th>\n",
       "      <td>475000</td>\n",
       "      <td>3</td>\n",
       "      <td>1</td>\n",
       "      <td>1870</td>\n",
       "      <td>9500</td>\n",
       "      <td>0</td>\n",
       "      <td>1</td>\n",
       "      <td>8</td>\n",
       "      <td>33468</td>\n",
       "      <td>1797</td>\n",
       "      <td>-0.453928</td>\n",
       "      <td>-0.833086</td>\n",
       "      <td>0</td>\n",
       "      <td>0</td>\n",
       "      <td>0</td>\n",
       "    </tr>\n",
       "    <tr>\n",
       "      <th>0001000070</th>\n",
       "      <td>610000</td>\n",
       "      <td>3</td>\n",
       "      <td>1</td>\n",
       "      <td>1790</td>\n",
       "      <td>19088</td>\n",
       "      <td>0</td>\n",
       "      <td>1</td>\n",
       "      <td>8</td>\n",
       "      <td>33468</td>\n",
       "      <td>1797</td>\n",
       "      <td>-0.453928</td>\n",
       "      <td>-0.833086</td>\n",
       "      <td>0</td>\n",
       "      <td>0</td>\n",
       "      <td>0</td>\n",
       "    </tr>\n",
       "    <tr>\n",
       "      <th>0001000094</th>\n",
       "      <td>609000</td>\n",
       "      <td>4</td>\n",
       "      <td>1</td>\n",
       "      <td>2232</td>\n",
       "      <td>12866</td>\n",
       "      <td>0</td>\n",
       "      <td>1</td>\n",
       "      <td>7</td>\n",
       "      <td>33468</td>\n",
       "      <td>1797</td>\n",
       "      <td>0.663952</td>\n",
       "      <td>-0.833086</td>\n",
       "      <td>0</td>\n",
       "      <td>0</td>\n",
       "      <td>0</td>\n",
       "    </tr>\n",
       "    <tr>\n",
       "      <th>0001000095</th>\n",
       "      <td>300000</td>\n",
       "      <td>2</td>\n",
       "      <td>1</td>\n",
       "      <td>960</td>\n",
       "      <td>7380</td>\n",
       "      <td>470</td>\n",
       "      <td>1</td>\n",
       "      <td>7</td>\n",
       "      <td>33468</td>\n",
       "      <td>1797</td>\n",
       "      <td>-1.571808</td>\n",
       "      <td>-0.833086</td>\n",
       "      <td>0</td>\n",
       "      <td>0</td>\n",
       "      <td>0</td>\n",
       "    </tr>\n",
       "  </tbody>\n",
       "</table>\n",
       "</div>"
      ],
      "text/plain": [
       "             price  bedrooms  bathrooms  sqft_living  sqft_lot  sqft_basement  \\\n",
       "id                                                                              \n",
       "0001000055  248448         3          1         1790     39808              0   \n",
       "0001000061  475000         3          1         1870      9500              0   \n",
       "0001000070  610000         3          1         1790     19088              0   \n",
       "0001000094  609000         4          1         2232     12866              0   \n",
       "0001000095  300000         2          1          960      7380            470   \n",
       "\n",
       "            floors  grade  population  density  bedrooms_norm  bathrooms_norm  \\\n",
       "id                                                                              \n",
       "0001000055       1      7       33468     1797      -0.453928       -0.833086   \n",
       "0001000061       1      8       33468     1797      -0.453928       -0.833086   \n",
       "0001000070       1      8       33468     1797      -0.453928       -0.833086   \n",
       "0001000094       1      7       33468     1797       0.663952       -0.833086   \n",
       "0001000095       1      7       33468     1797      -1.571808       -0.833086   \n",
       "\n",
       "            view  waterfront  greenbelt  \n",
       "id                                       \n",
       "0001000055     0           0          0  \n",
       "0001000061     0           0          0  \n",
       "0001000070     0           0          0  \n",
       "0001000094     0           0          0  \n",
       "0001000095     0           0          0  "
      ]
     },
     "execution_count": 28,
     "metadata": {},
     "output_type": "execute_result"
    }
   ],
   "source": [
    "# Merging, cleaning, and filtering the data. Converting zipcode to object type.\n",
    "df = dp.merge_prep(sales_clean, orig_clean, res_clean, parcel_clean, ods_clean)\n",
    "df['zipcode'] = df['zipcode'].astype(str)\n",
    "df.iloc[:5,:15]"
   ]
  },
  {
   "cell_type": "code",
   "execution_count": 29,
   "metadata": {
    "ExecuteTime": {
     "end_time": "2023-06-21T10:58:22.121885Z",
     "start_time": "2023-06-21T10:58:22.100834Z"
    }
   },
   "outputs": [
    {
     "data": {
      "text/html": [
       "<div>\n",
       "<style scoped>\n",
       "    .dataframe tbody tr th:only-of-type {\n",
       "        vertical-align: middle;\n",
       "    }\n",
       "\n",
       "    .dataframe tbody tr th {\n",
       "        vertical-align: top;\n",
       "    }\n",
       "\n",
       "    .dataframe thead th {\n",
       "        text-align: right;\n",
       "    }\n",
       "</style>\n",
       "<table border=\"1\" class=\"dataframe\">\n",
       "  <thead>\n",
       "    <tr style=\"text-align: right;\">\n",
       "      <th></th>\n",
       "      <th>nuisance</th>\n",
       "      <th>condition</th>\n",
       "      <th>yr_built</th>\n",
       "      <th>yr_renovated</th>\n",
       "      <th>zipcode</th>\n",
       "      <th>yr_last_construction</th>\n",
       "      <th>sqft_living_norm</th>\n",
       "      <th>sqft_lot_norm</th>\n",
       "      <th>sqft_basement_norm</th>\n",
       "      <th>floors_norm</th>\n",
       "      <th>grade_norm</th>\n",
       "      <th>population_norm</th>\n",
       "      <th>density_norm</th>\n",
       "      <th>view_norm</th>\n",
       "    </tr>\n",
       "    <tr>\n",
       "      <th>id</th>\n",
       "      <th></th>\n",
       "      <th></th>\n",
       "      <th></th>\n",
       "      <th></th>\n",
       "      <th></th>\n",
       "      <th></th>\n",
       "      <th></th>\n",
       "      <th></th>\n",
       "      <th></th>\n",
       "      <th></th>\n",
       "      <th></th>\n",
       "      <th></th>\n",
       "      <th></th>\n",
       "      <th></th>\n",
       "    </tr>\n",
       "  </thead>\n",
       "  <tbody>\n",
       "    <tr>\n",
       "      <th>0001000055</th>\n",
       "      <td>0</td>\n",
       "      <td>4</td>\n",
       "      <td>1958</td>\n",
       "      <td>0</td>\n",
       "      <td>98002</td>\n",
       "      <td>1958</td>\n",
       "      <td>-0.302742</td>\n",
       "      <td>4.548251</td>\n",
       "      <td>-0.864438</td>\n",
       "      <td>-0.79588</td>\n",
       "      <td>-0.544432</td>\n",
       "      <td>-0.116293</td>\n",
       "      <td>-0.135439</td>\n",
       "      <td>-0.334298</td>\n",
       "    </tr>\n",
       "    <tr>\n",
       "      <th>0001000061</th>\n",
       "      <td>0</td>\n",
       "      <td>5</td>\n",
       "      <td>1958</td>\n",
       "      <td>0</td>\n",
       "      <td>98002</td>\n",
       "      <td>1958</td>\n",
       "      <td>-0.207088</td>\n",
       "      <td>0.107864</td>\n",
       "      <td>-0.864438</td>\n",
       "      <td>-0.79588</td>\n",
       "      <td>0.402231</td>\n",
       "      <td>-0.116293</td>\n",
       "      <td>-0.135439</td>\n",
       "      <td>-0.334298</td>\n",
       "    </tr>\n",
       "    <tr>\n",
       "      <th>0001000070</th>\n",
       "      <td>0</td>\n",
       "      <td>4</td>\n",
       "      <td>1958</td>\n",
       "      <td>0</td>\n",
       "      <td>98002</td>\n",
       "      <td>1958</td>\n",
       "      <td>-0.302742</td>\n",
       "      <td>1.512590</td>\n",
       "      <td>-0.864438</td>\n",
       "      <td>-0.79588</td>\n",
       "      <td>0.402231</td>\n",
       "      <td>-0.116293</td>\n",
       "      <td>-0.135439</td>\n",
       "      <td>-0.334298</td>\n",
       "    </tr>\n",
       "    <tr>\n",
       "      <th>0001000094</th>\n",
       "      <td>0</td>\n",
       "      <td>4</td>\n",
       "      <td>1934</td>\n",
       "      <td>0</td>\n",
       "      <td>98002</td>\n",
       "      <td>1934</td>\n",
       "      <td>0.225751</td>\n",
       "      <td>0.601013</td>\n",
       "      <td>-0.864438</td>\n",
       "      <td>-0.79588</td>\n",
       "      <td>-0.544432</td>\n",
       "      <td>-0.116293</td>\n",
       "      <td>-0.135439</td>\n",
       "      <td>-0.334298</td>\n",
       "    </tr>\n",
       "    <tr>\n",
       "      <th>0001000095</th>\n",
       "      <td>0</td>\n",
       "      <td>4</td>\n",
       "      <td>1914</td>\n",
       "      <td>0</td>\n",
       "      <td>98002</td>\n",
       "      <td>1914</td>\n",
       "      <td>-1.295162</td>\n",
       "      <td>-0.202734</td>\n",
       "      <td>-0.023195</td>\n",
       "      <td>-0.79588</td>\n",
       "      <td>-0.544432</td>\n",
       "      <td>-0.116293</td>\n",
       "      <td>-0.135439</td>\n",
       "      <td>-0.334298</td>\n",
       "    </tr>\n",
       "  </tbody>\n",
       "</table>\n",
       "</div>"
      ],
      "text/plain": [
       "            nuisance  condition  yr_built  yr_renovated zipcode  \\\n",
       "id                                                                \n",
       "0001000055         0          4      1958             0   98002   \n",
       "0001000061         0          5      1958             0   98002   \n",
       "0001000070         0          4      1958             0   98002   \n",
       "0001000094         0          4      1934             0   98002   \n",
       "0001000095         0          4      1914             0   98002   \n",
       "\n",
       "            yr_last_construction  sqft_living_norm  sqft_lot_norm  \\\n",
       "id                                                                  \n",
       "0001000055                  1958         -0.302742       4.548251   \n",
       "0001000061                  1958         -0.207088       0.107864   \n",
       "0001000070                  1958         -0.302742       1.512590   \n",
       "0001000094                  1934          0.225751       0.601013   \n",
       "0001000095                  1914         -1.295162      -0.202734   \n",
       "\n",
       "            sqft_basement_norm  floors_norm  grade_norm  population_norm  \\\n",
       "id                                                                         \n",
       "0001000055           -0.864438     -0.79588   -0.544432        -0.116293   \n",
       "0001000061           -0.864438     -0.79588    0.402231        -0.116293   \n",
       "0001000070           -0.864438     -0.79588    0.402231        -0.116293   \n",
       "0001000094           -0.864438     -0.79588   -0.544432        -0.116293   \n",
       "0001000095           -0.023195     -0.79588   -0.544432        -0.116293   \n",
       "\n",
       "            density_norm  view_norm  \n",
       "id                                   \n",
       "0001000055     -0.135439  -0.334298  \n",
       "0001000061     -0.135439  -0.334298  \n",
       "0001000070     -0.135439  -0.334298  \n",
       "0001000094     -0.135439  -0.334298  \n",
       "0001000095     -0.135439  -0.334298  "
      ]
     },
     "execution_count": 29,
     "metadata": {},
     "output_type": "execute_result"
    }
   ],
   "source": [
    "df.iloc[:5,15:]"
   ]
  },
  {
   "cell_type": "code",
   "execution_count": 30,
   "metadata": {
    "ExecuteTime": {
     "end_time": "2023-06-21T10:58:24.115409Z",
     "start_time": "2023-06-21T10:58:24.090341Z"
    }
   },
   "outputs": [
    {
     "name": "stdout",
     "output_type": "stream",
     "text": [
      "<class 'pandas.core.frame.DataFrame'>\n",
      "Index: 47579 entries, 0001000055 to 9906000065\n",
      "Data columns (total 29 columns):\n",
      " #   Column                Non-Null Count  Dtype  \n",
      "---  ------                --------------  -----  \n",
      " 0   price                 47579 non-null  int64  \n",
      " 1   bedrooms              47579 non-null  int64  \n",
      " 2   bathrooms             47579 non-null  int64  \n",
      " 3   sqft_living           47579 non-null  int64  \n",
      " 4   sqft_lot              47579 non-null  int64  \n",
      " 5   sqft_basement         47579 non-null  int64  \n",
      " 6   floors                47579 non-null  int64  \n",
      " 7   grade                 47579 non-null  int64  \n",
      " 8   population            47579 non-null  int64  \n",
      " 9   density               47579 non-null  int64  \n",
      " 10  bedrooms_norm         47579 non-null  float64\n",
      " 11  bathrooms_norm        47579 non-null  float64\n",
      " 12  view                  47579 non-null  int64  \n",
      " 13  waterfront            47579 non-null  int64  \n",
      " 14  greenbelt             47579 non-null  int64  \n",
      " 15  nuisance              47579 non-null  int64  \n",
      " 16  condition             47579 non-null  int64  \n",
      " 17  yr_built              47579 non-null  int64  \n",
      " 18  yr_renovated          47579 non-null  int64  \n",
      " 19  zipcode               47579 non-null  object \n",
      " 20  yr_last_construction  47579 non-null  int64  \n",
      " 21  sqft_living_norm      47579 non-null  float64\n",
      " 22  sqft_lot_norm         47579 non-null  float64\n",
      " 23  sqft_basement_norm    47579 non-null  float64\n",
      " 24  floors_norm           47579 non-null  float64\n",
      " 25  grade_norm            47579 non-null  float64\n",
      " 26  population_norm       47579 non-null  float64\n",
      " 27  density_norm          47579 non-null  float64\n",
      " 28  view_norm             47579 non-null  float64\n",
      "dtypes: float64(10), int64(18), object(1)\n",
      "memory usage: 10.9+ MB\n"
     ]
    }
   ],
   "source": [
    "df.info()"
   ]
  },
  {
   "cell_type": "markdown",
   "metadata": {},
   "source": [
    "# Data Modeling"
   ]
  },
  {
   "cell_type": "code",
   "execution_count": null,
   "metadata": {
    "ExecuteTime": {
     "end_time": "2023-06-21T10:54:33.361358Z",
     "start_time": "2023-06-21T10:54:11.495Z"
    }
   },
   "outputs": [],
   "source": [
    "Describe and justify the process for analyzing or modeling the data.\n",
    "\n",
    "***\n",
    "Questions to consider:\n",
    "* How did you analyze or model the data?\n",
    "* How did you iterate on your initial approach to make it better?\n",
    "* Why are these choices appropriate given the data and the business problem?\n",
    "***"
   ]
  },
  {
   "cell_type": "markdown",
   "metadata": {},
   "source": [
    "# Evaluation"
   ]
  },
  {
   "cell_type": "markdown",
   "metadata": {},
   "source": [
    "Evaluate how well your work solves the stated business problem.\n",
    "\n",
    "***\n",
    "Questions to consider:\n",
    "* How do you interpret the results?\n",
    "* How well does your model fit your data? How much better is this than your baseline model?\n",
    "* How confident are you that your results would generalize beyond the data you have?\n",
    "* How confident are you that this model would benefit the business if put into use?\n",
    "***"
   ]
  },
  {
   "cell_type": "markdown",
   "metadata": {},
   "source": [
    "# Conclusion"
   ]
  },
  {
   "cell_type": "markdown",
   "metadata": {},
   "source": [
    "Provide your conclusions about the work you've done, including any limitations or next steps.\n",
    "\n",
    "***\n",
    "Questions to consider:\n",
    "* What would you recommend the business do as a result of this work?\n",
    "* What are some reasons why your analysis might not fully solve the business problem?\n",
    "* What else could you do in the future to improve this project?\n",
    "***"
   ]
  },
  {
   "cell_type": "markdown",
   "metadata": {},
   "source": [
    "## Limitations\n",
    "\n",
    "Identifying the limitations and/or uncertainty present in your analysis\n",
    "This could include p-values/alpha values, confidence intervals, assumptions of linear regression, missing data, etc.\n",
    "In general, this should be more in-depth for a data science audience and more surface-level for a business audience.\n",
    "***\n",
    "- Residuals still not normally distributed despite log transforming.\n",
    "- The resituals are also heterodastic indicating ohter variables affecting the data\n",
    "not linear either.\n",
    "- Using data from housing sales and not apprasals. \n",
    "- The housing market is also affected by many things other than properties of the house, such as interest rates. "
   ]
  },
  {
   "cell_type": "markdown",
   "metadata": {},
   "source": [
    "## Recommendations\n"
   ]
  },
  {
   "cell_type": "markdown",
   "metadata": {},
   "source": [
    "Interpreting the model results and limitations in the context of the business problem\n",
    "What should stakeholders do with this information?\n",
    "***\n",
    "Using square footage, waterfront location, and zip code, we can roughly predict housing prices and thus recommend properties which are priced lower than our model would have predicted."
   ]
  }
 ],
 "metadata": {
  "kernelspec": {
   "display_name": "Python (learn-env3)",
   "language": "python",
   "name": "learn-env3"
  },
  "language_info": {
   "codemirror_mode": {
    "name": "ipython",
    "version": 3
   },
   "file_extension": ".py",
   "mimetype": "text/x-python",
   "name": "python",
   "nbconvert_exporter": "python",
   "pygments_lexer": "ipython3",
   "version": "3.8.5"
  }
 },
 "nbformat": 4,
 "nbformat_minor": 4
}
