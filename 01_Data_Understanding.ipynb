{
 "cells": [
  {
   "cell_type": "code",
   "execution_count": 1,
   "metadata": {
    "ExecuteTime": {
     "end_time": "2023-06-19T13:22:04.498155Z",
     "start_time": "2023-06-19T13:21:59.421054Z"
    }
   },
   "outputs": [],
   "source": [
    "import pandas as pd\n",
    "import numpy as np\n",
    "import matplotlib.pyplot as plt\n",
    "import seaborn as sns\n",
    "import statsmodels.api as sm\n",
    "%matplotlib inline\n",
    "orig_df = pd.read_csv('data/original.csv')\n",
    "res = pd.read_csv('data/residential.csv', low_memory=False)\n",
    "parcel = pd.read_csv('data/parcel.csv', low_memory=False)\n",
    "sales = pd.read_csv('data/sales.csv', low_memory=False)\n",
    "ods = pd.read_csv('data/open_datasoft.csv')"
   ]
  },
  {
   "cell_type": "markdown",
   "metadata": {},
   "source": [
    "### Original Dataset\n",
    "For this project I used the dataset provided by the Flatiron School which comes from [King County Assessor Data](https://info.kingcounty.gov/assessor/DataDownload/default.aspx) \n",
    "\n",
    "Here are the variables I used, including their descriptions:\n",
    "* **id** - Unique identifier for a house\n",
    "* **date** - Date house was sold\n",
    "* **price** - Sale price (prediction target)\n",
    "* **bedrooms** - Number of bedrooms\n",
    "* **bathrooms** - Number of bathrooms\n",
    "* **sqft_living** - Square footage of living space in the home\n",
    "* **sqft_lot** - Square footage of the lot\n",
    "* **floors** - Number of floors (levels) in house\n",
    "* **waterfront** - Whether the house is on a waterfront\n",
    "* **greenbelt** - Whether the house is adjacent to a green belt\n",
    "* **nuisance** - Whether the house has traffic noise or other recorded nuisances\n",
    "* **view** - Quality of view from house\n",
    "* **condition** - How good the overall condition of the house is. Related to maintenance of house.\n",
    "* **grade** - Overall grade of the house. Related to the construction and design of the house.\n",
    "* **sqft_basement** - Square footage of the basement\n",
    "* **yr_built** - Year when house was built\n",
    "* **yr_renovated** - Year when house was renovated\n",
    "* **address** - The street address"
   ]
  },
  {
   "cell_type": "code",
   "execution_count": 2,
   "metadata": {
    "ExecuteTime": {
     "end_time": "2023-06-19T13:22:04.524096Z",
     "start_time": "2023-06-19T13:22:04.501441Z"
    },
    "scrolled": true
   },
   "outputs": [
    {
     "name": "stdout",
     "output_type": "stream",
     "text": [
      "<class 'pandas.core.frame.DataFrame'>\n",
      "RangeIndex: 30155 entries, 0 to 30154\n",
      "Data columns (total 18 columns):\n",
      " #   Column         Non-Null Count  Dtype  \n",
      "---  ------         --------------  -----  \n",
      " 0   id             30155 non-null  int64  \n",
      " 1   date           30155 non-null  object \n",
      " 2   price          30155 non-null  float64\n",
      " 3   bedrooms       30155 non-null  int64  \n",
      " 4   bathrooms      30155 non-null  float64\n",
      " 5   sqft_living    30155 non-null  int64  \n",
      " 6   sqft_lot       30155 non-null  int64  \n",
      " 7   floors         30155 non-null  float64\n",
      " 8   waterfront     30155 non-null  object \n",
      " 9   greenbelt      30155 non-null  object \n",
      " 10  nuisance       30155 non-null  object \n",
      " 11  view           30155 non-null  object \n",
      " 12  condition      30155 non-null  object \n",
      " 13  grade          30155 non-null  object \n",
      " 14  sqft_basement  30155 non-null  int64  \n",
      " 15  yr_built       30155 non-null  int64  \n",
      " 16  yr_renovated   30155 non-null  int64  \n",
      " 17  address        30155 non-null  object \n",
      "dtypes: float64(3), int64(7), object(8)\n",
      "memory usage: 4.1+ MB\n"
     ]
    }
   ],
   "source": [
    "orig_df.info()"
   ]
  },
  {
   "cell_type": "code",
   "execution_count": 3,
   "metadata": {
    "ExecuteTime": {
     "end_time": "2023-06-19T13:22:04.553605Z",
     "start_time": "2023-06-19T13:22:04.530065Z"
    }
   },
   "outputs": [
    {
     "data": {
      "text/html": [
       "<div>\n",
       "<style scoped>\n",
       "    .dataframe tbody tr th:only-of-type {\n",
       "        vertical-align: middle;\n",
       "    }\n",
       "\n",
       "    .dataframe tbody tr th {\n",
       "        vertical-align: top;\n",
       "    }\n",
       "\n",
       "    .dataframe thead th {\n",
       "        text-align: right;\n",
       "    }\n",
       "</style>\n",
       "<table border=\"1\" class=\"dataframe\">\n",
       "  <thead>\n",
       "    <tr style=\"text-align: right;\">\n",
       "      <th></th>\n",
       "      <th>id</th>\n",
       "      <th>date</th>\n",
       "      <th>price</th>\n",
       "      <th>bedrooms</th>\n",
       "      <th>bathrooms</th>\n",
       "      <th>sqft_living</th>\n",
       "      <th>sqft_lot</th>\n",
       "      <th>floors</th>\n",
       "      <th>waterfront</th>\n",
       "      <th>greenbelt</th>\n",
       "      <th>nuisance</th>\n",
       "      <th>view</th>\n",
       "      <th>condition</th>\n",
       "      <th>grade</th>\n",
       "      <th>sqft_basement</th>\n",
       "      <th>yr_built</th>\n",
       "      <th>yr_renovated</th>\n",
       "      <th>address</th>\n",
       "    </tr>\n",
       "  </thead>\n",
       "  <tbody>\n",
       "    <tr>\n",
       "      <th>0</th>\n",
       "      <td>7399300360</td>\n",
       "      <td>5/24/2022</td>\n",
       "      <td>675000.0</td>\n",
       "      <td>4</td>\n",
       "      <td>1.0</td>\n",
       "      <td>1180</td>\n",
       "      <td>7140</td>\n",
       "      <td>1.0</td>\n",
       "      <td>NO</td>\n",
       "      <td>NO</td>\n",
       "      <td>NO</td>\n",
       "      <td>NONE</td>\n",
       "      <td>Good</td>\n",
       "      <td>7 Average</td>\n",
       "      <td>0</td>\n",
       "      <td>1969</td>\n",
       "      <td>0</td>\n",
       "      <td>2102 Southeast 21st Court, Renton, Washington ...</td>\n",
       "    </tr>\n",
       "    <tr>\n",
       "      <th>1</th>\n",
       "      <td>8910500230</td>\n",
       "      <td>12/13/2021</td>\n",
       "      <td>920000.0</td>\n",
       "      <td>5</td>\n",
       "      <td>2.5</td>\n",
       "      <td>2770</td>\n",
       "      <td>6703</td>\n",
       "      <td>1.0</td>\n",
       "      <td>NO</td>\n",
       "      <td>NO</td>\n",
       "      <td>YES</td>\n",
       "      <td>AVERAGE</td>\n",
       "      <td>Average</td>\n",
       "      <td>7 Average</td>\n",
       "      <td>1570</td>\n",
       "      <td>1950</td>\n",
       "      <td>0</td>\n",
       "      <td>11231 Greenwood Avenue North, Seattle, Washing...</td>\n",
       "    </tr>\n",
       "    <tr>\n",
       "      <th>2</th>\n",
       "      <td>1180000275</td>\n",
       "      <td>9/29/2021</td>\n",
       "      <td>311000.0</td>\n",
       "      <td>6</td>\n",
       "      <td>2.0</td>\n",
       "      <td>2880</td>\n",
       "      <td>6156</td>\n",
       "      <td>1.0</td>\n",
       "      <td>NO</td>\n",
       "      <td>NO</td>\n",
       "      <td>NO</td>\n",
       "      <td>AVERAGE</td>\n",
       "      <td>Average</td>\n",
       "      <td>7 Average</td>\n",
       "      <td>1580</td>\n",
       "      <td>1956</td>\n",
       "      <td>0</td>\n",
       "      <td>8504 South 113th Street, Seattle, Washington 9...</td>\n",
       "    </tr>\n",
       "  </tbody>\n",
       "</table>\n",
       "</div>"
      ],
      "text/plain": [
       "           id        date     price  bedrooms  bathrooms  sqft_living  \\\n",
       "0  7399300360   5/24/2022  675000.0         4        1.0         1180   \n",
       "1  8910500230  12/13/2021  920000.0         5        2.5         2770   \n",
       "2  1180000275   9/29/2021  311000.0         6        2.0         2880   \n",
       "\n",
       "   sqft_lot  floors waterfront greenbelt nuisance     view condition  \\\n",
       "0      7140     1.0         NO        NO       NO     NONE      Good   \n",
       "1      6703     1.0         NO        NO      YES  AVERAGE   Average   \n",
       "2      6156     1.0         NO        NO       NO  AVERAGE   Average   \n",
       "\n",
       "       grade  sqft_basement  yr_built  yr_renovated  \\\n",
       "0  7 Average              0      1969             0   \n",
       "1  7 Average           1570      1950             0   \n",
       "2  7 Average           1580      1956             0   \n",
       "\n",
       "                                             address  \n",
       "0  2102 Southeast 21st Court, Renton, Washington ...  \n",
       "1  11231 Greenwood Avenue North, Seattle, Washing...  \n",
       "2  8504 South 113th Street, Seattle, Washington 9...  "
      ]
     },
     "execution_count": 3,
     "metadata": {},
     "output_type": "execute_result"
    }
   ],
   "source": [
    "orig_df.head(3)"
   ]
  },
  {
   "cell_type": "markdown",
   "metadata": {},
   "source": [
    "### Additional Datasets\n",
    "I also incorporated additional datasets from [King County Assessor Data](https://info.kingcounty.gov/assessor/DataDownload/default.aspx): \n",
    "* Residential Building\n",
    "* Parcel\n",
    "* Real Property Sales\n",
    "\n",
    "Each of these datasets includes a `Major` and `Minor` column which have six and four characters respectively and may have leading zeros. When concatenated they create a unique `id` which will be used for merging."
   ]
  },
  {
   "cell_type": "code",
   "execution_count": 4,
   "metadata": {
    "ExecuteTime": {
     "end_time": "2023-06-19T13:22:04.614556Z",
     "start_time": "2023-06-19T13:22:04.557242Z"
    },
    "scrolled": false
   },
   "outputs": [
    {
     "name": "stdout",
     "output_type": "stream",
     "text": [
      "<class 'pandas.core.frame.DataFrame'>\n",
      "RangeIndex: 524552 entries, 0 to 524551\n",
      "Data columns (total 13 columns):\n",
      " #   Column           Non-Null Count   Dtype  \n",
      "---  ------           --------------   -----  \n",
      " 0   Major            524552 non-null  int64  \n",
      " 1   Minor            524552 non-null  int64  \n",
      " 2   ZipCode          472502 non-null  object \n",
      " 3   Stories          524552 non-null  float64\n",
      " 4   BldgGrade        524552 non-null  int64  \n",
      " 5   SqFtTotLiving    524552 non-null  int64  \n",
      " 6   SqFtTotBasement  524552 non-null  int64  \n",
      " 7   SqFtFinBasement  524552 non-null  int64  \n",
      " 8   Bedrooms         524552 non-null  int64  \n",
      " 9   BathFullCount    524552 non-null  int64  \n",
      " 10  YrBuilt          524552 non-null  int64  \n",
      " 11  YrRenovated      524552 non-null  int64  \n",
      " 12  Condition        524552 non-null  int64  \n",
      "dtypes: float64(1), int64(11), object(1)\n",
      "memory usage: 52.0+ MB\n"
     ]
    }
   ],
   "source": [
    "res.info()"
   ]
  },
  {
   "cell_type": "code",
   "execution_count": 5,
   "metadata": {
    "ExecuteTime": {
     "end_time": "2023-06-19T13:22:04.627615Z",
     "start_time": "2023-06-19T13:22:04.616529Z"
    }
   },
   "outputs": [
    {
     "data": {
      "text/html": [
       "<div>\n",
       "<style scoped>\n",
       "    .dataframe tbody tr th:only-of-type {\n",
       "        vertical-align: middle;\n",
       "    }\n",
       "\n",
       "    .dataframe tbody tr th {\n",
       "        vertical-align: top;\n",
       "    }\n",
       "\n",
       "    .dataframe thead th {\n",
       "        text-align: right;\n",
       "    }\n",
       "</style>\n",
       "<table border=\"1\" class=\"dataframe\">\n",
       "  <thead>\n",
       "    <tr style=\"text-align: right;\">\n",
       "      <th></th>\n",
       "      <th>Major</th>\n",
       "      <th>Minor</th>\n",
       "      <th>ZipCode</th>\n",
       "      <th>Stories</th>\n",
       "      <th>BldgGrade</th>\n",
       "      <th>SqFtTotLiving</th>\n",
       "      <th>SqFtTotBasement</th>\n",
       "      <th>SqFtFinBasement</th>\n",
       "      <th>Bedrooms</th>\n",
       "      <th>BathFullCount</th>\n",
       "      <th>YrBuilt</th>\n",
       "      <th>YrRenovated</th>\n",
       "      <th>Condition</th>\n",
       "    </tr>\n",
       "  </thead>\n",
       "  <tbody>\n",
       "    <tr>\n",
       "      <th>0</th>\n",
       "      <td>12603</td>\n",
       "      <td>9624</td>\n",
       "      <td>98133</td>\n",
       "      <td>1.0</td>\n",
       "      <td>8</td>\n",
       "      <td>1810</td>\n",
       "      <td>720</td>\n",
       "      <td>420</td>\n",
       "      <td>3</td>\n",
       "      <td>2</td>\n",
       "      <td>1982</td>\n",
       "      <td>0</td>\n",
       "      <td>3</td>\n",
       "    </tr>\n",
       "    <tr>\n",
       "      <th>1</th>\n",
       "      <td>12603</td>\n",
       "      <td>9625</td>\n",
       "      <td>98177</td>\n",
       "      <td>1.5</td>\n",
       "      <td>7</td>\n",
       "      <td>4340</td>\n",
       "      <td>2320</td>\n",
       "      <td>1740</td>\n",
       "      <td>3</td>\n",
       "      <td>2</td>\n",
       "      <td>1994</td>\n",
       "      <td>0</td>\n",
       "      <td>3</td>\n",
       "    </tr>\n",
       "    <tr>\n",
       "      <th>2</th>\n",
       "      <td>12603</td>\n",
       "      <td>9628</td>\n",
       "      <td>98133</td>\n",
       "      <td>1.0</td>\n",
       "      <td>7</td>\n",
       "      <td>1800</td>\n",
       "      <td>660</td>\n",
       "      <td>660</td>\n",
       "      <td>4</td>\n",
       "      <td>1</td>\n",
       "      <td>1982</td>\n",
       "      <td>0</td>\n",
       "      <td>3</td>\n",
       "    </tr>\n",
       "  </tbody>\n",
       "</table>\n",
       "</div>"
      ],
      "text/plain": [
       "   Major  Minor ZipCode  Stories  BldgGrade  SqFtTotLiving  SqFtTotBasement  \\\n",
       "0  12603   9624   98133      1.0          8           1810              720   \n",
       "1  12603   9625   98177      1.5          7           4340             2320   \n",
       "2  12603   9628   98133      1.0          7           1800              660   \n",
       "\n",
       "   SqFtFinBasement  Bedrooms  BathFullCount  YrBuilt  YrRenovated  Condition  \n",
       "0              420         3              2     1982            0          3  \n",
       "1             1740         3              2     1994            0          3  \n",
       "2              660         4              1     1982            0          3  "
      ]
     },
     "execution_count": 5,
     "metadata": {},
     "output_type": "execute_result"
    }
   ],
   "source": [
    "res.head(3)"
   ]
  },
  {
   "cell_type": "code",
   "execution_count": 6,
   "metadata": {
    "ExecuteTime": {
     "end_time": "2023-06-19T13:22:04.735122Z",
     "start_time": "2023-06-19T13:22:04.629556Z"
    }
   },
   "outputs": [
    {
     "name": "stdout",
     "output_type": "stream",
     "text": [
      "<class 'pandas.core.frame.DataFrame'>\n",
      "RangeIndex: 622667 entries, 0 to 622666\n",
      "Data columns (total 20 columns):\n",
      " #   Column               Non-Null Count   Dtype \n",
      "---  ------               --------------   ----- \n",
      " 0   Major                622667 non-null  int64 \n",
      " 1   Minor                622667 non-null  int64 \n",
      " 2   PropType             622667 non-null  object\n",
      " 3   SqFtLot              622667 non-null  int64 \n",
      " 4   MtRainier            622667 non-null  int64 \n",
      " 5   Olympics             622667 non-null  int64 \n",
      " 6   Cascades             622667 non-null  int64 \n",
      " 7   Territorial          622667 non-null  int64 \n",
      " 8   SeattleSkyline       622667 non-null  int64 \n",
      " 9   PugetSound           622667 non-null  int64 \n",
      " 10  LakeWashington       622667 non-null  int64 \n",
      " 11  LakeSammamish        622667 non-null  int64 \n",
      " 12  SmallLakeRiverCreek  622667 non-null  int64 \n",
      " 13  OtherView            622667 non-null  int64 \n",
      " 14  WfntLocation         622667 non-null  int64 \n",
      " 15  TrafficNoise         622667 non-null  int64 \n",
      " 16  AirportNoise         622667 non-null  int64 \n",
      " 17  PowerLines           622667 non-null  object\n",
      " 18  OtherNuisances       622667 non-null  object\n",
      " 19  AdjacentGreenbelt    622667 non-null  object\n",
      "dtypes: int64(16), object(4)\n",
      "memory usage: 95.0+ MB\n"
     ]
    }
   ],
   "source": [
    "parcel.info()"
   ]
  },
  {
   "cell_type": "code",
   "execution_count": 7,
   "metadata": {
    "ExecuteTime": {
     "end_time": "2023-06-19T13:22:04.752259Z",
     "start_time": "2023-06-19T13:22:04.739369Z"
    }
   },
   "outputs": [
    {
     "data": {
      "text/html": [
       "<div>\n",
       "<style scoped>\n",
       "    .dataframe tbody tr th:only-of-type {\n",
       "        vertical-align: middle;\n",
       "    }\n",
       "\n",
       "    .dataframe tbody tr th {\n",
       "        vertical-align: top;\n",
       "    }\n",
       "\n",
       "    .dataframe thead th {\n",
       "        text-align: right;\n",
       "    }\n",
       "</style>\n",
       "<table border=\"1\" class=\"dataframe\">\n",
       "  <thead>\n",
       "    <tr style=\"text-align: right;\">\n",
       "      <th></th>\n",
       "      <th>Major</th>\n",
       "      <th>Minor</th>\n",
       "      <th>PropType</th>\n",
       "      <th>SqFtLot</th>\n",
       "      <th>MtRainier</th>\n",
       "      <th>Olympics</th>\n",
       "      <th>Cascades</th>\n",
       "      <th>Territorial</th>\n",
       "      <th>SeattleSkyline</th>\n",
       "      <th>PugetSound</th>\n",
       "      <th>LakeWashington</th>\n",
       "      <th>LakeSammamish</th>\n",
       "      <th>SmallLakeRiverCreek</th>\n",
       "      <th>OtherView</th>\n",
       "      <th>WfntLocation</th>\n",
       "      <th>TrafficNoise</th>\n",
       "      <th>AirportNoise</th>\n",
       "      <th>PowerLines</th>\n",
       "      <th>OtherNuisances</th>\n",
       "      <th>AdjacentGreenbelt</th>\n",
       "    </tr>\n",
       "  </thead>\n",
       "  <tbody>\n",
       "    <tr>\n",
       "      <th>0</th>\n",
       "      <td>714760</td>\n",
       "      <td>85</td>\n",
       "      <td>R</td>\n",
       "      <td>16693</td>\n",
       "      <td>0</td>\n",
       "      <td>0</td>\n",
       "      <td>0</td>\n",
       "      <td>0</td>\n",
       "      <td>0</td>\n",
       "      <td>0</td>\n",
       "      <td>0</td>\n",
       "      <td>0</td>\n",
       "      <td>0</td>\n",
       "      <td>0</td>\n",
       "      <td>0</td>\n",
       "      <td>0</td>\n",
       "      <td>0</td>\n",
       "      <td>N</td>\n",
       "      <td>N</td>\n",
       "      <td>N</td>\n",
       "    </tr>\n",
       "    <tr>\n",
       "      <th>1</th>\n",
       "      <td>739920</td>\n",
       "      <td>210</td>\n",
       "      <td>R</td>\n",
       "      <td>8686</td>\n",
       "      <td>0</td>\n",
       "      <td>0</td>\n",
       "      <td>0</td>\n",
       "      <td>0</td>\n",
       "      <td>0</td>\n",
       "      <td>0</td>\n",
       "      <td>0</td>\n",
       "      <td>0</td>\n",
       "      <td>0</td>\n",
       "      <td>0</td>\n",
       "      <td>0</td>\n",
       "      <td>0</td>\n",
       "      <td>0</td>\n",
       "      <td>N</td>\n",
       "      <td>N</td>\n",
       "      <td>N</td>\n",
       "    </tr>\n",
       "    <tr>\n",
       "      <th>2</th>\n",
       "      <td>510140</td>\n",
       "      <td>8598</td>\n",
       "      <td>R</td>\n",
       "      <td>6434</td>\n",
       "      <td>0</td>\n",
       "      <td>0</td>\n",
       "      <td>0</td>\n",
       "      <td>0</td>\n",
       "      <td>0</td>\n",
       "      <td>0</td>\n",
       "      <td>0</td>\n",
       "      <td>0</td>\n",
       "      <td>0</td>\n",
       "      <td>0</td>\n",
       "      <td>0</td>\n",
       "      <td>0</td>\n",
       "      <td>0</td>\n",
       "      <td>N</td>\n",
       "      <td>N</td>\n",
       "      <td>N</td>\n",
       "    </tr>\n",
       "  </tbody>\n",
       "</table>\n",
       "</div>"
      ],
      "text/plain": [
       "    Major  Minor PropType  SqFtLot  MtRainier  Olympics  Cascades  \\\n",
       "0  714760     85        R    16693          0         0         0   \n",
       "1  739920    210        R     8686          0         0         0   \n",
       "2  510140   8598        R     6434          0         0         0   \n",
       "\n",
       "   Territorial  SeattleSkyline  PugetSound  LakeWashington  LakeSammamish  \\\n",
       "0            0               0           0               0              0   \n",
       "1            0               0           0               0              0   \n",
       "2            0               0           0               0              0   \n",
       "\n",
       "   SmallLakeRiverCreek  OtherView  WfntLocation  TrafficNoise  AirportNoise  \\\n",
       "0                    0          0             0             0             0   \n",
       "1                    0          0             0             0             0   \n",
       "2                    0          0             0             0             0   \n",
       "\n",
       "  PowerLines OtherNuisances AdjacentGreenbelt  \n",
       "0          N              N                 N  \n",
       "1          N              N                 N  \n",
       "2          N              N                 N  "
      ]
     },
     "execution_count": 7,
     "metadata": {},
     "output_type": "execute_result"
    }
   ],
   "source": [
    "parcel.head(3)"
   ]
  },
  {
   "cell_type": "code",
   "execution_count": 8,
   "metadata": {
    "ExecuteTime": {
     "end_time": "2023-06-19T13:22:04.763321Z",
     "start_time": "2023-06-19T13:22:04.756638Z"
    },
    "scrolled": true
   },
   "outputs": [
    {
     "name": "stdout",
     "output_type": "stream",
     "text": [
      "<class 'pandas.core.frame.DataFrame'>\n",
      "RangeIndex: 2281280 entries, 0 to 2281279\n",
      "Data columns (total 5 columns):\n",
      " #   Column        Dtype \n",
      "---  ------        ----- \n",
      " 0   Major         object\n",
      " 1   Minor         object\n",
      " 2   DocumentDate  object\n",
      " 3   SalePrice     int64 \n",
      " 4   PrincipalUse  int64 \n",
      "dtypes: int64(2), object(3)\n",
      "memory usage: 87.0+ MB\n"
     ]
    }
   ],
   "source": [
    "sales.info()"
   ]
  },
  {
   "cell_type": "code",
   "execution_count": 9,
   "metadata": {
    "ExecuteTime": {
     "end_time": "2023-06-19T13:22:04.776790Z",
     "start_time": "2023-06-19T13:22:04.765623Z"
    }
   },
   "outputs": [
    {
     "data": {
      "text/html": [
       "<div>\n",
       "<style scoped>\n",
       "    .dataframe tbody tr th:only-of-type {\n",
       "        vertical-align: middle;\n",
       "    }\n",
       "\n",
       "    .dataframe tbody tr th {\n",
       "        vertical-align: top;\n",
       "    }\n",
       "\n",
       "    .dataframe thead th {\n",
       "        text-align: right;\n",
       "    }\n",
       "</style>\n",
       "<table border=\"1\" class=\"dataframe\">\n",
       "  <thead>\n",
       "    <tr style=\"text-align: right;\">\n",
       "      <th></th>\n",
       "      <th>Major</th>\n",
       "      <th>Minor</th>\n",
       "      <th>DocumentDate</th>\n",
       "      <th>SalePrice</th>\n",
       "      <th>PrincipalUse</th>\n",
       "    </tr>\n",
       "  </thead>\n",
       "  <tbody>\n",
       "    <tr>\n",
       "      <th>0</th>\n",
       "      <td>004000</td>\n",
       "      <td>0228</td>\n",
       "      <td>04/29/1997</td>\n",
       "      <td>103500</td>\n",
       "      <td>0</td>\n",
       "    </tr>\n",
       "    <tr>\n",
       "      <th>1</th>\n",
       "      <td>799671</td>\n",
       "      <td>0190</td>\n",
       "      <td>06/26/2019</td>\n",
       "      <td>0</td>\n",
       "      <td>6</td>\n",
       "    </tr>\n",
       "    <tr>\n",
       "      <th>2</th>\n",
       "      <td>327620</td>\n",
       "      <td>0100</td>\n",
       "      <td>09/01/2020</td>\n",
       "      <td>430000</td>\n",
       "      <td>6</td>\n",
       "    </tr>\n",
       "  </tbody>\n",
       "</table>\n",
       "</div>"
      ],
      "text/plain": [
       "    Major Minor DocumentDate  SalePrice  PrincipalUse\n",
       "0  004000  0228   04/29/1997     103500             0\n",
       "1  799671  0190   06/26/2019          0             6\n",
       "2  327620  0100   09/01/2020     430000             6"
      ]
     },
     "execution_count": 9,
     "metadata": {},
     "output_type": "execute_result"
    }
   ],
   "source": [
    "sales.head(3)"
   ]
  },
  {
   "cell_type": "markdown",
   "metadata": {},
   "source": [
    "Lastly, I used a dataset from [OpenDataSoft](https://data.opendatasoft.com/) to gather information about King County zip codes. This included:\n",
    "\n",
    "* **Zip Code** - The 5-digit zip code assigned by the U.S. Postal Service. Only includes zip codes in King County, WA.\n",
    "* **Population** - An estimate of the zip code's population.\n",
    "* **Density** - The estimated population per square kilometer.  "
   ]
  },
  {
   "cell_type": "code",
   "execution_count": 10,
   "metadata": {
    "ExecuteTime": {
     "end_time": "2023-06-19T13:22:04.788882Z",
     "start_time": "2023-06-19T13:22:04.779350Z"
    }
   },
   "outputs": [
    {
     "name": "stdout",
     "output_type": "stream",
     "text": [
      "<class 'pandas.core.frame.DataFrame'>\n",
      "RangeIndex: 87 entries, 0 to 86\n",
      "Data columns (total 3 columns):\n",
      " #   Column      Non-Null Count  Dtype  \n",
      "---  ------      --------------  -----  \n",
      " 0   Zip Code    87 non-null     int64  \n",
      " 1   Population  87 non-null     float64\n",
      " 2   Density     87 non-null     float64\n",
      "dtypes: float64(2), int64(1)\n",
      "memory usage: 2.2 KB\n"
     ]
    }
   ],
   "source": [
    "ods.info()"
   ]
  },
  {
   "cell_type": "code",
   "execution_count": 11,
   "metadata": {
    "ExecuteTime": {
     "end_time": "2023-06-19T13:22:04.800847Z",
     "start_time": "2023-06-19T13:22:04.790708Z"
    }
   },
   "outputs": [
    {
     "data": {
      "text/html": [
       "<div>\n",
       "<style scoped>\n",
       "    .dataframe tbody tr th:only-of-type {\n",
       "        vertical-align: middle;\n",
       "    }\n",
       "\n",
       "    .dataframe tbody tr th {\n",
       "        vertical-align: top;\n",
       "    }\n",
       "\n",
       "    .dataframe thead th {\n",
       "        text-align: right;\n",
       "    }\n",
       "</style>\n",
       "<table border=\"1\" class=\"dataframe\">\n",
       "  <thead>\n",
       "    <tr style=\"text-align: right;\">\n",
       "      <th></th>\n",
       "      <th>Zip Code</th>\n",
       "      <th>Population</th>\n",
       "      <th>Density</th>\n",
       "    </tr>\n",
       "  </thead>\n",
       "  <tbody>\n",
       "    <tr>\n",
       "      <th>0</th>\n",
       "      <td>98029</td>\n",
       "      <td>29250.0</td>\n",
       "      <td>1261.5</td>\n",
       "    </tr>\n",
       "    <tr>\n",
       "      <th>1</th>\n",
       "      <td>98070</td>\n",
       "      <td>10291.0</td>\n",
       "      <td>107.6</td>\n",
       "    </tr>\n",
       "    <tr>\n",
       "      <th>2</th>\n",
       "      <td>98074</td>\n",
       "      <td>28775.0</td>\n",
       "      <td>1041.4</td>\n",
       "    </tr>\n",
       "  </tbody>\n",
       "</table>\n",
       "</div>"
      ],
      "text/plain": [
       "   Zip Code  Population  Density\n",
       "0     98029     29250.0   1261.5\n",
       "1     98070     10291.0    107.6\n",
       "2     98074     28775.0   1041.4"
      ]
     },
     "execution_count": 11,
     "metadata": {},
     "output_type": "execute_result"
    }
   ],
   "source": [
    "ods.head(3)"
   ]
  }
 ],
 "metadata": {
  "kernelspec": {
   "display_name": "Python (learn-env3)",
   "language": "python",
   "name": "learn-env3"
  },
  "language_info": {
   "codemirror_mode": {
    "name": "ipython",
    "version": 3
   },
   "file_extension": ".py",
   "mimetype": "text/x-python",
   "name": "python",
   "nbconvert_exporter": "python",
   "pygments_lexer": "ipython3",
   "version": "3.8.5"
  }
 },
 "nbformat": 4,
 "nbformat_minor": 4
}
