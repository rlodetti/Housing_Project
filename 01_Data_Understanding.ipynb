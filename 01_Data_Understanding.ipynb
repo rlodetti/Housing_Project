{
 "cells": [
  {
   "cell_type": "code",
   "execution_count": 1,
   "metadata": {
    "ExecuteTime": {
     "end_time": "2023-06-18T16:38:32.774011Z",
     "start_time": "2023-06-18T16:38:27.471179Z"
    }
   },
   "outputs": [],
   "source": [
    "import pandas as pd\n",
    "import numpy as np\n",
    "import matplotlib.pyplot as plt\n",
    "import seaborn as sns\n",
    "import statsmodels.api as sm\n",
    "%matplotlib inline\n",
    "orig_df = pd.read_csv('data/original.csv')\n",
    "res = pd.read_csv('data/residential.csv', low_memory=False)\n",
    "parcel = pd.read_csv('data/parcel.csv', low_memory=False)\n",
    "sales = pd.read_csv('data/sales.csv', low_memory=False)\n",
    "ods = pd.read_csv('data/open_datasoft.csv',sep=';')"
   ]
  },
  {
   "cell_type": "markdown",
   "metadata": {},
   "source": [
    "### Original Dataset\n",
    "For this project I used the dataset provided by the Flatiron School which comes from [King County Assessor Data](https://info.kingcounty.gov/assessor/DataDownload/default.aspx) \n",
    "\n",
    "Here are the variables I used, including their descriptions:\n",
    "* **id** - Unique identifier for a house\n",
    "* **date** - Date house was sold\n",
    "* **price** - Sale price (prediction target)\n",
    "* **bedrooms** - Number of bedrooms\n",
    "* **bathrooms** - Number of bathrooms\n",
    "* **sqft_living** - Square footage of living space in the home\n",
    "* **sqft_lot** - Square footage of the lot\n",
    "* **floors** - Number of floors (levels) in house\n",
    "* **waterfront** - Whether the house is on a waterfront\n",
    "* **greenbelt** - Whether the house is adjacent to a green belt\n",
    "* **nuisance** - Whether the house has traffic noise or other recorded nuisances\n",
    "* **view** - Quality of view from house\n",
    "* **condition** - How good the overall condition of the house is. Related to maintenance of house.\n",
    "* **grade** - Overall grade of the house. Related to the construction and design of the house.\n",
    "* **sqft_basement** - Square footage of the basement\n",
    "* **yr_built** - Year when house was built\n",
    "* **yr_renovated** - Year when house was renovated\n",
    "* **address** - The street address"
   ]
  },
  {
   "cell_type": "code",
   "execution_count": 2,
   "metadata": {
    "ExecuteTime": {
     "end_time": "2023-06-18T16:39:19.400198Z",
     "start_time": "2023-06-18T16:39:19.366577Z"
    }
   },
   "outputs": [
    {
     "name": "stdout",
     "output_type": "stream",
     "text": [
      "<class 'pandas.core.frame.DataFrame'>\n",
      "RangeIndex: 30155 entries, 0 to 30154\n",
      "Data columns (total 18 columns):\n",
      " #   Column         Non-Null Count  Dtype  \n",
      "---  ------         --------------  -----  \n",
      " 0   id             30155 non-null  int64  \n",
      " 1   date           30155 non-null  object \n",
      " 2   price          30155 non-null  float64\n",
      " 3   bedrooms       30155 non-null  int64  \n",
      " 4   bathrooms      30155 non-null  float64\n",
      " 5   sqft_living    30155 non-null  int64  \n",
      " 6   sqft_lot       30155 non-null  int64  \n",
      " 7   floors         30155 non-null  float64\n",
      " 8   waterfront     30155 non-null  object \n",
      " 9   greenbelt      30155 non-null  object \n",
      " 10  nuisance       30155 non-null  object \n",
      " 11  view           30155 non-null  object \n",
      " 12  condition      30155 non-null  object \n",
      " 13  grade          30155 non-null  object \n",
      " 14  sqft_basement  30155 non-null  int64  \n",
      " 15  yr_built       30155 non-null  int64  \n",
      " 16  yr_renovated   30155 non-null  int64  \n",
      " 17  address        30155 non-null  object \n",
      "dtypes: float64(3), int64(7), object(8)\n",
      "memory usage: 4.1+ MB\n"
     ]
    }
   ],
   "source": [
    "orig_df.info()"
   ]
  },
  {
   "cell_type": "markdown",
   "metadata": {},
   "source": [
    "### Additional Datasets\n",
    "I also incorporated additional datasets from [King County Assessor Data](https://info.kingcounty.gov/assessor/DataDownload/default.aspx): \n",
    "* Residential Building\n",
    "* Parcel\n",
    "* Real Property Sales"
   ]
  },
  {
   "cell_type": "code",
   "execution_count": 3,
   "metadata": {
    "ExecuteTime": {
     "end_time": "2023-06-18T16:40:18.921716Z",
     "start_time": "2023-06-18T16:40:18.859252Z"
    },
    "scrolled": true
   },
   "outputs": [
    {
     "name": "stdout",
     "output_type": "stream",
     "text": [
      "<class 'pandas.core.frame.DataFrame'>\n",
      "RangeIndex: 524552 entries, 0 to 524551\n",
      "Data columns (total 13 columns):\n",
      " #   Column           Non-Null Count   Dtype  \n",
      "---  ------           --------------   -----  \n",
      " 0   Major            524552 non-null  int64  \n",
      " 1   Minor            524552 non-null  int64  \n",
      " 2   ZipCode          472502 non-null  object \n",
      " 3   Stories          524552 non-null  float64\n",
      " 4   BldgGrade        524552 non-null  int64  \n",
      " 5   SqFtTotLiving    524552 non-null  int64  \n",
      " 6   SqFtTotBasement  524552 non-null  int64  \n",
      " 7   SqFtFinBasement  524552 non-null  int64  \n",
      " 8   Bedrooms         524552 non-null  int64  \n",
      " 9   BathFullCount    524552 non-null  int64  \n",
      " 10  YrBuilt          524552 non-null  int64  \n",
      " 11  YrRenovated      524552 non-null  int64  \n",
      " 12  Condition        524552 non-null  int64  \n",
      "dtypes: float64(1), int64(11), object(1)\n",
      "memory usage: 52.0+ MB\n"
     ]
    }
   ],
   "source": [
    "res.info()"
   ]
  },
  {
   "cell_type": "code",
   "execution_count": 4,
   "metadata": {
    "ExecuteTime": {
     "end_time": "2023-06-18T16:41:53.422079Z",
     "start_time": "2023-06-18T16:41:53.288478Z"
    }
   },
   "outputs": [
    {
     "name": "stdout",
     "output_type": "stream",
     "text": [
      "<class 'pandas.core.frame.DataFrame'>\n",
      "RangeIndex: 622667 entries, 0 to 622666\n",
      "Data columns (total 20 columns):\n",
      " #   Column               Non-Null Count   Dtype \n",
      "---  ------               --------------   ----- \n",
      " 0   Major                622667 non-null  int64 \n",
      " 1   Minor                622667 non-null  int64 \n",
      " 2   PropType             622667 non-null  object\n",
      " 3   SqFtLot              622667 non-null  int64 \n",
      " 4   MtRainier            622667 non-null  int64 \n",
      " 5   Olympics             622667 non-null  int64 \n",
      " 6   Cascades             622667 non-null  int64 \n",
      " 7   Territorial          622667 non-null  int64 \n",
      " 8   SeattleSkyline       622667 non-null  int64 \n",
      " 9   PugetSound           622667 non-null  int64 \n",
      " 10  LakeWashington       622667 non-null  int64 \n",
      " 11  LakeSammamish        622667 non-null  int64 \n",
      " 12  SmallLakeRiverCreek  622667 non-null  int64 \n",
      " 13  OtherView            622667 non-null  int64 \n",
      " 14  WfntLocation         622667 non-null  int64 \n",
      " 15  TrafficNoise         622667 non-null  int64 \n",
      " 16  AirportNoise         622667 non-null  int64 \n",
      " 17  PowerLines           622667 non-null  object\n",
      " 18  OtherNuisances       622667 non-null  object\n",
      " 19  AdjacentGreenbelt    622667 non-null  object\n",
      "dtypes: int64(16), object(4)\n",
      "memory usage: 95.0+ MB\n"
     ]
    }
   ],
   "source": [
    "parcel.info()"
   ]
  },
  {
   "cell_type": "code",
   "execution_count": 5,
   "metadata": {
    "ExecuteTime": {
     "end_time": "2023-06-18T16:42:00.017910Z",
     "start_time": "2023-06-18T16:42:00.005745Z"
    },
    "scrolled": true
   },
   "outputs": [
    {
     "name": "stdout",
     "output_type": "stream",
     "text": [
      "<class 'pandas.core.frame.DataFrame'>\n",
      "RangeIndex: 2281280 entries, 0 to 2281279\n",
      "Data columns (total 5 columns):\n",
      " #   Column        Dtype \n",
      "---  ------        ----- \n",
      " 0   Major         object\n",
      " 1   Minor         object\n",
      " 2   DocumentDate  object\n",
      " 3   SalePrice     int64 \n",
      " 4   PrincipalUse  int64 \n",
      "dtypes: int64(2), object(3)\n",
      "memory usage: 87.0+ MB\n"
     ]
    }
   ],
   "source": [
    "sales.info()"
   ]
  },
  {
   "cell_type": "markdown",
   "metadata": {},
   "source": [
    "Lastly, I used a dataset from [OpenDataSoft](https://data.opendatasoft.com/) to gather information about King County zip codes. "
   ]
  },
  {
   "cell_type": "code",
   "execution_count": 6,
   "metadata": {
    "ExecuteTime": {
     "end_time": "2023-06-18T16:42:22.552907Z",
     "start_time": "2023-06-18T16:42:22.546100Z"
    }
   },
   "outputs": [
    {
     "name": "stdout",
     "output_type": "stream",
     "text": [
      "<class 'pandas.core.frame.DataFrame'>\n",
      "RangeIndex: 87 entries, 0 to 86\n",
      "Data columns (total 1 columns):\n",
      " #   Column                       Non-Null Count  Dtype \n",
      "---  ------                       --------------  ----- \n",
      " 0   Zip Code,Population,Density  87 non-null     object\n",
      "dtypes: object(1)\n",
      "memory usage: 824.0+ bytes\n"
     ]
    }
   ],
   "source": [
    "ods.info()"
   ]
  }
 ],
 "metadata": {
  "kernelspec": {
   "display_name": "Python (learn-env3)",
   "language": "python",
   "name": "learn-env3"
  },
  "language_info": {
   "codemirror_mode": {
    "name": "ipython",
    "version": 3
   },
   "file_extension": ".py",
   "mimetype": "text/x-python",
   "name": "python",
   "nbconvert_exporter": "python",
   "pygments_lexer": "ipython3",
   "version": "3.8.5"
  }
 },
 "nbformat": 4,
 "nbformat_minor": 4
}
