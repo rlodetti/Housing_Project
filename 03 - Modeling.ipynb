{
 "cells": [
  {
   "cell_type": "markdown",
   "metadata": {},
   "source": [
    "# Modeling\n",
    "Describe and justify the process for analyzing or modeling the data.\n",
    "\n",
    "***\n",
    "Questions to consider:\n",
    "* How did you analyze or model the data?\n",
    "* How did you iterate on your initial approach to make it better?\n",
    "* Why are these choices appropriate given the data and the business problem?\n",
    "***\n",
    "**Rationale**: Explaining why you are using statistical analyses rather than basic data analysis./n\n",
    "* For example, why are you using regression coefficients rather than just a graph?\n",
    "* What about the problem or data is suitable for this form of analysis?\n",
    "* For a data science audience, this includes your reasoning for the changes you applied while iterating between models.\n",
    "\n",
    "**Results**: Describing the overall model metrics and feature coefficients\n",
    "You need at least one overall model metric (e.g. r-squared or RMSE) and at least two feature coefficients./n\n",
    "\n",
    "For a business audience, make sure you connect any metrics to real-world implications. You do not need to get into the details of how linear regression works.\n",
    "For a data science audience, you don't need to explain what a metric is, but make sure you explain why you chose that particular one.\n"
   ]
  },
  {
   "cell_type": "code",
   "execution_count": 2,
   "metadata": {
    "ExecuteTime": {
     "end_time": "2023-06-20T23:10:48.667623Z",
     "start_time": "2023-06-20T23:10:45.717968Z"
    }
   },
   "outputs": [],
   "source": [
    "import pandas as pd\n",
    "import numpy as np\n",
    "import matplotlib.pyplot as plt\n",
    "import seaborn as sns\n",
    "import statsmodels.api as sm\n",
    "df = pd.read_csv('data/data_clean.csv')"
   ]
  },
  {
   "cell_type": "code",
   "execution_count": 7,
   "metadata": {
    "ExecuteTime": {
     "end_time": "2023-06-20T23:12:06.400644Z",
     "start_time": "2023-06-20T23:12:06.376162Z"
    }
   },
   "outputs": [
    {
     "name": "stdout",
     "output_type": "stream",
     "text": [
      "<class 'pandas.core.frame.DataFrame'>\n",
      "RangeIndex: 47579 entries, 0 to 47578\n",
      "Data columns (total 30 columns):\n",
      " #   Column                Non-Null Count  Dtype  \n",
      "---  ------                --------------  -----  \n",
      " 0   id                    47579 non-null  int64  \n",
      " 1   price                 47579 non-null  int64  \n",
      " 2   bedrooms              47579 non-null  int64  \n",
      " 3   bathrooms             47579 non-null  int64  \n",
      " 4   sqft_living           47579 non-null  int64  \n",
      " 5   sqft_lot              47579 non-null  int64  \n",
      " 6   sqft_basement         47579 non-null  int64  \n",
      " 7   floors                47579 non-null  int64  \n",
      " 8   grade                 47579 non-null  int64  \n",
      " 9   population            47579 non-null  int64  \n",
      " 10  density               47579 non-null  int64  \n",
      " 11  bedrooms_norm         47579 non-null  float64\n",
      " 12  bathrooms_norm        47579 non-null  float64\n",
      " 13  view                  47579 non-null  int64  \n",
      " 14  waterfront            47579 non-null  int64  \n",
      " 15  greenbelt             47579 non-null  int64  \n",
      " 16  nuisance              47579 non-null  int64  \n",
      " 17  condition             47579 non-null  int64  \n",
      " 18  yr_built              47579 non-null  int64  \n",
      " 19  yr_renovated          47579 non-null  int64  \n",
      " 20  zipcode               47579 non-null  int64  \n",
      " 21  yr_last_construction  47579 non-null  int64  \n",
      " 22  sqft_living_norm      47579 non-null  float64\n",
      " 23  sqft_lot_norm         47579 non-null  float64\n",
      " 24  sqft_basement_norm    47579 non-null  float64\n",
      " 25  floors_norm           47579 non-null  float64\n",
      " 26  grade_norm            47579 non-null  float64\n",
      " 27  population_norm       47579 non-null  float64\n",
      " 28  density_norm          47579 non-null  float64\n",
      " 29  view_norm             47579 non-null  float64\n",
      "dtypes: float64(10), int64(20)\n",
      "memory usage: 10.9 MB\n"
     ]
    }
   ],
   "source": [
    "df.info()"
   ]
  },
  {
   "cell_type": "markdown",
   "metadata": {},
   "source": [
    "## Exploratory data analysis\n"
   ]
  },
  {
   "cell_type": "code",
   "execution_count": null,
   "metadata": {},
   "outputs": [],
   "source": [
    "df.iloc[:,1:15].describe()"
   ]
  },
  {
   "cell_type": "code",
   "execution_count": null,
   "metadata": {},
   "outputs": [],
   "source": [
    "df.iloc[:,15:].describe()"
   ]
  },
  {
   "cell_type": "code",
   "execution_count": null,
   "metadata": {},
   "outputs": [],
   "source": [
    "# [Insert Pairplot]"
   ]
  },
  {
   "cell_type": "code",
   "execution_count": null,
   "metadata": {},
   "outputs": [],
   "source": [
    "# [Insert barplot]"
   ]
  },
  {
   "cell_type": "code",
   "execution_count": null,
   "metadata": {},
   "outputs": [],
   "source": [
    "# [Insert boxplot]"
   ]
  },
  {
   "cell_type": "code",
   "execution_count": null,
   "metadata": {},
   "outputs": [],
   "source": [
    "# [Insert heatmap]"
   ]
  },
  {
   "cell_type": "code",
   "execution_count": null,
   "metadata": {},
   "outputs": [],
   "source": [
    "# [Insert price correlations]"
   ]
  },
  {
   "cell_type": "code",
   "execution_count": null,
   "metadata": {},
   "outputs": [],
   "source": [
    "# [Insert multicollinerity correlations]"
   ]
  },
  {
   "cell_type": "markdown",
   "metadata": {},
   "source": [
    "Based on the correlations, I decided to include `sqft_living`, `bathrooms`, `bedrooms`, `view`,  `floors`,  `sqft_basement` as predictors of `price`. I excluded `grade` as its correlation with `sqft_living` is greater than 0.7 and is less correlated with `price`.\n",
    "\n",
    "Based on the visual, I decided to include `waterfront` and `greenbelt`. \n",
    "\n",
    "Lastly, I decided to include `zipcode`, to account for changes in price based on location of the property."
   ]
  },
  {
   "cell_type": "markdown",
   "metadata": {},
   "source": [
    "## Linear Model Iterations"
   ]
  },
  {
   "cell_type": "markdown",
   "metadata": {},
   "source": [
    "### Baseline Model\n",
    "Since `sqft_living` is the feature with the strongest correlation, I will use this for my baseline model. \n"
   ]
  },
  {
   "cell_type": "code",
   "execution_count": null,
   "metadata": {
    "scrolled": true
   },
   "outputs": [],
   "source": [
    "y = df['price']\n",
    "X = df['sqft_living']\n",
    "model = sm.OLS(y, sm.add_constant(X))\n",
    "baseline_results = model.fit()\n",
    "baseline_results.summary()"
   ]
  },
  {
   "cell_type": "markdown",
   "metadata": {},
   "source": [
    "Overall this model is statistically significant and explains about 42% of the variance in price. In a typical prediction, the model is off by about \\\\$305k.\n",
    "\n",
    "The intercept is at about \\\\$145,700. This means that a house with the zero square footage of living space in the home would sell for \\\\\\$145,700.\n",
    "The coefficient for `sqft_living` is about \\\\$423. This means for each increase of 1 square foot of living space in the home, we see an associated increase of about \\\\$423."
   ]
  },
  {
   "cell_type": "markdown",
   "metadata": {},
   "source": [
    "### Recursive Feature Elimination\n",
    "To begin my model iteration, I will include all of the relevant features. Then I will remove one feature at a time starting with any feature with a p-value larger than 0.05. Then I will remove the feature with the smallest absolute coefficient as that means it has the least effect of `price`. I will use the adjusted R-squared value, Mean Absolute Error, and Conditional Number to judge the model and help me decide when to stop removing features. I have also normalized each numeric feature to make it easier to compare their coefficients. "
   ]
  },
  {
   "cell_type": "code",
   "execution_count": 11,
   "metadata": {
    "ExecuteTime": {
     "end_time": "2023-06-20T23:13:22.028278Z",
     "start_time": "2023-06-20T23:13:21.560542Z"
    }
   },
   "outputs": [
    {
     "data": {
      "text/html": [
       "<div>\n",
       "<style scoped>\n",
       "    .dataframe tbody tr th:only-of-type {\n",
       "        vertical-align: middle;\n",
       "    }\n",
       "\n",
       "    .dataframe tbody tr th {\n",
       "        vertical-align: top;\n",
       "    }\n",
       "\n",
       "    .dataframe thead th {\n",
       "        text-align: right;\n",
       "    }\n",
       "</style>\n",
       "<table border=\"1\" class=\"dataframe\">\n",
       "  <thead>\n",
       "    <tr style=\"text-align: right;\">\n",
       "      <th></th>\n",
       "      <th>num_features</th>\n",
       "      <th>r2_adj</th>\n",
       "      <th>f_pvalue</th>\n",
       "      <th>MAE</th>\n",
       "      <th>large_pvals</th>\n",
       "      <th>cond_num</th>\n",
       "    </tr>\n",
       "  </thead>\n",
       "  <tbody>\n",
       "    <tr>\n",
       "      <th>0</th>\n",
       "      <td>83</td>\n",
       "      <td>73.56</td>\n",
       "      <td>0.0</td>\n",
       "      <td>191127.0</td>\n",
       "      <td>6</td>\n",
       "      <td>99.140318</td>\n",
       "    </tr>\n",
       "  </tbody>\n",
       "</table>\n",
       "</div>"
      ],
      "text/plain": [
       "   num_features  r2_adj  f_pvalue       MAE  large_pvals   cond_num\n",
       "0            83   73.56       0.0  191127.0            6  99.140318"
      ]
     },
     "execution_count": 11,
     "metadata": {},
     "output_type": "execute_result"
    }
   ],
   "source": [
    "df['zipcode'] = df['zipcode'].astype('str')\n",
    "#1 Starting with all features selected based on EDA\n",
    "features = [\n",
    "    'sqft_living_norm', 'bathrooms_norm', 'bedrooms_norm', 'view_norm',\n",
    "    'sqft_basement_norm', 'floors_norm', 'greenbelt', 'waterfront', 'zipcode'\n",
    "]\n",
    "y = df['price']\n",
    "\n",
    "# Creating dummy variables for categorical features. Dropping properties not the greenbelt, not on the waterfront,\n",
    "# and the zipcode with the median average price.\n",
    "X = pd.get_dummies(df[features]).drop(columns=['zipcode_98059'])\n",
    "model = sm.OLS(y, sm.add_constant(X))\n",
    "results = model.fit()\n",
    "res_dic={}\n",
    "num_features = len(results.params)\n",
    "res_dic['num_features'] = num_features\n",
    "res_dic['r2_adj'] = round(results.rsquared_adj * 100, 2)\n",
    "res_dic['f_pvalue'] = results.f_pvalue\n",
    "res_dic['MAE'] = round(results.resid.abs().sum() / len(y), 0)\n",
    "res_dic['large_pvals'] = (results.pvalues.apply(lambda x: round(x, 2))\n",
    "                          > 0.01).sum()\n",
    "res_dic['cond_num'] = results.condition_number\n",
    "pd.DataFrame(res_dic, index=[0])"
   ]
  },
  {
   "cell_type": "markdown",
   "metadata": {},
   "source": [
    "Here is a table which includes the records the metrics for each iteration as well as what changed between each iteration. "
   ]
  },
  {
   "cell_type": "code",
   "execution_count": null,
   "metadata": {},
   "outputs": [],
   "source": [
    "# [Insert Iteration DF]"
   ]
  },
  {
   "cell_type": "markdown",
   "metadata": {},
   "source": [
    "### Final Model\n",
    "To begin my model iteration"
   ]
  },
  {
   "cell_type": "code",
   "execution_count": 12,
   "metadata": {
    "ExecuteTime": {
     "end_time": "2023-06-20T23:23:06.824456Z",
     "start_time": "2023-06-20T23:23:06.414830Z"
    }
   },
   "outputs": [
    {
     "data": {
      "text/html": [
       "<table class=\"simpletable\">\n",
       "<caption>OLS Regression Results</caption>\n",
       "<tr>\n",
       "  <th>Dep. Variable:</th>          <td>price</td>      <th>  R-squared:         </th>  <td>   0.720</td>  \n",
       "</tr>\n",
       "<tr>\n",
       "  <th>Model:</th>                   <td>OLS</td>       <th>  Adj. R-squared:    </th>  <td>   0.720</td>  \n",
       "</tr>\n",
       "<tr>\n",
       "  <th>Method:</th>             <td>Least Squares</td>  <th>  F-statistic:       </th>  <td>   1824.</td>  \n",
       "</tr>\n",
       "<tr>\n",
       "  <th>Date:</th>             <td>Tue, 20 Jun 2023</td> <th>  Prob (F-statistic):</th>   <td>  0.00</td>   \n",
       "</tr>\n",
       "<tr>\n",
       "  <th>Time:</th>                 <td>19:23:06</td>     <th>  Log-Likelihood:    </th> <td>-6.6570e+05</td>\n",
       "</tr>\n",
       "<tr>\n",
       "  <th>No. Observations:</th>      <td> 47579</td>      <th>  AIC:               </th>  <td>1.332e+06</td> \n",
       "</tr>\n",
       "<tr>\n",
       "  <th>Df Residuals:</th>          <td> 47511</td>      <th>  BIC:               </th>  <td>1.332e+06</td> \n",
       "</tr>\n",
       "<tr>\n",
       "  <th>Df Model:</th>              <td>    67</td>      <th>                     </th>      <td> </td>     \n",
       "</tr>\n",
       "<tr>\n",
       "  <th>Covariance Type:</th>      <td>nonrobust</td>    <th>                     </th>      <td> </td>     \n",
       "</tr>\n",
       "</table>\n",
       "<table class=\"simpletable\">\n",
       "<tr>\n",
       "          <td></td>            <th>coef</th>     <th>std err</th>      <th>t</th>      <th>P>|t|</th>  <th>[0.025</th>    <th>0.975]</th>  \n",
       "</tr>\n",
       "<tr>\n",
       "  <th>const</th>            <td> 8.657e+05</td> <td> 3632.723</td> <td>  238.317</td> <td> 0.000</td> <td> 8.59e+05</td> <td> 8.73e+05</td>\n",
       "</tr>\n",
       "<tr>\n",
       "  <th>sqft_living_norm</th> <td> 2.921e+05</td> <td> 1435.682</td> <td>  203.466</td> <td> 0.000</td> <td> 2.89e+05</td> <td> 2.95e+05</td>\n",
       "</tr>\n",
       "<tr>\n",
       "  <th>waterfront</th>       <td> 4.802e+05</td> <td> 1.27e+04</td> <td>   37.879</td> <td> 0.000</td> <td> 4.55e+05</td> <td> 5.05e+05</td>\n",
       "</tr>\n",
       "<tr>\n",
       "  <th>zipcode_98001</th>    <td>-2.614e+05</td> <td> 1.01e+04</td> <td>  -25.851</td> <td> 0.000</td> <td>-2.81e+05</td> <td>-2.42e+05</td>\n",
       "</tr>\n",
       "<tr>\n",
       "  <th>zipcode_98002</th>    <td>-2.227e+05</td> <td> 1.23e+04</td> <td>  -18.141</td> <td> 0.000</td> <td>-2.47e+05</td> <td>-1.99e+05</td>\n",
       "</tr>\n",
       "<tr>\n",
       "  <th>zipcode_98003</th>    <td>-2.227e+05</td> <td> 1.09e+04</td> <td>  -20.394</td> <td> 0.000</td> <td>-2.44e+05</td> <td>-2.01e+05</td>\n",
       "</tr>\n",
       "<tr>\n",
       "  <th>zipcode_98004</th>    <td>  1.17e+06</td> <td> 1.68e+04</td> <td>   69.762</td> <td> 0.000</td> <td> 1.14e+06</td> <td>  1.2e+06</td>\n",
       "</tr>\n",
       "<tr>\n",
       "  <th>zipcode_98005</th>    <td> 7.668e+05</td> <td> 1.86e+04</td> <td>   41.147</td> <td> 0.000</td> <td>  7.3e+05</td> <td> 8.03e+05</td>\n",
       "</tr>\n",
       "<tr>\n",
       "  <th>zipcode_98006</th>    <td> 5.605e+05</td> <td> 1.03e+04</td> <td>   54.253</td> <td> 0.000</td> <td>  5.4e+05</td> <td> 5.81e+05</td>\n",
       "</tr>\n",
       "<tr>\n",
       "  <th>zipcode_98007</th>    <td> 4.583e+05</td> <td> 1.85e+04</td> <td>   24.800</td> <td> 0.000</td> <td> 4.22e+05</td> <td> 4.95e+05</td>\n",
       "</tr>\n",
       "<tr>\n",
       "  <th>zipcode_98008</th>    <td> 5.198e+05</td> <td> 1.17e+04</td> <td>   44.257</td> <td> 0.000</td> <td> 4.97e+05</td> <td> 5.43e+05</td>\n",
       "</tr>\n",
       "<tr>\n",
       "  <th>zipcode_98010</th>    <td>-2.567e+05</td> <td> 1.53e+04</td> <td>  -16.758</td> <td> 0.000</td> <td>-2.87e+05</td> <td>-2.27e+05</td>\n",
       "</tr>\n",
       "<tr>\n",
       "  <th>zipcode_98011</th>    <td> 1.865e+05</td> <td> 1.36e+04</td> <td>   13.767</td> <td> 0.000</td> <td>  1.6e+05</td> <td> 2.13e+05</td>\n",
       "</tr>\n",
       "<tr>\n",
       "  <th>zipcode_98022</th>    <td>-2.371e+05</td> <td> 1.31e+04</td> <td>  -18.146</td> <td> 0.000</td> <td>-2.63e+05</td> <td>-2.11e+05</td>\n",
       "</tr>\n",
       "<tr>\n",
       "  <th>zipcode_98023</th>    <td>-2.592e+05</td> <td> 8996.111</td> <td>  -28.813</td> <td> 0.000</td> <td>-2.77e+05</td> <td>-2.42e+05</td>\n",
       "</tr>\n",
       "<tr>\n",
       "  <th>zipcode_98024</th>    <td> 1.034e+05</td> <td> 2.88e+04</td> <td>    3.588</td> <td> 0.000</td> <td> 4.69e+04</td> <td>  1.6e+05</td>\n",
       "</tr>\n",
       "<tr>\n",
       "  <th>zipcode_98027</th>    <td> 2.794e+05</td> <td> 1.34e+04</td> <td>   20.854</td> <td> 0.000</td> <td> 2.53e+05</td> <td> 3.06e+05</td>\n",
       "</tr>\n",
       "<tr>\n",
       "  <th>zipcode_98028</th>    <td>  1.08e+05</td> <td> 1.24e+04</td> <td>    8.692</td> <td> 0.000</td> <td> 8.36e+04</td> <td> 1.32e+05</td>\n",
       "</tr>\n",
       "<tr>\n",
       "  <th>zipcode_98029</th>    <td> 3.883e+05</td> <td> 1.35e+04</td> <td>   28.662</td> <td> 0.000</td> <td> 3.62e+05</td> <td> 4.15e+05</td>\n",
       "</tr>\n",
       "<tr>\n",
       "  <th>zipcode_98030</th>    <td>-2.238e+05</td> <td> 1.23e+04</td> <td>  -18.162</td> <td> 0.000</td> <td>-2.48e+05</td> <td>   -2e+05</td>\n",
       "</tr>\n",
       "<tr>\n",
       "  <th>zipcode_98031</th>    <td>-2.011e+05</td> <td> 1.08e+04</td> <td>  -18.695</td> <td> 0.000</td> <td>-2.22e+05</td> <td> -1.8e+05</td>\n",
       "</tr>\n",
       "<tr>\n",
       "  <th>zipcode_98032</th>    <td>-2.043e+05</td> <td> 1.69e+04</td> <td>  -12.106</td> <td> 0.000</td> <td>-2.37e+05</td> <td>-1.71e+05</td>\n",
       "</tr>\n",
       "<tr>\n",
       "  <th>zipcode_98033</th>    <td> 8.179e+05</td> <td> 1.01e+04</td> <td>   80.708</td> <td> 0.000</td> <td> 7.98e+05</td> <td> 8.38e+05</td>\n",
       "</tr>\n",
       "<tr>\n",
       "  <th>zipcode_98034</th>    <td> 2.939e+05</td> <td> 9191.587</td> <td>   31.972</td> <td> 0.000</td> <td> 2.76e+05</td> <td> 3.12e+05</td>\n",
       "</tr>\n",
       "<tr>\n",
       "  <th>zipcode_98038</th>    <td>-1.654e+05</td> <td> 8981.022</td> <td>  -18.420</td> <td> 0.000</td> <td>-1.83e+05</td> <td>-1.48e+05</td>\n",
       "</tr>\n",
       "<tr>\n",
       "  <th>zipcode_98039</th>    <td> 1.712e+06</td> <td>  5.2e+04</td> <td>   32.926</td> <td> 0.000</td> <td> 1.61e+06</td> <td> 1.81e+06</td>\n",
       "</tr>\n",
       "<tr>\n",
       "  <th>zipcode_98040</th>    <td> 9.207e+05</td> <td> 1.36e+04</td> <td>   67.472</td> <td> 0.000</td> <td> 8.94e+05</td> <td> 9.47e+05</td>\n",
       "</tr>\n",
       "<tr>\n",
       "  <th>zipcode_98042</th>    <td>-2.299e+05</td> <td> 8259.211</td> <td>  -27.831</td> <td> 0.000</td> <td>-2.46e+05</td> <td>-2.14e+05</td>\n",
       "</tr>\n",
       "<tr>\n",
       "  <th>zipcode_98047</th>    <td> -2.08e+05</td> <td> 2.48e+04</td> <td>   -8.399</td> <td> 0.000</td> <td>-2.57e+05</td> <td>-1.59e+05</td>\n",
       "</tr>\n",
       "<tr>\n",
       "  <th>zipcode_98051</th>    <td>-1.724e+05</td> <td> 6.17e+04</td> <td>   -2.795</td> <td> 0.005</td> <td>-2.93e+05</td> <td>-5.15e+04</td>\n",
       "</tr>\n",
       "<tr>\n",
       "  <th>zipcode_98052</th>    <td> 4.968e+05</td> <td> 9795.045</td> <td>   50.724</td> <td> 0.000</td> <td> 4.78e+05</td> <td> 5.16e+05</td>\n",
       "</tr>\n",
       "<tr>\n",
       "  <th>zipcode_98053</th>    <td>  3.26e+05</td> <td> 1.35e+04</td> <td>   24.117</td> <td> 0.000</td> <td>    3e+05</td> <td> 3.53e+05</td>\n",
       "</tr>\n",
       "<tr>\n",
       "  <th>zipcode_98055</th>    <td>-1.688e+05</td> <td> 1.56e+04</td> <td>  -10.793</td> <td> 0.000</td> <td>-1.99e+05</td> <td>-1.38e+05</td>\n",
       "</tr>\n",
       "<tr>\n",
       "  <th>zipcode_98056</th>    <td> 6.051e+04</td> <td> 1.08e+04</td> <td>    5.613</td> <td> 0.000</td> <td> 3.94e+04</td> <td> 8.16e+04</td>\n",
       "</tr>\n",
       "<tr>\n",
       "  <th>zipcode_98057</th>    <td>-1.109e+05</td> <td> 2.15e+04</td> <td>   -5.147</td> <td> 0.000</td> <td>-1.53e+05</td> <td>-6.87e+04</td>\n",
       "</tr>\n",
       "<tr>\n",
       "  <th>zipcode_98058</th>    <td>-1.506e+05</td> <td> 9225.420</td> <td>  -16.329</td> <td> 0.000</td> <td>-1.69e+05</td> <td>-1.33e+05</td>\n",
       "</tr>\n",
       "<tr>\n",
       "  <th>zipcode_98065</th>    <td> 9.662e+04</td> <td>  1.4e+04</td> <td>    6.914</td> <td> 0.000</td> <td> 6.92e+04</td> <td> 1.24e+05</td>\n",
       "</tr>\n",
       "<tr>\n",
       "  <th>zipcode_98072</th>    <td> 2.292e+05</td> <td> 1.38e+04</td> <td>   16.591</td> <td> 0.000</td> <td> 2.02e+05</td> <td> 2.56e+05</td>\n",
       "</tr>\n",
       "<tr>\n",
       "  <th>zipcode_98074</th>    <td> 4.576e+05</td> <td> 1.14e+04</td> <td>   39.973</td> <td> 0.000</td> <td> 4.35e+05</td> <td>  4.8e+05</td>\n",
       "</tr>\n",
       "<tr>\n",
       "  <th>zipcode_98075</th>    <td> 4.774e+05</td> <td> 1.21e+04</td> <td>   39.532</td> <td> 0.000</td> <td> 4.54e+05</td> <td> 5.01e+05</td>\n",
       "</tr>\n",
       "<tr>\n",
       "  <th>zipcode_98077</th>    <td> 3.118e+05</td> <td>  1.8e+04</td> <td>   17.317</td> <td> 0.000</td> <td> 2.77e+05</td> <td> 3.47e+05</td>\n",
       "</tr>\n",
       "<tr>\n",
       "  <th>zipcode_98092</th>    <td>-2.771e+05</td> <td>  1.1e+04</td> <td>  -25.152</td> <td> 0.000</td> <td>-2.99e+05</td> <td>-2.56e+05</td>\n",
       "</tr>\n",
       "<tr>\n",
       "  <th>zipcode_98102</th>    <td> 5.134e+05</td> <td> 1.95e+04</td> <td>   26.367</td> <td> 0.000</td> <td> 4.75e+05</td> <td> 5.52e+05</td>\n",
       "</tr>\n",
       "<tr>\n",
       "  <th>zipcode_98103</th>    <td> 3.278e+05</td> <td> 8691.098</td> <td>   37.719</td> <td> 0.000</td> <td> 3.11e+05</td> <td> 3.45e+05</td>\n",
       "</tr>\n",
       "<tr>\n",
       "  <th>zipcode_98105</th>    <td> 4.489e+05</td> <td> 1.25e+04</td> <td>   35.983</td> <td> 0.000</td> <td> 4.24e+05</td> <td> 4.73e+05</td>\n",
       "</tr>\n",
       "<tr>\n",
       "  <th>zipcode_98107</th>    <td> 2.847e+05</td> <td> 1.06e+04</td> <td>   26.885</td> <td> 0.000</td> <td> 2.64e+05</td> <td> 3.05e+05</td>\n",
       "</tr>\n",
       "<tr>\n",
       "  <th>zipcode_98109</th>    <td> 5.487e+05</td> <td> 1.79e+04</td> <td>   30.625</td> <td> 0.000</td> <td> 5.14e+05</td> <td> 5.84e+05</td>\n",
       "</tr>\n",
       "<tr>\n",
       "  <th>zipcode_98112</th>    <td>  6.52e+05</td> <td> 1.29e+04</td> <td>   50.432</td> <td> 0.000</td> <td> 6.27e+05</td> <td> 6.77e+05</td>\n",
       "</tr>\n",
       "<tr>\n",
       "  <th>zipcode_98115</th>    <td> 3.323e+05</td> <td> 8619.797</td> <td>   38.552</td> <td> 0.000</td> <td> 3.15e+05</td> <td> 3.49e+05</td>\n",
       "</tr>\n",
       "<tr>\n",
       "  <th>zipcode_98116</th>    <td> 2.927e+05</td> <td> 1.15e+04</td> <td>   25.461</td> <td> 0.000</td> <td>  2.7e+05</td> <td> 3.15e+05</td>\n",
       "</tr>\n",
       "<tr>\n",
       "  <th>zipcode_98117</th>    <td> 2.936e+05</td> <td> 8646.882</td> <td>   33.959</td> <td> 0.000</td> <td> 2.77e+05</td> <td> 3.11e+05</td>\n",
       "</tr>\n",
       "<tr>\n",
       "  <th>zipcode_98118</th>    <td> 6.461e+04</td> <td> 9515.514</td> <td>    6.790</td> <td> 0.000</td> <td>  4.6e+04</td> <td> 8.33e+04</td>\n",
       "</tr>\n",
       "<tr>\n",
       "  <th>zipcode_98119</th>    <td> 5.077e+05</td> <td> 1.43e+04</td> <td>   35.618</td> <td> 0.000</td> <td>  4.8e+05</td> <td> 5.36e+05</td>\n",
       "</tr>\n",
       "<tr>\n",
       "  <th>zipcode_98122</th>    <td> 3.362e+05</td> <td> 1.09e+04</td> <td>   30.945</td> <td> 0.000</td> <td> 3.15e+05</td> <td> 3.57e+05</td>\n",
       "</tr>\n",
       "<tr>\n",
       "  <th>zipcode_98125</th>    <td> 1.332e+05</td> <td> 1.04e+04</td> <td>   12.816</td> <td> 0.000</td> <td> 1.13e+05</td> <td> 1.54e+05</td>\n",
       "</tr>\n",
       "<tr>\n",
       "  <th>zipcode_98126</th>    <td> 8.486e+04</td> <td> 1.06e+04</td> <td>    8.024</td> <td> 0.000</td> <td> 6.41e+04</td> <td> 1.06e+05</td>\n",
       "</tr>\n",
       "<tr>\n",
       "  <th>zipcode_98136</th>    <td> 2.307e+05</td> <td> 1.27e+04</td> <td>   18.127</td> <td> 0.000</td> <td> 2.06e+05</td> <td> 2.56e+05</td>\n",
       "</tr>\n",
       "<tr>\n",
       "  <th>zipcode_98144</th>    <td> 2.115e+05</td> <td> 1.11e+04</td> <td>   19.016</td> <td> 0.000</td> <td>  1.9e+05</td> <td> 2.33e+05</td>\n",
       "</tr>\n",
       "<tr>\n",
       "  <th>zipcode_98148</th>    <td>-1.444e+05</td> <td> 2.26e+04</td> <td>   -6.377</td> <td> 0.000</td> <td>-1.89e+05</td> <td>   -1e+05</td>\n",
       "</tr>\n",
       "<tr>\n",
       "  <th>zipcode_98155</th>    <td> 9.636e+04</td> <td> 9935.949</td> <td>    9.699</td> <td> 0.000</td> <td> 7.69e+04</td> <td> 1.16e+05</td>\n",
       "</tr>\n",
       "<tr>\n",
       "  <th>zipcode_98168</th>    <td> -1.46e+05</td> <td> 1.13e+04</td> <td>  -12.964</td> <td> 0.000</td> <td>-1.68e+05</td> <td>-1.24e+05</td>\n",
       "</tr>\n",
       "<tr>\n",
       "  <th>zipcode_98177</th>    <td> 2.528e+05</td> <td> 1.26e+04</td> <td>   20.038</td> <td> 0.000</td> <td> 2.28e+05</td> <td> 2.78e+05</td>\n",
       "</tr>\n",
       "<tr>\n",
       "  <th>zipcode_98178</th>    <td> -1.01e+05</td> <td>  1.2e+04</td> <td>   -8.422</td> <td> 0.000</td> <td>-1.24e+05</td> <td>-7.75e+04</td>\n",
       "</tr>\n",
       "<tr>\n",
       "  <th>zipcode_98188</th>    <td>-1.705e+05</td> <td> 1.65e+04</td> <td>  -10.354</td> <td> 0.000</td> <td>-2.03e+05</td> <td>-1.38e+05</td>\n",
       "</tr>\n",
       "<tr>\n",
       "  <th>zipcode_98198</th>    <td>-1.558e+05</td> <td> 1.13e+04</td> <td>  -13.829</td> <td> 0.000</td> <td>-1.78e+05</td> <td>-1.34e+05</td>\n",
       "</tr>\n",
       "<tr>\n",
       "  <th>zipcode_98199</th>    <td> 4.645e+05</td> <td> 1.12e+04</td> <td>   41.504</td> <td> 0.000</td> <td> 4.43e+05</td> <td> 4.86e+05</td>\n",
       "</tr>\n",
       "<tr>\n",
       "  <th>zipcode_98288</th>    <td>-2.551e+05</td> <td> 5.92e+04</td> <td>   -4.311</td> <td> 0.000</td> <td>-3.71e+05</td> <td>-1.39e+05</td>\n",
       "</tr>\n",
       "<tr>\n",
       "  <th>zipcode_98354</th>    <td>-1.877e+05</td> <td> 5.04e+04</td> <td>   -3.724</td> <td> 0.000</td> <td>-2.86e+05</td> <td>-8.89e+04</td>\n",
       "</tr>\n",
       "</table>\n",
       "<table class=\"simpletable\">\n",
       "<tr>\n",
       "  <th>Omnibus:</th>       <td>11077.240</td> <th>  Durbin-Watson:     </th> <td>   1.521</td> \n",
       "</tr>\n",
       "<tr>\n",
       "  <th>Prob(Omnibus):</th>  <td> 0.000</td>   <th>  Jarque-Bera (JB):  </th> <td>85086.619</td>\n",
       "</tr>\n",
       "<tr>\n",
       "  <th>Skew:</th>           <td> 0.914</td>   <th>  Prob(JB):          </th> <td>    0.00</td> \n",
       "</tr>\n",
       "<tr>\n",
       "  <th>Kurtosis:</th>       <td> 9.291</td>   <th>  Cond. No.          </th> <td>    47.0</td> \n",
       "</tr>\n",
       "</table><br/><br/>Notes:<br/>[1] Standard Errors assume that the covariance matrix of the errors is correctly specified."
      ],
      "text/plain": [
       "<class 'statsmodels.iolib.summary.Summary'>\n",
       "\"\"\"\n",
       "                            OLS Regression Results                            \n",
       "==============================================================================\n",
       "Dep. Variable:                  price   R-squared:                       0.720\n",
       "Model:                            OLS   Adj. R-squared:                  0.720\n",
       "Method:                 Least Squares   F-statistic:                     1824.\n",
       "Date:                Tue, 20 Jun 2023   Prob (F-statistic):               0.00\n",
       "Time:                        19:23:06   Log-Likelihood:            -6.6570e+05\n",
       "No. Observations:               47579   AIC:                         1.332e+06\n",
       "Df Residuals:                   47511   BIC:                         1.332e+06\n",
       "Df Model:                          67                                         \n",
       "Covariance Type:            nonrobust                                         \n",
       "====================================================================================\n",
       "                       coef    std err          t      P>|t|      [0.025      0.975]\n",
       "------------------------------------------------------------------------------------\n",
       "const             8.657e+05   3632.723    238.317      0.000    8.59e+05    8.73e+05\n",
       "sqft_living_norm  2.921e+05   1435.682    203.466      0.000    2.89e+05    2.95e+05\n",
       "waterfront        4.802e+05   1.27e+04     37.879      0.000    4.55e+05    5.05e+05\n",
       "zipcode_98001    -2.614e+05   1.01e+04    -25.851      0.000   -2.81e+05   -2.42e+05\n",
       "zipcode_98002    -2.227e+05   1.23e+04    -18.141      0.000   -2.47e+05   -1.99e+05\n",
       "zipcode_98003    -2.227e+05   1.09e+04    -20.394      0.000   -2.44e+05   -2.01e+05\n",
       "zipcode_98004      1.17e+06   1.68e+04     69.762      0.000    1.14e+06     1.2e+06\n",
       "zipcode_98005     7.668e+05   1.86e+04     41.147      0.000     7.3e+05    8.03e+05\n",
       "zipcode_98006     5.605e+05   1.03e+04     54.253      0.000     5.4e+05    5.81e+05\n",
       "zipcode_98007     4.583e+05   1.85e+04     24.800      0.000    4.22e+05    4.95e+05\n",
       "zipcode_98008     5.198e+05   1.17e+04     44.257      0.000    4.97e+05    5.43e+05\n",
       "zipcode_98010    -2.567e+05   1.53e+04    -16.758      0.000   -2.87e+05   -2.27e+05\n",
       "zipcode_98011     1.865e+05   1.36e+04     13.767      0.000     1.6e+05    2.13e+05\n",
       "zipcode_98022    -2.371e+05   1.31e+04    -18.146      0.000   -2.63e+05   -2.11e+05\n",
       "zipcode_98023    -2.592e+05   8996.111    -28.813      0.000   -2.77e+05   -2.42e+05\n",
       "zipcode_98024     1.034e+05   2.88e+04      3.588      0.000    4.69e+04     1.6e+05\n",
       "zipcode_98027     2.794e+05   1.34e+04     20.854      0.000    2.53e+05    3.06e+05\n",
       "zipcode_98028      1.08e+05   1.24e+04      8.692      0.000    8.36e+04    1.32e+05\n",
       "zipcode_98029     3.883e+05   1.35e+04     28.662      0.000    3.62e+05    4.15e+05\n",
       "zipcode_98030    -2.238e+05   1.23e+04    -18.162      0.000   -2.48e+05      -2e+05\n",
       "zipcode_98031    -2.011e+05   1.08e+04    -18.695      0.000   -2.22e+05    -1.8e+05\n",
       "zipcode_98032    -2.043e+05   1.69e+04    -12.106      0.000   -2.37e+05   -1.71e+05\n",
       "zipcode_98033     8.179e+05   1.01e+04     80.708      0.000    7.98e+05    8.38e+05\n",
       "zipcode_98034     2.939e+05   9191.587     31.972      0.000    2.76e+05    3.12e+05\n",
       "zipcode_98038    -1.654e+05   8981.022    -18.420      0.000   -1.83e+05   -1.48e+05\n",
       "zipcode_98039     1.712e+06    5.2e+04     32.926      0.000    1.61e+06    1.81e+06\n",
       "zipcode_98040     9.207e+05   1.36e+04     67.472      0.000    8.94e+05    9.47e+05\n",
       "zipcode_98042    -2.299e+05   8259.211    -27.831      0.000   -2.46e+05   -2.14e+05\n",
       "zipcode_98047     -2.08e+05   2.48e+04     -8.399      0.000   -2.57e+05   -1.59e+05\n",
       "zipcode_98051    -1.724e+05   6.17e+04     -2.795      0.005   -2.93e+05   -5.15e+04\n",
       "zipcode_98052     4.968e+05   9795.045     50.724      0.000    4.78e+05    5.16e+05\n",
       "zipcode_98053      3.26e+05   1.35e+04     24.117      0.000       3e+05    3.53e+05\n",
       "zipcode_98055    -1.688e+05   1.56e+04    -10.793      0.000   -1.99e+05   -1.38e+05\n",
       "zipcode_98056     6.051e+04   1.08e+04      5.613      0.000    3.94e+04    8.16e+04\n",
       "zipcode_98057    -1.109e+05   2.15e+04     -5.147      0.000   -1.53e+05   -6.87e+04\n",
       "zipcode_98058    -1.506e+05   9225.420    -16.329      0.000   -1.69e+05   -1.33e+05\n",
       "zipcode_98065     9.662e+04    1.4e+04      6.914      0.000    6.92e+04    1.24e+05\n",
       "zipcode_98072     2.292e+05   1.38e+04     16.591      0.000    2.02e+05    2.56e+05\n",
       "zipcode_98074     4.576e+05   1.14e+04     39.973      0.000    4.35e+05     4.8e+05\n",
       "zipcode_98075     4.774e+05   1.21e+04     39.532      0.000    4.54e+05    5.01e+05\n",
       "zipcode_98077     3.118e+05    1.8e+04     17.317      0.000    2.77e+05    3.47e+05\n",
       "zipcode_98092    -2.771e+05    1.1e+04    -25.152      0.000   -2.99e+05   -2.56e+05\n",
       "zipcode_98102     5.134e+05   1.95e+04     26.367      0.000    4.75e+05    5.52e+05\n",
       "zipcode_98103     3.278e+05   8691.098     37.719      0.000    3.11e+05    3.45e+05\n",
       "zipcode_98105     4.489e+05   1.25e+04     35.983      0.000    4.24e+05    4.73e+05\n",
       "zipcode_98107     2.847e+05   1.06e+04     26.885      0.000    2.64e+05    3.05e+05\n",
       "zipcode_98109     5.487e+05   1.79e+04     30.625      0.000    5.14e+05    5.84e+05\n",
       "zipcode_98112      6.52e+05   1.29e+04     50.432      0.000    6.27e+05    6.77e+05\n",
       "zipcode_98115     3.323e+05   8619.797     38.552      0.000    3.15e+05    3.49e+05\n",
       "zipcode_98116     2.927e+05   1.15e+04     25.461      0.000     2.7e+05    3.15e+05\n",
       "zipcode_98117     2.936e+05   8646.882     33.959      0.000    2.77e+05    3.11e+05\n",
       "zipcode_98118     6.461e+04   9515.514      6.790      0.000     4.6e+04    8.33e+04\n",
       "zipcode_98119     5.077e+05   1.43e+04     35.618      0.000     4.8e+05    5.36e+05\n",
       "zipcode_98122     3.362e+05   1.09e+04     30.945      0.000    3.15e+05    3.57e+05\n",
       "zipcode_98125     1.332e+05   1.04e+04     12.816      0.000    1.13e+05    1.54e+05\n",
       "zipcode_98126     8.486e+04   1.06e+04      8.024      0.000    6.41e+04    1.06e+05\n",
       "zipcode_98136     2.307e+05   1.27e+04     18.127      0.000    2.06e+05    2.56e+05\n",
       "zipcode_98144     2.115e+05   1.11e+04     19.016      0.000     1.9e+05    2.33e+05\n",
       "zipcode_98148    -1.444e+05   2.26e+04     -6.377      0.000   -1.89e+05      -1e+05\n",
       "zipcode_98155     9.636e+04   9935.949      9.699      0.000    7.69e+04    1.16e+05\n",
       "zipcode_98168     -1.46e+05   1.13e+04    -12.964      0.000   -1.68e+05   -1.24e+05\n",
       "zipcode_98177     2.528e+05   1.26e+04     20.038      0.000    2.28e+05    2.78e+05\n",
       "zipcode_98178     -1.01e+05    1.2e+04     -8.422      0.000   -1.24e+05   -7.75e+04\n",
       "zipcode_98188    -1.705e+05   1.65e+04    -10.354      0.000   -2.03e+05   -1.38e+05\n",
       "zipcode_98198    -1.558e+05   1.13e+04    -13.829      0.000   -1.78e+05   -1.34e+05\n",
       "zipcode_98199     4.645e+05   1.12e+04     41.504      0.000    4.43e+05    4.86e+05\n",
       "zipcode_98288    -2.551e+05   5.92e+04     -4.311      0.000   -3.71e+05   -1.39e+05\n",
       "zipcode_98354    -1.877e+05   5.04e+04     -3.724      0.000   -2.86e+05   -8.89e+04\n",
       "==============================================================================\n",
       "Omnibus:                    11077.240   Durbin-Watson:                   1.521\n",
       "Prob(Omnibus):                  0.000   Jarque-Bera (JB):            85086.619\n",
       "Skew:                           0.914   Prob(JB):                         0.00\n",
       "Kurtosis:                       9.291   Cond. No.                         47.0\n",
       "==============================================================================\n",
       "\n",
       "Notes:\n",
       "[1] Standard Errors assume that the covariance matrix of the errors is correctly specified.\n",
       "\"\"\""
      ]
     },
     "execution_count": 12,
     "metadata": {},
     "output_type": "execute_result"
    }
   ],
   "source": [
    "features = ['sqft_living_norm', 'waterfront', 'zipcode']\n",
    "y = df['price']\n",
    "X = pd.get_dummies(df[features]).drop(columns=[\n",
    "    'zipcode_98059', 'zipcode_98019', 'zipcode_98045', 'zipcode_98106',\n",
    "    'zipcode_98108', 'zipcode_98146', 'zipcode_98166', 'zipcode_98014',\n",
    "    'zipcode_98070', 'zipcode_98133'\n",
    "])\n",
    "model = sm.OLS(y, sm.add_constant(X))\n",
    "final_results = model.fit()\n",
    "final_results.summary()"
   ]
  },
  {
   "cell_type": "code",
   "execution_count": 13,
   "metadata": {
    "ExecuteTime": {
     "end_time": "2023-06-20T23:25:14.932530Z",
     "start_time": "2023-06-20T23:25:14.904538Z"
    }
   },
   "outputs": [
    {
     "data": {
      "text/html": [
       "<div>\n",
       "<style scoped>\n",
       "    .dataframe tbody tr th:only-of-type {\n",
       "        vertical-align: middle;\n",
       "    }\n",
       "\n",
       "    .dataframe tbody tr th {\n",
       "        vertical-align: top;\n",
       "    }\n",
       "\n",
       "    .dataframe thead th {\n",
       "        text-align: right;\n",
       "    }\n",
       "</style>\n",
       "<table border=\"1\" class=\"dataframe\">\n",
       "  <thead>\n",
       "    <tr style=\"text-align: right;\">\n",
       "      <th></th>\n",
       "      <th>num_features</th>\n",
       "      <th>r2_adj</th>\n",
       "      <th>f_pvalue</th>\n",
       "      <th>MAE</th>\n",
       "      <th>large_pvals</th>\n",
       "      <th>cond_num</th>\n",
       "    </tr>\n",
       "  </thead>\n",
       "  <tbody>\n",
       "    <tr>\n",
       "      <th>0</th>\n",
       "      <td>68</td>\n",
       "      <td>71.97</td>\n",
       "      <td>0.0</td>\n",
       "      <td>196954.0</td>\n",
       "      <td>0</td>\n",
       "      <td>46.992784</td>\n",
       "    </tr>\n",
       "  </tbody>\n",
       "</table>\n",
       "</div>"
      ],
      "text/plain": [
       "   num_features  r2_adj  f_pvalue       MAE  large_pvals   cond_num\n",
       "0            68   71.97       0.0  196954.0            0  46.992784"
      ]
     },
     "execution_count": 13,
     "metadata": {},
     "output_type": "execute_result"
    }
   ],
   "source": [
    "res_dic={}\n",
    "num_features = len(final_results.params)\n",
    "res_dic['num_features'] = num_features\n",
    "res_dic['r2_adj'] = round(final_results.rsquared_adj * 100, 2)\n",
    "res_dic['f_pvalue'] = final_results.f_pvalue\n",
    "res_dic['MAE'] = round(final_results.resid.abs().sum() / len(y), 0)\n",
    "res_dic['large_pvals'] = (final_results.pvalues.apply(lambda x: round(x, 2))\n",
    "                          > 0.01).sum()\n",
    "res_dic['cond_num'] = final_results.condition_number\n",
    "pd.DataFrame(res_dic, index=[0])"
   ]
  },
  {
   "cell_type": "markdown",
   "metadata": {},
   "source": [
    "Overall this model is statistically significant and explains about 72% of the variance in price, a large improvement over the original 42%. The Mean Absolute Error has also improved from \\\\$305k to \\\\$197k.\n",
    "\n",
    "The intercept is at about \\\\$865,700. This represents the predicted price of a property with the average square footage of living space, not on a waterfront, and in a King County zip code not included in our model. \n",
    "\n",
    "The coefficient for `sqft_living_norm` is about \\\\$292,100. This means for each increase of 1 standard deviation of square foot of living space in the home, we see an associated increase of about \\\\$292,100. Since the standard deviation of `sqft_living` is about 836, for every increase of 1 square foot of living space, we can expect and increase of about \\\\$349 in sale price. \n",
    "\n",
    "The coefficient for `waterfront` is about \\\\$480,200, which means we can expect a home on a waterfront to have an increase in sales price of \\\\$480,200. \n",
    "\n",
    "Since we have 65 `zipcode` features, it would be more helpful describe their overall shape than to go one by one. Each `zipcode` coefficient represents the predicted change in sale price for properties located within that zip code.\n",
    "\n",
    "All of the coefficients are statistically significant."
   ]
  },
  {
   "cell_type": "code",
   "execution_count": 22,
   "metadata": {
    "ExecuteTime": {
     "end_time": "2023-06-21T00:29:24.799159Z",
     "start_time": "2023-06-21T00:29:24.773969Z"
    }
   },
   "outputs": [
    {
     "data": {
      "text/plain": [
       "count    6.500000e+01\n",
       "mean     1.859279e+05\n",
       "std      3.895975e+05\n",
       "min     -2.771441e+05\n",
       "25%     -1.688362e+05\n",
       "50%      1.865456e+05\n",
       "75%      4.488674e+05\n",
       "max      1.711924e+06\n",
       "dtype: float64"
      ]
     },
     "execution_count": 22,
     "metadata": {},
     "output_type": "execute_result"
    }
   ],
   "source": [
    "zips = final_results.params[3:]\n",
    "zips.describe()"
   ]
  },
  {
   "cell_type": "code",
   "execution_count": 26,
   "metadata": {
    "ExecuteTime": {
     "end_time": "2023-06-21T00:36:00.196646Z",
     "start_time": "2023-06-21T00:35:59.823616Z"
    }
   },
   "outputs": [
    {
     "data": {
      "image/png": "[encoded data removed]",
      "text/plain": [
       "<Figure size 432x288 with 1 Axes>"
      ]
     },
     "metadata": {
      "needs_background": "light"
     },
     "output_type": "display_data"
    }
   ],
   "source": [
    "sns.histplot(zips, bins = 20);"
   ]
  },
  {
   "cell_type": "markdown",
   "metadata": {},
   "source": [
    "The distribution of the zip codes skews right, with with most zip codes changing the sale price from about -\\\\$250,000 to \\\\$500,000 and a handfull of zip codes that raise the price of a home significantly up to \\\\$1,711,924."
   ]
  },
  {
   "cell_type": "code",
   "execution_count": null,
   "metadata": {},
   "outputs": [],
   "source": []
  },
  {
   "cell_type": "code",
   "execution_count": null,
   "metadata": {},
   "outputs": [],
   "source": []
  }
 ],
 "metadata": {
  "kernelspec": {
   "display_name": "Python (learn-env3)",
   "language": "python",
   "name": "learn-env3"
  },
  "language_info": {
   "codemirror_mode": {
    "name": "ipython",
    "version": 3
   },
   "file_extension": ".py",
   "mimetype": "text/x-python",
   "name": "python",
   "nbconvert_exporter": "python",
   "pygments_lexer": "ipython3",
   "version": "3.8.5"
  }
 },
 "nbformat": 4,
 "nbformat_minor": 4
}
