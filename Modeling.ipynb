{
 "cells": [
  {
   "cell_type": "code",
   "execution_count": 1,
   "metadata": {
    "ExecuteTime": {
     "end_time": "2023-06-19T13:23:01.300479Z",
     "start_time": "2023-06-19T13:22:59.867798Z"
    }
   },
   "outputs": [],
   "source": [
    "import pandas as pd\n",
    "import numpy as np\n",
    "import matplotlib.pyplot as plt\n",
    "import seaborn as sns\n",
    "import statsmodels.api as sm\n",
    "from scipy import stats\n",
    "df = pd.read_csv('data/data_clean.csv')"
   ]
  },
  {
   "cell_type": "code",
   "execution_count": 2,
   "metadata": {
    "ExecuteTime": {
     "end_time": "2023-06-19T13:23:01.307487Z",
     "start_time": "2023-06-19T13:23:01.303153Z"
    }
   },
   "outputs": [],
   "source": [
    "def model_diag(results):\n",
    "    rmse = round(((results.resid ** 2).sum() / len(y)) ** 0.5,0)/1000\n",
    "    mae = round(results.resid.abs().sum() / len(y),0)/1000\n",
    "    print(f'MAE:{mae}, RMSE: {rmse}')\n",
    "    print(results.summary())\n",
    "    fig, ax = plt.subplots(1,3,figsize=(20,5))\n",
    "    sns.scatterplot(x= df['sqft_living_norm'],y= results.resid, ax=ax[0])\n",
    "    sns.histplot(results.resid, bins=20, element=\"step\", kde=True, ax=ax[1])\n",
    "    sm.graphics.qqplot(results.resid, dist=stats.norm, line='45', fit=True, ax=ax[2])\n",
    "    plt.show();"
   ]
  },
  {
   "cell_type": "code",
   "execution_count": 3,
   "metadata": {
    "ExecuteTime": {
     "end_time": "2023-06-19T13:23:02.871193Z",
     "start_time": "2023-06-19T13:23:02.864085Z"
    }
   },
   "outputs": [],
   "source": [
    "def result_df(results):\n",
    "    \"\"\"\n",
    "    This function takes a results object and creates a dataframe with a single row\n",
    "    including adjusted R-squared, Mean Absolute Error, the number of p-values greater\n",
    "    than 0.05 from the coefficients, and Conditional Number. \n",
    "    \"\"\"\n",
    "    res_dic = {}\n",
    "    res_dic['features'] = len(results.params)\n",
    "    res_dic['r2_adj'] = round(results.rsquared_adj * 100, 2)\n",
    "    res_dic['MAE'] = round(results.resid.abs().sum() / len(y),0)\n",
    "    res_dic['large_pvals'] = (results.pvalues.apply(lambda x: round(x, 2))\n",
    "                              > 0.05).sum()\n",
    "    res_dic['cond_num'] = results.condition_number\n",
    "    pvals = results.pvalues.apply(lambda x: round(x, 2))\n",
    "    large_pvals = list(pvals[pvals > 0.05].index)\n",
    "    if len(large_pvals) == 0:\n",
    "        print(abs(results.params).sort_values())\n",
    "    else:\n",
    "        print(f'Large_pvals: {list(pvals[pvals>0.05].index)}')\n",
    "    return pd.DataFrame(res_dic, index=[0])"
   ]
  },
  {
   "cell_type": "code",
   "execution_count": null,
   "metadata": {},
   "outputs": [],
   "source": [
    "df.groupby('zipcode').mean()['price'].sort_values()[df.groupby('zipcode').mean()['price'].sort_values()==956097.5794491526]"
   ]
  },
  {
   "cell_type": "markdown",
   "metadata": {},
   "source": [
    "# Baseline"
   ]
  },
  {
   "cell_type": "code",
   "execution_count": null,
   "metadata": {},
   "outputs": [],
   "source": [
    "# Since sqft_living is the feature with the strongest correlation, let's build a simple linear regression with that.\n",
    "y = df['price']\n",
    "X = df['sqft_living_norm']\n",
    "model = sm.OLS(y, sm.add_constant(X))\n",
    "baseline_results = model.fit()\n",
    "model_diag(baseline_results)"
   ]
  },
  {
   "cell_type": "markdown",
   "metadata": {},
   "source": [
    "# Model Iteration"
   ]
  },
  {
   "cell_type": "code",
   "execution_count": null,
   "metadata": {
    "scrolled": true
   },
   "outputs": [],
   "source": [
    "#1 Starting with all features selected based on EDA\n",
    "keep_X = df[[\n",
    "    'sqft_living_norm', 'bathrooms_norm', 'bedrooms_norm', 'view_norm',\n",
    "    'sqft_basement_norm', 'floors_norm', 'greenbelt', 'waterfront', 'zipcode'\n",
    "]]\n",
    "y = df['price']\n",
    "\n",
    "# Creating dummy variables for categorical features. Dropping properties not the greenbelt, not on the waterfront,\n",
    "# and the zipcode with the median average price.\n",
    "X = pd.get_dummies(keep_X, columns=[\n",
    "    'greenbelt', 'waterfront', 'zipcode'\n",
    "]).drop(columns=['greenbelt_0.0', 'waterfront_0.0', 'zipcode_98059.0'])\n",
    "\n",
    "model = sm.OLS(y, sm.add_constant(X))\n",
    "results = model.fit()\n",
    "res_df = result_df(results)\n",
    "res_df"
   ]
  },
  {
   "cell_type": "code",
   "execution_count": null,
   "metadata": {},
   "outputs": [],
   "source": [
    "#2 Dropping large p-values.\n",
    "keep_X = df[[\n",
    "    'sqft_living_norm', 'bathrooms_norm', 'bedrooms_norm', 'view_norm',\n",
    "    'sqft_basement_norm', 'floors_norm', 'greenbelt', 'waterfront', 'zipcode'\n",
    "]]\n",
    "y = df['price']\n",
    "\n",
    "X = pd.get_dummies(\n",
    "    keep_X, columns=['greenbelt', 'waterfront', 'zipcode']).drop(columns=[\n",
    "        'greenbelt_0.0', 'waterfront_0.0', 'zipcode_98059.0',\n",
    "        'zipcode_98019.0', 'zipcode_98146.0'\n",
    "    ])\n",
    "\n",
    "model = sm.OLS(y, sm.add_constant(X))\n",
    "results = model.fit()\n",
    "res_df = res_df.append(result_df(results),ignore_index=True)\n",
    "res_df"
   ]
  },
  {
   "cell_type": "code",
   "execution_count": null,
   "metadata": {},
   "outputs": [],
   "source": [
    "#3 Dropping bathrooms\n",
    "keep_X = df[[\n",
    "    'sqft_living_norm', 'bedrooms_norm', 'view_norm',\n",
    "    'sqft_basement_norm', 'floors_norm', 'greenbelt', 'waterfront', 'zipcode'\n",
    "]]\n",
    "y = df['price']\n",
    "\n",
    "X = pd.get_dummies(\n",
    "    keep_X, columns=['greenbelt', 'waterfront', 'zipcode']).drop(columns=[\n",
    "        'greenbelt_0.0', 'waterfront_0.0', 'zipcode_98059.0',\n",
    "        'zipcode_98019.0', 'zipcode_98146.0'\n",
    "    ])\n",
    "\n",
    "model = sm.OLS(y, sm.add_constant(X))\n",
    "results = model.fit()\n",
    "res_df = res_df.append(result_df(results),ignore_index=True)\n",
    "res_df"
   ]
  },
  {
   "cell_type": "code",
   "execution_count": null,
   "metadata": {},
   "outputs": [],
   "source": [
    "#4 Dropping floors\n",
    "keep_X = df[[\n",
    "    'sqft_living_norm', 'bedrooms_norm', 'view_norm', 'sqft_basement_norm',\n",
    "    'greenbelt', 'waterfront', 'zipcode'\n",
    "]]\n",
    "y = df['price']\n",
    "\n",
    "X = pd.get_dummies(\n",
    "    keep_X, columns=['greenbelt', 'waterfront', 'zipcode']).drop(columns=[\n",
    "        'greenbelt_0.0', 'waterfront_0.0', 'zipcode_98059.0',\n",
    "        'zipcode_98019.0', 'zipcode_98146.0'\n",
    "    ])\n",
    "\n",
    "model = sm.OLS(y, sm.add_constant(X))\n",
    "results = model.fit()\n",
    "res_df = res_df.append(result_df(results),ignore_index=True)\n",
    "res_df"
   ]
  },
  {
   "cell_type": "code",
   "execution_count": null,
   "metadata": {},
   "outputs": [],
   "source": [
    "#5 Dropping greenbelt\n",
    "keep_X = df[[\n",
    "    'sqft_living_norm', 'bedrooms_norm', 'view_norm', 'sqft_basement_norm',\n",
    "    'waterfront', 'zipcode'\n",
    "]]\n",
    "y = df['price']\n",
    "\n",
    "X = pd.get_dummies(keep_X, columns=['waterfront', 'zipcode']).drop(columns=[\n",
    "    'waterfront_0.0', 'zipcode_98059.0', 'zipcode_98019.0', 'zipcode_98146.0'\n",
    "])\n",
    "\n",
    "model = sm.OLS(y, sm.add_constant(X))\n",
    "results = model.fit()\n",
    "res_df = res_df.append(result_df(results),ignore_index=True)\n",
    "res_df"
   ]
  },
  {
   "cell_type": "code",
   "execution_count": null,
   "metadata": {},
   "outputs": [],
   "source": [
    "#6 Dropping bedrooms\n",
    "keep_X = df[[\n",
    "    'sqft_living_norm', 'view_norm', 'sqft_basement_norm',\n",
    "    'waterfront', 'zipcode'\n",
    "]]\n",
    "y = df['price']\n",
    "\n",
    "X = pd.get_dummies(keep_X, columns=['waterfront', 'zipcode']).drop(columns=[\n",
    "    'waterfront_0.0', 'zipcode_98059.0', 'zipcode_98019.0', 'zipcode_98146.0'\n",
    "])\n",
    "\n",
    "model = sm.OLS(y, sm.add_constant(X))\n",
    "results = model.fit()\n",
    "res_df = res_df.append(result_df(results),ignore_index=True)\n",
    "res_df"
   ]
  },
  {
   "cell_type": "code",
   "execution_count": null,
   "metadata": {},
   "outputs": [],
   "source": [
    "#7 Dropping sqft_basement\n",
    "keep_X = df[['sqft_living_norm', 'view_norm', 'waterfront', 'zipcode']]\n",
    "y = df['price']\n",
    "\n",
    "X = pd.get_dummies(keep_X, columns=['waterfront', 'zipcode']).drop(columns=[\n",
    "    'waterfront_0.0', 'zipcode_98059.0', 'zipcode_98019.0', 'zipcode_98146.0'\n",
    "])\n",
    "\n",
    "model = sm.OLS(y, sm.add_constant(X))\n",
    "results = model.fit()\n",
    "res_df = res_df.append(result_df(results),ignore_index=True)\n",
    "res_df"
   ]
  },
  {
   "cell_type": "code",
   "execution_count": null,
   "metadata": {},
   "outputs": [],
   "source": [
    "#8 Dropping large p-values\n",
    "keep_X = df[['sqft_living_norm', 'view_norm', 'waterfront', 'zipcode']]\n",
    "y = df['price']\n",
    "\n",
    "X = pd.get_dummies(keep_X, columns=['waterfront', 'zipcode']).drop(columns=[\n",
    "    'waterfront_0.0', 'zipcode_98059.0', 'zipcode_98019.0', 'zipcode_98146.0',\n",
    "    'zipcode_98045.0', 'zipcode_98106.0', 'zipcode_98108.0'\n",
    "])\n",
    "\n",
    "model = sm.OLS(y, sm.add_constant(X))\n",
    "results = model.fit()\n",
    "res_df = res_df.append(result_df(results),ignore_index=True)\n",
    "res_df"
   ]
  },
  {
   "cell_type": "code",
   "execution_count": null,
   "metadata": {},
   "outputs": [],
   "source": [
    "#9 Dropping view\n",
    "keep_X = df[['sqft_living_norm', 'waterfront', 'zipcode']]\n",
    "y = df['price']\n",
    "\n",
    "X = pd.get_dummies(keep_X, columns=['waterfront', 'zipcode']).drop(columns=[\n",
    "    'waterfront_0.0', 'zipcode_98059.0', 'zipcode_98019.0', 'zipcode_98146.0',\n",
    "    'zipcode_98045.0', 'zipcode_98106.0', 'zipcode_98108.0'\n",
    "])\n",
    "\n",
    "model = sm.OLS(y, sm.add_constant(X))\n",
    "results = model.fit()\n",
    "res_df = res_df.append(result_df(results),ignore_index=True)\n",
    "res_df"
   ]
  },
  {
   "cell_type": "code",
   "execution_count": null,
   "metadata": {},
   "outputs": [],
   "source": [
    "#10 Dropping large p-value\n",
    "keep_X = df[['sqft_living_norm', 'waterfront', 'zipcode']]\n",
    "y = df['price']\n",
    "\n",
    "X = pd.get_dummies(keep_X, columns=['waterfront', 'zipcode']).drop(columns=[\n",
    "    'waterfront_0.0', 'zipcode_98059.0', 'zipcode_98019.0', 'zipcode_98146.0',\n",
    "    'zipcode_98045.0', 'zipcode_98106.0', 'zipcode_98108.0','zipcode_98166.0'\n",
    "])\n",
    "\n",
    "model = sm.OLS(y, sm.add_constant(X))\n",
    "results = model.fit()\n",
    "res_df = res_df.append(result_df(results),ignore_index=True)\n",
    "res_df"
   ]
  },
  {
   "cell_type": "code",
   "execution_count": null,
   "metadata": {},
   "outputs": [],
   "source": [
    "#11a Testing what it would look like to drop zipcode\n",
    "keep_X = df[['sqft_living_norm', 'waterfront']]\n",
    "y = df['price']\n",
    "\n",
    "X = pd.get_dummies(keep_X, columns=['waterfront']).drop(columns=[\n",
    "    'waterfront_0.0'])\n",
    "\n",
    "model = sm.OLS(y, sm.add_constant(X))\n",
    "results = model.fit()\n",
    "result_df(results)"
   ]
  },
  {
   "cell_type": "code",
   "execution_count": null,
   "metadata": {},
   "outputs": [],
   "source": [
    "#11b Testing what it would look like to drop waterfront\n",
    "keep_X = df[['sqft_living_norm', 'zipcode']]\n",
    "y = df['price']\n",
    "\n",
    "X = pd.get_dummies(keep_X, columns=['zipcode']).drop(columns=[\n",
    "    'zipcode_98059.0', 'zipcode_98019.0', 'zipcode_98146.0', 'zipcode_98045.0',\n",
    "    'zipcode_98106.0', 'zipcode_98108.0', 'zipcode_98166.0'\n",
    "])\n",
    "\n",
    "model = sm.OLS(y, sm.add_constant(X))\n",
    "results = model.fit()\n",
    "res_df = res_df.append(result_df(results),ignore_index=True)\n",
    "res_df\n",
    "# I'm choosing to drop waterfront given this model has a significantly\n",
    "# higher adjusted R-squared and lower Mean Absolute Error"
   ]
  },
  {
   "cell_type": "code",
   "execution_count": null,
   "metadata": {},
   "outputs": [],
   "source": [
    "#12 Dropping large p-values\n",
    "keep_X = df[['sqft_living_norm', 'zipcode']]\n",
    "y = df['price']\n",
    "\n",
    "X = pd.get_dummies(keep_X, columns=['zipcode']).drop(columns=[\n",
    "    'zipcode_98059.0', 'zipcode_98019.0', 'zipcode_98146.0', 'zipcode_98045.0',\n",
    "    'zipcode_98106.0', 'zipcode_98108.0', 'zipcode_98166.0', 'zipcode_98014.0',\n",
    "    'zipcode_98051.0', 'zipcode_98288.0'\n",
    "])\n",
    "\n",
    "model = sm.OLS(y, sm.add_constant(X))\n",
    "results = model.fit()\n",
    "res_df = res_df.append(result_df(results),ignore_index=True)\n",
    "res_df\n"
   ]
  },
  {
   "cell_type": "code",
   "execution_count": null,
   "metadata": {},
   "outputs": [],
   "source": [
    "#13 Including top 50 zipcodes\n",
    "keep_X = df[['sqft_living_norm', 'zipcode']]\n",
    "y = df['price']\n",
    "\n",
    "X = pd.get_dummies(keep_X, columns=['zipcode']).drop(columns=[\n",
    "    'zipcode_98059.0', 'zipcode_98019.0', 'zipcode_98146.0', 'zipcode_98045.0',\n",
    "    'zipcode_98106.0', 'zipcode_98108.0', 'zipcode_98166.0', 'zipcode_98014.0',\n",
    "    'zipcode_98051.0', 'zipcode_98288.0', 'zipcode_98056.0', 'zipcode_98178.0',\n",
    "    'zipcode_98065.0', 'zipcode_98118.0', 'zipcode_98133.0', 'zipcode_98057.0',\n",
    "    'zipcode_98155.0', 'zipcode_98126.0', 'zipcode_98070.0', 'zipcode_98168.0',\n",
    "    'zipcode_98148.0', 'zipcode_98198.0', 'zipcode_98028.0', 'zipcode_98058.0',\n",
    "    'zipcode_98188.0'\n",
    "])\n",
    "\n",
    "model = sm.OLS(y, sm.add_constant(X))\n",
    "results = model.fit()\n",
    "res_df = res_df.append(result_df(results),ignore_index=True)\n",
    "res_df\n",
    "\n"
   ]
  },
  {
   "cell_type": "code",
   "execution_count": null,
   "metadata": {},
   "outputs": [],
   "source": [
    "#14 Including top 40 zipcodes\n",
    "keep_X = df[['sqft_living_norm', 'zipcode']]\n",
    "y = df['price']\n",
    "\n",
    "X = pd.get_dummies(keep_X, columns=['zipcode']).drop(columns=[\n",
    "    'zipcode_98059.0', 'zipcode_98019.0', 'zipcode_98146.0', 'zipcode_98045.0',\n",
    "    'zipcode_98106.0', 'zipcode_98108.0', 'zipcode_98166.0', 'zipcode_98014.0',\n",
    "    'zipcode_98051.0', 'zipcode_98288.0', 'zipcode_98056.0', 'zipcode_98178.0',\n",
    "    'zipcode_98065.0', 'zipcode_98118.0', 'zipcode_98133.0', 'zipcode_98057.0',\n",
    "    'zipcode_98155.0', 'zipcode_98126.0', 'zipcode_98070.0', 'zipcode_98168.0',\n",
    "    'zipcode_98148.0', 'zipcode_98198.0', 'zipcode_98028.0', 'zipcode_98058.0',\n",
    "    'zipcode_98188.0', 'zipcode_98024.0', 'zipcode_98125.0', 'zipcode_98038.0',\n",
    "    'zipcode_98055.0', 'zipcode_98354.0', 'zipcode_98047.0', 'zipcode_98032.0',\n",
    "    'zipcode_98002.0', 'zipcode_98072.0', 'zipcode_98011.0'\n",
    "])\n",
    "\n",
    "model = sm.OLS(y, sm.add_constant(X))\n",
    "results = model.fit()\n",
    "res_df = res_df.append(result_df(results),ignore_index=True)\n",
    "res_df"
   ]
  },
  {
   "cell_type": "code",
   "execution_count": null,
   "metadata": {},
   "outputs": [],
   "source": [
    "#15 Including top 30 zipcodes\n",
    "keep_X = df[['sqft_living_norm', 'zipcode']]\n",
    "y = df['price']\n",
    "\n",
    "X = pd.get_dummies(keep_X, columns=['zipcode']).drop(columns=[\n",
    "    'zipcode_98059.0', 'zipcode_98019.0', 'zipcode_98146.0', 'zipcode_98045.0',\n",
    "    'zipcode_98106.0', 'zipcode_98108.0', 'zipcode_98166.0', 'zipcode_98014.0',\n",
    "    'zipcode_98051.0', 'zipcode_98288.0', 'zipcode_98056.0', 'zipcode_98178.0',\n",
    "    'zipcode_98065.0', 'zipcode_98118.0', 'zipcode_98133.0', 'zipcode_98057.0',\n",
    "    'zipcode_98155.0', 'zipcode_98126.0', 'zipcode_98070.0', 'zipcode_98168.0',\n",
    "    'zipcode_98148.0', 'zipcode_98198.0', 'zipcode_98028.0', 'zipcode_98058.0',\n",
    "    'zipcode_98188.0', 'zipcode_98024.0', 'zipcode_98125.0', 'zipcode_98038.0',\n",
    "    'zipcode_98055.0', 'zipcode_98354.0', 'zipcode_98047.0', 'zipcode_98032.0',\n",
    "    'zipcode_98002.0', 'zipcode_98072.0', 'zipcode_98011.0', 'zipcode_98031.0',\n",
    "    'zipcode_98003.0', 'zipcode_98022.0', 'zipcode_98030.0', 'zipcode_98042.0',\n",
    "    'zipcode_98144.0', 'zipcode_98010.0', 'zipcode_98177.0', 'zipcode_98001.0',\n",
    "    'zipcode_98023.0'\n",
    "])\n",
    "model = sm.OLS(y, sm.add_constant(X))\n",
    "results = model.fit()\n",
    "res_df = res_df.append(result_df(results),ignore_index=True)\n",
    "res_df"
   ]
  },
  {
   "cell_type": "code",
   "execution_count": null,
   "metadata": {},
   "outputs": [],
   "source": [
    "#16 Including top 20 zipcodes\n",
    "keep_X = df[['sqft_living_norm', 'zipcode']]\n",
    "y = df['price']\n",
    "\n",
    "X = pd.get_dummies(keep_X, columns=['zipcode']).drop(columns=[\n",
    "    'zipcode_98059.0', 'zipcode_98019.0', 'zipcode_98146.0', 'zipcode_98045.0',\n",
    "    'zipcode_98106.0', 'zipcode_98108.0', 'zipcode_98166.0', 'zipcode_98014.0',\n",
    "    'zipcode_98051.0', 'zipcode_98288.0', 'zipcode_98056.0', 'zipcode_98178.0',\n",
    "    'zipcode_98065.0', 'zipcode_98118.0', 'zipcode_98133.0', 'zipcode_98057.0',\n",
    "    'zipcode_98155.0', 'zipcode_98126.0', 'zipcode_98070.0', 'zipcode_98168.0',\n",
    "    'zipcode_98148.0', 'zipcode_98198.0', 'zipcode_98028.0', 'zipcode_98058.0',\n",
    "    'zipcode_98188.0', 'zipcode_98024.0', 'zipcode_98125.0', 'zipcode_98038.0',\n",
    "    'zipcode_98055.0', 'zipcode_98354.0', 'zipcode_98047.0', 'zipcode_98032.0',\n",
    "    'zipcode_98002.0', 'zipcode_98072.0', 'zipcode_98011.0', 'zipcode_98031.0',\n",
    "    'zipcode_98003.0', 'zipcode_98022.0', 'zipcode_98030.0', 'zipcode_98042.0',\n",
    "    'zipcode_98144.0', 'zipcode_98010.0', 'zipcode_98177.0', 'zipcode_98001.0',\n",
    "    'zipcode_98023.0', 'zipcode_98092.0', 'zipcode_98136.0', 'zipcode_98077.0',\n",
    "    'zipcode_98027.0', 'zipcode_98117.0', 'zipcode_98116.0', 'zipcode_98107.0',\n",
    "    'zipcode_98053.0', 'zipcode_98034.0', 'zipcode_98115.0'\n",
    "])\n",
    "model = sm.OLS(y, sm.add_constant(X))\n",
    "results = model.fit()\n",
    "res_df = res_df.append(result_df(results),ignore_index=True)\n",
    "res_df"
   ]
  },
  {
   "cell_type": "code",
   "execution_count": null,
   "metadata": {},
   "outputs": [],
   "source": [
    "#17 Including top 10 zipcodes\n",
    "keep_X = df[['sqft_living_norm', 'zipcode']]\n",
    "y = df['price']\n",
    "\n",
    "X = pd.get_dummies(keep_X, columns=['zipcode']).drop(columns=[\n",
    "    'zipcode_98059.0', 'zipcode_98019.0', 'zipcode_98146.0', 'zipcode_98045.0',\n",
    "    'zipcode_98106.0', 'zipcode_98108.0', 'zipcode_98166.0', 'zipcode_98014.0',\n",
    "    'zipcode_98051.0', 'zipcode_98288.0', 'zipcode_98056.0', 'zipcode_98178.0',\n",
    "    'zipcode_98065.0', 'zipcode_98118.0', 'zipcode_98133.0', 'zipcode_98057.0',\n",
    "    'zipcode_98155.0', 'zipcode_98126.0', 'zipcode_98070.0', 'zipcode_98168.0',\n",
    "    'zipcode_98148.0', 'zipcode_98198.0', 'zipcode_98028.0', 'zipcode_98058.0',\n",
    "    'zipcode_98188.0', 'zipcode_98024.0', 'zipcode_98125.0', 'zipcode_98038.0',\n",
    "    'zipcode_98055.0', 'zipcode_98354.0', 'zipcode_98047.0', 'zipcode_98032.0',\n",
    "    'zipcode_98002.0', 'zipcode_98072.0', 'zipcode_98011.0', 'zipcode_98031.0',\n",
    "    'zipcode_98003.0', 'zipcode_98022.0', 'zipcode_98030.0', 'zipcode_98042.0',\n",
    "    'zipcode_98144.0', 'zipcode_98010.0', 'zipcode_98177.0', 'zipcode_98001.0',\n",
    "    'zipcode_98023.0', 'zipcode_98092.0', 'zipcode_98136.0', 'zipcode_98077.0',\n",
    "    'zipcode_98027.0', 'zipcode_98117.0', 'zipcode_98116.0', 'zipcode_98107.0',\n",
    "    'zipcode_98053.0', 'zipcode_98034.0', 'zipcode_98115.0', 'zipcode_98103.0',\n",
    "    'zipcode_98122.0', 'zipcode_98029.0', 'zipcode_98074.0', 'zipcode_98007.0',\n",
    "    'zipcode_98075.0', 'zipcode_98052.0', 'zipcode_98105.0', 'zipcode_98199.0',\n",
    "    'zipcode_98119.0'\n",
    "])\n",
    "model = sm.OLS(y, sm.add_constant(X))\n",
    "results = model.fit()\n",
    "res_df = res_df.append(result_df(results),ignore_index=True)\n",
    "res_df"
   ]
  },
  {
   "cell_type": "code",
   "execution_count": null,
   "metadata": {},
   "outputs": [],
   "source": [
    "#18 Including top 5 zipcodes\n",
    "keep_X = df[['sqft_living_norm', 'zipcode']]\n",
    "y = df['price']\n",
    "\n",
    "X = pd.get_dummies(keep_X, columns=['zipcode']).drop(columns=[\n",
    "    'zipcode_98059.0', 'zipcode_98019.0', 'zipcode_98146.0', 'zipcode_98045.0',\n",
    "    'zipcode_98106.0', 'zipcode_98108.0', 'zipcode_98166.0', 'zipcode_98014.0',\n",
    "    'zipcode_98051.0', 'zipcode_98288.0', 'zipcode_98056.0', 'zipcode_98178.0',\n",
    "    'zipcode_98065.0', 'zipcode_98118.0', 'zipcode_98133.0', 'zipcode_98057.0',\n",
    "    'zipcode_98155.0', 'zipcode_98126.0', 'zipcode_98070.0', 'zipcode_98168.0',\n",
    "    'zipcode_98148.0', 'zipcode_98198.0', 'zipcode_98028.0', 'zipcode_98058.0',\n",
    "    'zipcode_98188.0', 'zipcode_98024.0', 'zipcode_98125.0', 'zipcode_98038.0',\n",
    "    'zipcode_98055.0', 'zipcode_98354.0', 'zipcode_98047.0', 'zipcode_98032.0',\n",
    "    'zipcode_98002.0', 'zipcode_98072.0', 'zipcode_98011.0', 'zipcode_98031.0',\n",
    "    'zipcode_98003.0', 'zipcode_98022.0', 'zipcode_98030.0', 'zipcode_98042.0',\n",
    "    'zipcode_98144.0', 'zipcode_98010.0', 'zipcode_98177.0', 'zipcode_98001.0',\n",
    "    'zipcode_98023.0', 'zipcode_98092.0', 'zipcode_98136.0', 'zipcode_98077.0',\n",
    "    'zipcode_98027.0', 'zipcode_98117.0', 'zipcode_98116.0', 'zipcode_98107.0',\n",
    "    'zipcode_98053.0', 'zipcode_98034.0', 'zipcode_98115.0', 'zipcode_98103.0',\n",
    "    'zipcode_98122.0', 'zipcode_98029.0', 'zipcode_98074.0', 'zipcode_98007.0',\n",
    "    'zipcode_98075.0', 'zipcode_98052.0', 'zipcode_98105.0', 'zipcode_98199.0',\n",
    "    'zipcode_98119.0', 'zipcode_98004.0', 'zipcode_98005.0', 'zipcode_98006.0',\n",
    "    'zipcode_98008.0', 'zipcode_98033.0'\n",
    "])\n",
    "model = sm.OLS(y, sm.add_constant(X))\n",
    "results = model.fit()\n",
    "res_df = res_df.append(result_df(results),ignore_index=True)\n",
    "res_df"
   ]
  },
  {
   "cell_type": "code",
   "execution_count": null,
   "metadata": {},
   "outputs": [],
   "source": []
  },
  {
   "cell_type": "markdown",
   "metadata": {},
   "source": [
    "# Final Model"
   ]
  },
  {
   "cell_type": "code",
   "execution_count": null,
   "metadata": {},
   "outputs": [],
   "source": [
    "#12 Final\n",
    "keep_X = df[['sqft_living_norm', 'zipcode']]\n",
    "keep_X = df[['sqft_living_norm', 'zipcode']]\n",
    "y = df['price']\n",
    "\n",
    "X = pd.get_dummies(keep_X, columns=['zipcode']).drop(columns=[\n",
    "    'zipcode_98059.0', 'zipcode_98019.0', 'zipcode_98146.0', 'zipcode_98045.0',\n",
    "    'zipcode_98106.0', 'zipcode_98108.0', 'zipcode_98166.0', 'zipcode_98014.0',\n",
    "    'zipcode_98051.0', 'zipcode_98288.0'\n",
    "])\n",
    "\n",
    "model = sm.OLS(y, sm.add_constant(X))\n",
    "final_results = model.fit()\n",
    "model_diag(final_results)"
   ]
  },
  {
   "cell_type": "markdown",
   "metadata": {},
   "source": [
    "# Model Evaluation"
   ]
  },
  {
   "cell_type": "code",
   "execution_count": null,
   "metadata": {},
   "outputs": [],
   "source": [
    "plt.style.available"
   ]
  },
  {
   "cell_type": "code",
   "execution_count": null,
   "metadata": {},
   "outputs": [],
   "source": [
    "plt.style.use(\"seaborn-muted\")\n"
   ]
  },
  {
   "cell_type": "code",
   "execution_count": null,
   "metadata": {},
   "outputs": [],
   "source": [
    "fig,ax = plt.subplots(figsize = (5,5))\n",
    "ax.scatter\n",
    "sm.graphics.plot_fit(baseline_results, \"sqft_living_norm\",ax=ax,marker='.',)\n",
    "plt.show()"
   ]
  },
  {
   "cell_type": "code",
   "execution_count": null,
   "metadata": {},
   "outputs": [],
   "source": [
    "fig, ax = plt.subplots()\n",
    "df.plot.scatter(x=\"sqft_living_norm\", y=\"price\", label=\"Data points\", ax=ax,alpha=0.1)\n",
    "sm.graphics.abline_plot(model_results=baseline_results, label=\"Regression line\", ax=ax, color=\"black\")\n",
    "ax.legend();"
   ]
  },
  {
   "cell_type": "code",
   "execution_count": null,
   "metadata": {},
   "outputs": [],
   "source": [
    "fig, ax = plt.subplots()\n",
    "\n",
    "ax.scatter(df[\"price\"], baseline_results.resid, alpha=0.2)\n",
    "ax.axhline(y=0, color=\"black\")\n",
    "ax.set_xlabel(\"price\")\n",
    "ax.set_ylabel(\"residuals\");"
   ]
  },
  {
   "cell_type": "code",
   "execution_count": null,
   "metadata": {},
   "outputs": [],
   "source": []
  },
  {
   "cell_type": "code",
   "execution_count": null,
   "metadata": {},
   "outputs": [],
   "source": [
    "sm.graphics.plot_fit(final_results, \"sqft_living_norm\",marker='.')\n",
    "plt.show()"
   ]
  },
  {
   "cell_type": "code",
   "execution_count": null,
   "metadata": {},
   "outputs": [],
   "source": [
    "fig = plt.figure(figsize=(12,10))\n",
    "sm.graphics.plot_regress_exog(final_results, \"sqft_living_norm\", fig=fig)\n",
    "plt.show()"
   ]
  },
  {
   "cell_type": "code",
   "execution_count": null,
   "metadata": {},
   "outputs": [],
   "source": [
    "fig = plt.figure(figsize=(12,10))\n",
    "sm.graphics.plot_regress_exog(baseline_results, \"sqft_living_norm\", fig=fig)\n",
    "plt.show()"
   ]
  },
  {
   "cell_type": "code",
   "execution_count": null,
   "metadata": {},
   "outputs": [],
   "source": []
  }
 ],
 "metadata": {
  "kernelspec": {
   "display_name": "Python (learn-env3)",
   "language": "python",
   "name": "learn-env3"
  },
  "language_info": {
   "codemirror_mode": {
    "name": "ipython",
    "version": 3
   },
   "file_extension": ".py",
   "mimetype": "text/x-python",
   "name": "python",
   "nbconvert_exporter": "python",
   "pygments_lexer": "ipython3",
   "version": "3.8.5"
  }
 },
 "nbformat": 4,
 "nbformat_minor": 4
}
