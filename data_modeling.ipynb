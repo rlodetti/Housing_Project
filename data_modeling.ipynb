{
 "cells": [
  {
   "cell_type": "code",
   "execution_count": 28,
   "metadata": {
    "ExecuteTime": {
     "end_time": "2023-06-22T09:27:11.188538Z",
     "start_time": "2023-06-22T09:27:10.816537Z"
    }
   },
   "outputs": [],
   "source": [
    "# Importing libraries and cleaned data.\n",
    "import pandas as pd\n",
    "import numpy as np\n",
    "import matplotlib.pyplot as plt\n",
    "import seaborn as sns\n",
    "sns.set_context(\"notebook\")\n",
    "df = pd.read_csv('data/data_clean.csv')"
   ]
  },
  {
   "cell_type": "code",
   "execution_count": null,
   "metadata": {},
   "outputs": [],
   "source": [
    "def baseline(df):\n",
    "    y = df['price']\n",
    "    X = df['sqft_living']\n",
    "    model = sm.OLS(y, sm.add_constant(X))\n",
    "    results = model.fit()\n",
    "    return results\n",
    "\n",
    "\n",
    "def final_res(df):\n",
    "    features = ['sqft_living_norm', 'waterfront', 'zipcode']\n",
    "    y = df['price']\n",
    "    X = pd.get_dummies(df[features]).drop(columns=[\n",
    "        'zipcode_98059', 'zipcode_98019', 'zipcode_98045', 'zipcode_98106',\n",
    "        'zipcode_98108', 'zipcode_98146', 'zipcode_98166', 'zipcode_98014',\n",
    "        'zipcode_98051', 'zipcode_98070'\n",
    "    ])\n",
    "    model = sm.OLS(y, sm.add_constant(X))\n",
    "    results = model.fit()\n",
    "    return results\n",
    "\n",
    "\n",
    "def RFE_df(df):\n",
    "    \"\"\"\n",
    "    This function goes runs MLR models and removes the any p-values larger\n",
    "    than 0.01. If there are none, it removes the feature with the smallest \n",
    "    absolute coefficient. It then adds a row and creates a dataframe with \n",
    "    relevent metrics. \n",
    "    \"\"\"\n",
    "    pd.set_option('display.max_rows', None)\n",
    "    res_df = pd.DataFrame({})\n",
    "    to_drop = ['zipcode_98059']\n",
    "    features = [\n",
    "        'sqft_living_norm', 'bathrooms_norm', 'bedrooms_norm', 'view_norm',\n",
    "        'sqft_basement_norm', 'greenbelt', 'waterfront', 'zipcode'\n",
    "    ]\n",
    "    dropped = None\n",
    "    num_features = 3\n",
    "    while num_features > 2:\n",
    "        y = df['price']\n",
    "        X = pd.get_dummies(df[features]).drop(columns=to_drop)\n",
    "        model = sm.OLS(y, sm.add_constant(X))\n",
    "        results = model.fit()\n",
    "        res_dic = {}\n",
    "        num_features = len(results.params)\n",
    "        res_dic['num_features'] = num_features\n",
    "        res_dic['r2_adj'] = str(round(results.rsquared_adj * 100, 2)) + '%'\n",
    "        res_dic['f_pvalue'] = round(results.f_pvalue, 3)\n",
    "        mae = str(int(results.resid.abs().sum() / len(y)))\n",
    "        res_dic['MAE'] = '$' + mae[:3] + ',' + mae[3:]\n",
    "        res_dic['large_pvals'] = (results.pvalues.apply(lambda x: round(x, 3))\n",
    "                                  > 0.01).sum()\n",
    "        res_dic['cond_num'] = round(results.condition_number, 2)\n",
    "        res_dic['dropped'] = dropped\n",
    "        pvals = results.pvalues.apply(lambda x: round(x, 3))\n",
    "        large_pvals = list(pvals[pvals > 0.01].index)\n",
    "\n",
    "        if len(large_pvals) == 0:\n",
    "            feat = results.params.abs().sort_values().index[0]\n",
    "            if feat == 'const':\n",
    "                dropped = results.params.abs().sort_values().index[1]\n",
    "            else:\n",
    "                dropped = results.params.abs().sort_values().index[0]\n",
    "            to_drop.append(dropped)\n",
    "        elif len(large_pvals) > 1:\n",
    "            dropped = \"\"\n",
    "            for i in large_pvals[:-1]:\n",
    "                dropped += i + ', '\n",
    "            dropped += large_pvals[-1]\n",
    "            for i in large_pvals:\n",
    "                to_drop.append(i)\n",
    "        else:\n",
    "            dropped = large_pvals[0]\n",
    "            to_drop.append(dropped)\n",
    "        res_df = res_df.append(pd.DataFrame(res_dic, index=[0]),\n",
    "                               ignore_index=True)\n",
    "    return res_df"
   ]
  },
  {
   "cell_type": "code",
   "execution_count": null,
   "metadata": {},
   "outputs": [],
   "source": []
  },
  {
   "cell_type": "code",
   "execution_count": null,
   "metadata": {},
   "outputs": [],
   "source": []
  },
  {
   "cell_type": "code",
   "execution_count": null,
   "metadata": {},
   "outputs": [],
   "source": []
  },
  {
   "cell_type": "code",
   "execution_count": null,
   "metadata": {},
   "outputs": [],
   "source": []
  },
  {
   "cell_type": "code",
   "execution_count": null,
   "metadata": {},
   "outputs": [],
   "source": []
  },
  {
   "cell_type": "code",
   "execution_count": null,
   "metadata": {},
   "outputs": [],
   "source": []
  },
  {
   "cell_type": "code",
   "execution_count": null,
   "metadata": {},
   "outputs": [],
   "source": [
    "def corr_price(df):\n",
    "    feats = ['price', 'sqft_living', 'sqft_lot', 'sqft_basement', 'population',\n",
    "          'density', 'bedrooms', 'bathrooms', 'floors', 'grade', 'view',\n",
    "          'condition', 'waterfront', 'greenbelt', 'nuisance', 'zipcode',\n",
    "          'yr_built', 'yr_last_construction']\n",
    "    return df[feats].corr().abs()['price'].sort_values(ascending=False)\n",
    "\n",
    "def pair_viz(df):\n",
    "    pair = ['price', 'sqft_living', 'sqft_lot', 'sqft_basement', 'population','density']\n",
    "    sns.pairplot(data=df[pair], kind='reg', plot_kws={'line_kws':{'color':'red'}})\n",
    "    plt.show;\n",
    "    \n",
    "def box_viz(df):\n",
    "    box = ['bedrooms', 'bathrooms', 'floors', 'grade', 'view', 'condition','waterfront', 'greenbelt', 'nuisance']\n",
    "    fig, ax = plt.subplots(3, 3, figsize=[20, 20])\n",
    "    for i, j in enumerate(box):\n",
    "        col = i % 3\n",
    "        row = i // 3\n",
    "        axis = ax[row][col]\n",
    "        sns.boxplot(data=df, y='price', x=j, ax=axis)\n",
    "    plt.show();\n",
    "\n",
    "def heat_viz(df):\n",
    "    heat = ['sqft_living','grade','bathrooms','bedrooms','view','sqft_basement','waterfront','greenbelt','zipcode']\n",
    "    fig, ax = plt.subplots(figsize=(8,8))\n",
    "    sns.heatmap(df[heat].corr().abs(), annot=True, ax=ax)\n",
    "    plt.show();"
   ]
  }
 ],
 "metadata": {
  "kernelspec": {
   "display_name": "Python (learn-env3)",
   "language": "python",
   "name": "learn-env3"
  },
  "language_info": {
   "codemirror_mode": {
    "name": "ipython",
    "version": 3
   },
   "file_extension": ".py",
   "mimetype": "text/x-python",
   "name": "python",
   "nbconvert_exporter": "python",
   "pygments_lexer": "ipython3",
   "version": "3.8.5"
  }
 },
 "nbformat": 4,
 "nbformat_minor": 4
}
